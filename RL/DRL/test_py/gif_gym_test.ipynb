{
 "cells": [
  {
   "cell_type": "code",
   "execution_count": 1,
   "metadata": {
    "execution": {
     "iopub.execute_input": "2020-12-09T05:37:43.552296Z",
     "iopub.status.busy": "2020-12-09T05:37:43.551898Z",
     "iopub.status.idle": "2020-12-09T05:37:43.953846Z",
     "shell.execute_reply": "2020-12-09T05:37:43.951602Z",
     "shell.execute_reply.started": "2020-12-09T05:37:43.552252Z"
    }
   },
   "outputs": [],
   "source": [
    "import imageio\n",
    "import shutil\n",
    "import os\n",
    "import gym\n",
    "import matplotlib.pyplot as plt\n",
    "ROOT = 'gym_graph'"
   ]
  },
  {
   "cell_type": "code",
   "execution_count": 2,
   "metadata": {
    "execution": {
     "iopub.execute_input": "2020-12-09T05:37:44.933806Z",
     "iopub.status.busy": "2020-12-09T05:37:44.933335Z",
     "iopub.status.idle": "2020-12-09T05:37:45.094914Z",
     "shell.execute_reply": "2020-12-09T05:37:45.094088Z",
     "shell.execute_reply.started": "2020-12-09T05:37:44.933755Z"
    }
   },
   "outputs": [],
   "source": [
    "env = gym.make('Breakout-v0')\n",
    "env.reset()\n",
    "\n",
    "\n",
    "DIR = os.path.join(ROOT,'temp')\n",
    "try:\n",
    "    os.mkdir(DIR)\n",
    "except:\n",
    "    pass"
   ]
  },
  {
   "cell_type": "code",
   "execution_count": 3,
   "metadata": {
    "execution": {
     "iopub.execute_input": "2020-12-09T05:37:46.882085Z",
     "iopub.status.busy": "2020-12-09T05:37:46.881684Z",
     "iopub.status.idle": "2020-12-09T05:37:47.260854Z",
     "shell.execute_reply": "2020-12-09T05:37:47.260190Z",
     "shell.execute_reply.started": "2020-12-09T05:37:46.882040Z"
    }
   },
   "outputs": [
    {
     "name": "stdout",
     "output_type": "stream",
     "text": [
      "Done\n"
     ]
    }
   ],
   "source": [
    "for i in range(100):\n",
    "    plt.imsave(os.path.join(DIR,str(i)+'.png'),env.render(mode='rgb_array'))\n",
    "    env.step(env.action_space.sample())\n",
    "env.close()\n",
    "print(\"Done\")"
   ]
  },
  {
   "cell_type": "code",
   "execution_count": 4,
   "metadata": {
    "execution": {
     "iopub.execute_input": "2020-12-09T05:37:48.904357Z",
     "iopub.status.busy": "2020-12-09T05:37:48.903859Z",
     "iopub.status.idle": "2020-12-09T05:37:49.025402Z",
     "shell.execute_reply": "2020-12-09T05:37:49.024590Z",
     "shell.execute_reply.started": "2020-12-09T05:37:48.904305Z"
    }
   },
   "outputs": [],
   "source": [
    "images = []\n",
    "for f in os.listdir(DIR):\n",
    "    images.append(imageio.imread(os.path.join(DIR,f)))"
   ]
  },
  {
   "cell_type": "code",
   "execution_count": 6,
   "metadata": {
    "execution": {
     "iopub.execute_input": "2020-12-09T05:38:05.853501Z",
     "iopub.status.busy": "2020-12-09T05:38:05.853021Z",
     "iopub.status.idle": "2020-12-09T05:38:06.027312Z",
     "shell.execute_reply": "2020-12-09T05:38:06.026556Z",
     "shell.execute_reply.started": "2020-12-09T05:38:05.853450Z"
    }
   },
   "outputs": [],
   "source": [
    "imageio.mimsave(os.path.join(ROOT,'2.gif'),images)"
   ]
  },
  {
   "cell_type": "code",
   "execution_count": 7,
   "metadata": {
    "execution": {
     "iopub.execute_input": "2020-12-09T05:38:12.746968Z",
     "iopub.status.busy": "2020-12-09T05:38:12.746491Z",
     "iopub.status.idle": "2020-12-09T05:38:12.766403Z",
     "shell.execute_reply": "2020-12-09T05:38:12.765374Z",
     "shell.execute_reply.started": "2020-12-09T05:38:12.746914Z"
    }
   },
   "outputs": [],
   "source": [
    "shutil.rmtree(DIR)"
   ]
  },
  {
   "cell_type": "code",
   "execution_count": null,
   "metadata": {},
   "outputs": [],
   "source": []
  }
 ],
 "metadata": {
  "kernelspec": {
   "display_name": "Python 3",
   "language": "python",
   "name": "python3"
  },
  "language_info": {
   "codemirror_mode": {
    "name": "ipython",
    "version": 3
   },
   "file_extension": ".py",
   "mimetype": "text/x-python",
   "name": "python",
   "nbconvert_exporter": "python",
   "pygments_lexer": "ipython3",
   "version": "3.7.9"
  }
 },
 "nbformat": 4,
 "nbformat_minor": 4
}
