{
 "cells": [
  {
   "cell_type": "markdown",
   "metadata": {},
   "source": [
    "# Cat vs Dog CNN"
   ]
  },
  {
   "cell_type": "code",
   "execution_count": 1,
   "metadata": {
    "execution": {
     "iopub.execute_input": "2020-12-07T08:11:18.317633Z",
     "iopub.status.busy": "2020-12-07T08:11:18.317415Z",
     "iopub.status.idle": "2020-12-07T08:11:18.418891Z",
     "shell.execute_reply": "2020-12-07T08:11:18.418482Z",
     "shell.execute_reply.started": "2020-12-07T08:11:18.317607Z"
    }
   },
   "outputs": [],
   "source": [
    "import tensorflow as tf\n",
    "from tensorflow.keras.models import Sequential\n",
    "from tensorflow.keras.layers import Dense, Dropout, Activation, Flatten, Conv2D, MaxPool2D\n",
    "import numpy as np\n",
    "import matplotlib.pyplot as plt\n",
    "import pickle\n",
    "import random\n",
    "import os\n",
    "import datetime\n",
    "%load_ext tensorboard"
   ]
  },
  {
   "cell_type": "markdown",
   "metadata": {},
   "source": [
    "## Prepara Data"
   ]
  },
  {
   "cell_type": "code",
   "execution_count": 2,
   "metadata": {
    "execution": {
     "iopub.execute_input": "2020-12-07T08:11:19.899074Z",
     "iopub.status.busy": "2020-12-07T08:11:19.898829Z",
     "iopub.status.idle": "2020-12-07T08:11:20.122396Z",
     "shell.execute_reply": "2020-12-07T08:11:20.121891Z",
     "shell.execute_reply.started": "2020-12-07T08:11:19.899048Z"
    }
   },
   "outputs": [],
   "source": [
    "DIR = \"../../dogs_cats\"\n",
    "TAGS = ['cat','dog']\n",
    "with open(os.path.join(DIR,'label_data.pickle'), 'rb') as f:\n",
    "    label_data = pickle.load(f)\n",
    "random.shuffle(label_data)"
   ]
  },
  {
   "cell_type": "code",
   "execution_count": 3,
   "metadata": {
    "execution": {
     "iopub.execute_input": "2020-12-07T08:11:26.812092Z",
     "iopub.status.busy": "2020-12-07T08:11:26.812000Z",
     "iopub.status.idle": "2020-12-07T08:11:26.815399Z",
     "shell.execute_reply": "2020-12-07T08:11:26.814821Z",
     "shell.execute_reply.started": "2020-12-07T08:11:26.812079Z"
    }
   },
   "outputs": [
    {
     "name": "stdout",
     "output_type": "stream",
     "text": [
      "<class 'list'>\n",
      "(100, 100)\n"
     ]
    }
   ],
   "source": [
    "print(type(label_data))\n",
    "print(label_data[0][0].shape)"
   ]
  },
  {
   "cell_type": "code",
   "execution_count": 4,
   "metadata": {
    "execution": {
     "iopub.execute_input": "2020-12-07T08:11:26.816496Z",
     "iopub.status.busy": "2020-12-07T08:11:26.816315Z",
     "iopub.status.idle": "2020-12-07T08:11:26.908047Z",
     "shell.execute_reply": "2020-12-07T08:11:26.907455Z",
     "shell.execute_reply.started": "2020-12-07T08:11:26.816471Z"
    }
   },
   "outputs": [],
   "source": [
    "def get_x_y_train_data(label_data):\n",
    "    x_train = []\n",
    "    y_train = []\n",
    "\n",
    "    for x,y in label_data:\n",
    "        x_train.append(x)\n",
    "        y_train.append(y)\n",
    "    return x_train, y_train\n",
    "\n",
    "x_train,y_train = get_x_y_train_data(label_data)"
   ]
  },
  {
   "cell_type": "code",
   "execution_count": 5,
   "metadata": {
    "execution": {
     "iopub.execute_input": "2020-12-07T08:11:26.908581Z",
     "iopub.status.busy": "2020-12-07T08:11:26.908496Z",
     "iopub.status.idle": "2020-12-07T08:11:27.458534Z",
     "shell.execute_reply": "2020-12-07T08:11:27.457909Z",
     "shell.execute_reply.started": "2020-12-07T08:11:26.908569Z"
    }
   },
   "outputs": [
    {
     "name": "stdout",
     "output_type": "stream",
     "text": [
      "(25000, 100, 100, 1) (25000, 2)\n"
     ]
    }
   ],
   "source": [
    "X = np.array(x_train).reshape(-1,100,100,1)/255.0\n",
    "y = np.array(y_train).reshape(-1,2)\n",
    "print(X.shape,y.shape)"
   ]
  },
  {
   "cell_type": "markdown",
   "metadata": {},
   "source": [
    "## Build Model"
   ]
  },
  {
   "cell_type": "code",
   "execution_count": 14,
   "metadata": {
    "execution": {
     "iopub.execute_input": "2020-12-07T08:25:03.069584Z",
     "iopub.status.busy": "2020-12-07T08:25:03.069355Z",
     "iopub.status.idle": "2020-12-07T08:25:03.082330Z",
     "shell.execute_reply": "2020-12-07T08:25:03.082053Z",
     "shell.execute_reply.started": "2020-12-07T08:25:03.069557Z"
    }
   },
   "outputs": [],
   "source": [
    "model = Sequential([\n",
    "    Conv2D(8,3,padding='same', activation='relu'), # 1st Conv with pooling\n",
    "    MaxPool2D(2, strides=2),\n",
    "    Conv2D(8,5, activation='relu'), \n",
    "    MaxPool2D(2, strides=2),\n",
    "    Flatten(),\n",
    "    Dense(64, activation = 'relu'),\n",
    "    Dense(2,   activation = 'softmax')\n",
    "])"
   ]
  },
  {
   "cell_type": "code",
   "execution_count": 17,
   "metadata": {
    "execution": {
     "iopub.execute_input": "2020-12-07T08:25:40.961801Z",
     "iopub.status.busy": "2020-12-07T08:25:40.961578Z",
     "iopub.status.idle": "2020-12-07T08:25:40.989193Z",
     "shell.execute_reply": "2020-12-07T08:25:40.988796Z",
     "shell.execute_reply.started": "2020-12-07T08:25:40.961775Z"
    }
   },
   "outputs": [],
   "source": [
    "model.compile(\n",
    "    optimizer = tf.keras.optimizers.Adam(learning_rate=0.001),\n",
    "    loss = tf.keras.losses.CategoricalCrossentropy(),\n",
    "    metrics = ['accuracy']\n",
    ")"
   ]
  },
  {
   "cell_type": "code",
   "execution_count": 18,
   "metadata": {
    "execution": {
     "iopub.execute_input": "2020-12-07T08:25:54.303406Z",
     "iopub.status.busy": "2020-12-07T08:25:54.303321Z",
     "iopub.status.idle": "2020-12-07T08:25:54.305474Z",
     "shell.execute_reply": "2020-12-07T08:25:54.305251Z",
     "shell.execute_reply.started": "2020-12-07T08:25:54.303394Z"
    }
   },
   "outputs": [],
   "source": [
    "logdir = os.path.join(\"logs\", datetime.datetime.now().strftime(\"%Y%m%d-%H%M%S\"))\n",
    "tensorboard_callback = tf.keras.callbacks.TensorBoard(logdir, histogram_freq=1)"
   ]
  },
  {
   "cell_type": "code",
   "execution_count": 19,
   "metadata": {
    "execution": {
     "iopub.execute_input": "2020-12-07T08:26:07.555690Z",
     "iopub.status.busy": "2020-12-07T08:26:07.555536Z",
     "iopub.status.idle": "2020-12-07T08:27:48.248466Z",
     "shell.execute_reply": "2020-12-07T08:27:48.248028Z",
     "shell.execute_reply.started": "2020-12-07T08:26:07.555677Z"
    }
   },
   "outputs": [],
   "source": [
    "tf.keras.backend.set_floatx('float64')\n",
    "history = model.fit(\n",
    "    X, y, \n",
    "    epochs=10,batch_size=32,\n",
    "    validation_split=0.3,verbose = 0,\n",
    "    callbacks=[tensorboard_callback]\n",
    ")"
   ]
  },
  {
   "cell_type": "code",
   "execution_count": 10,
   "metadata": {
    "execution": {
     "iopub.execute_input": "2020-12-07T08:13:42.508950Z",
     "iopub.status.busy": "2020-12-07T08:13:42.508730Z",
     "iopub.status.idle": "2020-12-07T08:13:42.622416Z",
     "shell.execute_reply": "2020-12-07T08:13:42.622132Z",
     "shell.execute_reply.started": "2020-12-07T08:13:42.508924Z"
    }
   },
   "outputs": [
    {
     "data": {
      "image/png": "[encoded data removed]",
      "text/plain": [
       "<Figure size 432x288 with 1 Axes>"
      ]
     },
     "metadata": {
      "needs_background": "light"
     },
     "output_type": "display_data"
    }
   ],
   "source": [
    "plt.plot(history.history['accuracy'],label=\"train\")\n",
    "plt.plot(history.history['val_accuracy'],label=\"validate\")\n",
    "plt.title('Accuracy')\n",
    "plt.legend()\n",
    "plt.show()"
   ]
  },
  {
   "cell_type": "code",
   "execution_count": 11,
   "metadata": {
    "execution": {
     "iopub.execute_input": "2020-12-07T08:13:56.439823Z",
     "iopub.status.busy": "2020-12-07T08:13:56.439693Z",
     "iopub.status.idle": "2020-12-07T08:13:56.518322Z",
     "shell.execute_reply": "2020-12-07T08:13:56.517989Z",
     "shell.execute_reply.started": "2020-12-07T08:13:56.439810Z"
    }
   },
   "outputs": [
    {
     "data": {
      "image/png": "[encoded data removed]",
      "text/plain": [
       "<Figure size 432x288 with 1 Axes>"
      ]
     },
     "metadata": {
      "needs_background": "light"
     },
     "output_type": "display_data"
    }
   ],
   "source": [
    "plt.plot(history.history['loss'],label=\"train\")\n",
    "plt.plot(history.history['val_loss'],label=\"validate\")\n",
    "plt.title('Loss')\n",
    "plt.legend()\n",
    "plt.show()"
   ]
  },
  {
   "cell_type": "code",
   "execution_count": null,
   "metadata": {},
   "outputs": [],
   "source": [
    "tf.keras.backend.clear_session()"
   ]
  },
  {
   "cell_type": "code",
   "execution_count": 13,
   "metadata": {
    "execution": {
     "iopub.execute_input": "2020-12-07T08:16:02.013643Z",
     "iopub.status.busy": "2020-12-07T08:16:02.013414Z",
     "iopub.status.idle": "2020-12-07T08:16:02.020183Z",
     "shell.execute_reply": "2020-12-07T08:16:02.019674Z",
     "shell.execute_reply.started": "2020-12-07T08:16:02.013616Z"
    }
   },
   "outputs": [
    {
     "data": {
      "text/plain": [
       "Reusing TensorBoard on port 6006 (pid 15204), started 0:01:49 ago. (Use '!kill 15204' to kill it.)"
      ]
     },
     "metadata": {},
     "output_type": "display_data"
    },
    {
     "data": {
      "text/html": [
       "\n",
       "      <iframe id=\"tensorboard-frame-7aa00d3fb76e215f\" width=\"100%\" height=\"800\" frameborder=\"0\">\n",
       "      </iframe>\n",
       "      <script>\n",
       "        (function() {\n",
       "          const frame = document.getElementById(\"tensorboard-frame-7aa00d3fb76e215f\");\n",
       "          const url = new URL(\"/\", window.location);\n",
       "          const port = 6006;\n",
       "          if (port) {\n",
       "            url.port = port;\n",
       "          }\n",
       "          frame.src = url;\n",
       "        })();\n",
       "      </script>\n",
       "    "
      ],
      "text/plain": [
       "<IPython.core.display.HTML object>"
      ]
     },
     "metadata": {},
     "output_type": "display_data"
    }
   ],
   "source": [
    "%tensorboard --logdir logs"
   ]
  },
  {
   "cell_type": "code",
   "execution_count": null,
   "metadata": {},
   "outputs": [],
   "source": []
  }
 ],
 "metadata": {
  "kernelspec": {
   "display_name": "Python 3",
   "language": "python",
   "name": "python3"
  },
  "language_info": {
   "codemirror_mode": {
    "name": "ipython",
    "version": 3
   },
   "file_extension": ".py",
   "mimetype": "text/x-python",
   "name": "python",
   "nbconvert_exporter": "python",
   "pygments_lexer": "ipython3",
   "version": "3.7.9"
  }
 },
 "nbformat": 4,
 "nbformat_minor": 4
}
