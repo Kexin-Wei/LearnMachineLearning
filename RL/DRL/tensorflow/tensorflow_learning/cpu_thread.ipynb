{
 "cells": [
  {
   "cell_type": "code",
   "execution_count": 1,
   "metadata": {
    "execution": {
     "iopub.execute_input": "2020-12-21T02:41:17.978577Z",
     "iopub.status.busy": "2020-12-21T02:41:17.978226Z",
     "iopub.status.idle": "2020-12-21T02:41:21.589140Z",
     "shell.execute_reply": "2020-12-21T02:41:21.588414Z",
     "shell.execute_reply.started": "2020-12-21T02:41:17.978499Z"
    }
   },
   "outputs": [],
   "source": [
    "import tensorflow as tf"
   ]
  },
  {
   "cell_type": "code",
   "execution_count": 4,
   "metadata": {
    "execution": {
     "iopub.execute_input": "2020-12-21T02:43:26.735333Z",
     "iopub.status.busy": "2020-12-21T02:43:26.734750Z",
     "iopub.status.idle": "2020-12-21T02:43:26.741256Z",
     "shell.execute_reply": "2020-12-21T02:43:26.739780Z",
     "shell.execute_reply.started": "2020-12-21T02:43:26.735275Z"
    }
   },
   "outputs": [
    {
     "name": "stdout",
     "output_type": "stream",
     "text": [
      "[PhysicalDevice(name='/physical_device:CPU:0', device_type='CPU')]\n"
     ]
    }
   ],
   "source": [
    "print(tf.config.get_visible_devices('CPU'))"
   ]
  },
  {
   "cell_type": "code",
   "execution_count": 5,
   "metadata": {
    "execution": {
     "iopub.execute_input": "2020-12-21T02:44:00.927881Z",
     "iopub.status.busy": "2020-12-21T02:44:00.926255Z",
     "iopub.status.idle": "2020-12-21T02:44:00.936932Z",
     "shell.execute_reply": "2020-12-21T02:44:00.934774Z",
     "shell.execute_reply.started": "2020-12-21T02:44:00.927805Z"
    }
   },
   "outputs": [
    {
     "name": "stdout",
     "output_type": "stream",
     "text": [
      "True\n"
     ]
    }
   ],
   "source": [
    "print(tf.config.get_soft_device_placement())"
   ]
  },
  {
   "cell_type": "code",
   "execution_count": 6,
   "metadata": {
    "execution": {
     "iopub.execute_input": "2020-12-21T02:45:30.882992Z",
     "iopub.status.busy": "2020-12-21T02:45:30.882303Z",
     "iopub.status.idle": "2020-12-21T02:45:30.891082Z",
     "shell.execute_reply": "2020-12-21T02:45:30.889540Z",
     "shell.execute_reply.started": "2020-12-21T02:45:30.882911Z"
    }
   },
   "outputs": [
    {
     "name": "stdout",
     "output_type": "stream",
     "text": [
      "0\n"
     ]
    }
   ],
   "source": [
    "print(tf.config.threading.get_inter_op_parallelism_threads())"
   ]
  },
  {
   "cell_type": "code",
   "execution_count": 7,
   "metadata": {
    "execution": {
     "iopub.execute_input": "2020-12-21T02:45:52.375261Z",
     "iopub.status.busy": "2020-12-21T02:45:52.374543Z",
     "iopub.status.idle": "2020-12-21T02:45:52.383921Z",
     "shell.execute_reply": "2020-12-21T02:45:52.382159Z",
     "shell.execute_reply.started": "2020-12-21T02:45:52.375173Z"
    }
   },
   "outputs": [
    {
     "name": "stdout",
     "output_type": "stream",
     "text": [
      "0\n"
     ]
    }
   ],
   "source": [
    "print(tf.config.threading.get_intra_op_parallelism_threads())"
   ]
  },
  {
   "cell_type": "code",
   "execution_count": null,
   "metadata": {},
   "outputs": [],
   "source": []
  }
 ],
 "metadata": {
  "kernelspec": {
   "display_name": "Python 3",
   "language": "python",
   "name": "python3"
  },
  "language_info": {
   "codemirror_mode": {
    "name": "ipython",
    "version": 3
   },
   "file_extension": ".py",
   "mimetype": "text/x-python",
   "name": "python",
   "nbconvert_exporter": "python",
   "pygments_lexer": "ipython3",
   "version": "3.7.9"
  }
 },
 "nbformat": 4,
 "nbformat_minor": 4
}
