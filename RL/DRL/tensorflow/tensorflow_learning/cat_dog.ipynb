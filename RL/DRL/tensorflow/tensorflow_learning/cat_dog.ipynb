{
 "cells": [
  {
   "cell_type": "markdown",
   "metadata": {},
   "source": [
    "# Dogs vs Cats Training"
   ]
  },
  {
   "cell_type": "code",
   "execution_count": 1,
   "metadata": {
    "execution": {
     "iopub.execute_input": "2020-12-08T03:06:58.726223Z",
     "iopub.status.busy": "2020-12-08T03:06:58.726002Z",
     "iopub.status.idle": "2020-12-08T03:06:58.877627Z",
     "shell.execute_reply": "2020-12-08T03:06:58.877119Z",
     "shell.execute_reply.started": "2020-12-08T03:06:58.726196Z"
    }
   },
   "outputs": [
    {
     "data": {
      "text/plain": [
       "[PhysicalDevice(name='/physical_device:GPU:0', device_type='GPU')]"
      ]
     },
     "execution_count": 1,
     "metadata": {},
     "output_type": "execute_result"
    }
   ],
   "source": [
    "import numpy as np\n",
    "import matplotlib.pyplot as plt\n",
    "import os\n",
    "import cv2\n",
    "import tensorflow as tf\n",
    "tf.config.list_physical_devices('GPU')"
   ]
  },
  {
   "cell_type": "markdown",
   "metadata": {},
   "source": [
    "## Prepare the DATA"
   ]
  },
  {
   "cell_type": "code",
   "execution_count": 2,
   "metadata": {
    "execution": {
     "iopub.execute_input": "2020-12-08T03:07:00.106998Z",
     "iopub.status.busy": "2020-12-08T03:07:00.106754Z",
     "iopub.status.idle": "2020-12-08T03:07:00.110448Z",
     "shell.execute_reply": "2020-12-08T03:07:00.109892Z",
     "shell.execute_reply.started": "2020-12-08T03:07:00.106969Z"
    }
   },
   "outputs": [],
   "source": [
    "DIR = '../../dogs_cats'\n",
    "DIR_TRAIN = os.path.join(DIR,'train')\n",
    "DIR_TEST  = os.path.join(DIR,'test')\n",
    "TAGS = ['cat','dog']\n",
    "IMG_SIZE = 100"
   ]
  },
  {
   "cell_type": "markdown",
   "metadata": {},
   "source": [
    "**!!! JUMP to IMPORT DATA if not run first time**"
   ]
  },
  {
   "cell_type": "markdown",
   "metadata": {},
   "source": [
    "Take a look at data"
   ]
  },
  {
   "cell_type": "code",
   "execution_count": null,
   "metadata": {},
   "outputs": [],
   "source": [
    "for f in os.listdir(DIR_TRAIN):\n",
    "    print(os.path.join(DIR_TRAIN,f))\n",
    "    img_array = cv2.imread(os.path.join(DIR_TRAIN,f),cv2.IMREAD_GRAYSCALE)\n",
    "    plt.imshow(img_array,cmap='gray')\n",
    "    plt.show()\n",
    "    break"
   ]
  },
  {
   "cell_type": "markdown",
   "metadata": {},
   "source": [
    "Resize the img for all"
   ]
  },
  {
   "cell_type": "code",
   "execution_count": null,
   "metadata": {},
   "outputs": [],
   "source": [
    "new_array = cv2.resize(img_array,(IMG_SIZE,IMG_SIZE))\n",
    "print(new_array)\n",
    "plt.imshow(new_array,cmap = 'gray')\n",
    "plt.show()"
   ]
  },
  {
   "cell_type": "markdown",
   "metadata": {},
   "source": [
    "build the labeled data"
   ]
  },
  {
   "cell_type": "code",
   "execution_count": null,
   "metadata": {},
   "outputs": [],
   "source": [
    "%%time\n",
    "def create_label_data(DIR_TRAIN, TAGS,IMG_SIZE = 100):\n",
    "    label_data = []\n",
    "    \n",
    "    for f in os.listdir(DIR_TRAIN):\n",
    "        \n",
    "        img_array = cv2.imread(os.path.join(DIR_TRAIN,f),cv2.IMREAD_GRAYSCALE)\n",
    "        new_array = cv2.resize(img_array,(IMG_SIZE,IMG_SIZE))\n",
    "        \n",
    "        y = [ 1 if tag in f else 0 for tag in TAGS]\n",
    "        \n",
    "        label_data.append([new_array, y])       \n",
    "            \n",
    "    return label_data\n",
    "label_data = create_label_data(DIR_TRAIN, TAGS)"
   ]
  },
  {
   "cell_type": "markdown",
   "metadata": {},
   "source": [
    "Take check if group is right"
   ]
  },
  {
   "cell_type": "code",
   "execution_count": null,
   "metadata": {},
   "outputs": [],
   "source": [
    "plt.imshow(label_data[0][0],cmap='gray')\n",
    "plt.show()\n",
    "print(label_data[0][1])\n",
    "\n",
    "plt.imshow(label_data[1][0],cmap='gray')\n",
    "plt.show()\n",
    "print(label_data[1][1])"
   ]
  },
  {
   "cell_type": "markdown",
   "metadata": {},
   "source": [
    "save the data as pickle"
   ]
  },
  {
   "cell_type": "code",
   "execution_count": null,
   "metadata": {},
   "outputs": [],
   "source": [
    "import pickle \n",
    "\n",
    "with open(os.path.join(DIR,'label_data.pickle'), 'wb') as f:\n",
    "    pickle.dump(label_data, f)"
   ]
  },
  {
   "cell_type": "markdown",
   "metadata": {},
   "source": [
    "**IMPORT THE DATA**"
   ]
  },
  {
   "cell_type": "code",
   "execution_count": 3,
   "metadata": {
    "execution": {
     "iopub.execute_input": "2020-12-08T03:07:04.934242Z",
     "iopub.status.busy": "2020-12-08T03:07:04.934019Z",
     "iopub.status.idle": "2020-12-08T03:07:05.140904Z",
     "shell.execute_reply": "2020-12-08T03:07:05.140400Z",
     "shell.execute_reply.started": "2020-12-08T03:07:04.934215Z"
    }
   },
   "outputs": [],
   "source": [
    "import pickle \n",
    "with open(os.path.join(DIR,'label_data.pickle'), 'rb') as f:\n",
    "    label_data = pickle.load(f)"
   ]
  },
  {
   "cell_type": "markdown",
   "metadata": {},
   "source": [
    "add some random feature"
   ]
  },
  {
   "cell_type": "code",
   "execution_count": 4,
   "metadata": {
    "execution": {
     "iopub.execute_input": "2020-12-08T03:07:11.640846Z",
     "iopub.status.busy": "2020-12-08T03:07:11.640758Z",
     "iopub.status.idle": "2020-12-08T03:07:11.654933Z",
     "shell.execute_reply": "2020-12-08T03:07:11.654509Z",
     "shell.execute_reply.started": "2020-12-08T03:07:11.640834Z"
    }
   },
   "outputs": [],
   "source": [
    "import random\n",
    "random.shuffle(label_data)"
   ]
  },
  {
   "cell_type": "code",
   "execution_count": 5,
   "metadata": {
    "execution": {
     "iopub.execute_input": "2020-12-08T03:07:18.381465Z",
     "iopub.status.busy": "2020-12-08T03:07:18.381377Z",
     "iopub.status.idle": "2020-12-08T03:07:18.389502Z",
     "shell.execute_reply": "2020-12-08T03:07:18.389006Z",
     "shell.execute_reply.started": "2020-12-08T03:07:18.381453Z"
    }
   },
   "outputs": [],
   "source": [
    "def train_validation_data(label_data):\n",
    "    x_train = []\n",
    "    y_train = []\n",
    "\n",
    "    for x,y in label_data:\n",
    "        x_train.append(x)\n",
    "        y_train.append(y)\n",
    "    return (x_train,y_train)\n",
    "\n",
    "train_data = train_validation_data(label_data)"
   ]
  },
  {
   "cell_type": "code",
   "execution_count": null,
   "metadata": {},
   "outputs": [],
   "source": [
    "# X = np.array(x_train)\n",
    "# print(X.shape)\n",
    "# print(X[0].flatten()[:100])\n",
    "# print(X.reshape(X.shape[0],-1)[0][:100])"
   ]
  },
  {
   "cell_type": "markdown",
   "metadata": {},
   "source": [
    "## Train the Model"
   ]
  },
  {
   "cell_type": "code",
   "execution_count": 6,
   "metadata": {
    "execution": {
     "iopub.execute_input": "2020-12-08T03:07:31.448414Z",
     "iopub.status.busy": "2020-12-08T03:07:31.448326Z",
     "iopub.status.idle": "2020-12-08T03:07:31.450417Z",
     "shell.execute_reply": "2020-12-08T03:07:31.450007Z",
     "shell.execute_reply.started": "2020-12-08T03:07:31.448401Z"
    }
   },
   "outputs": [],
   "source": [
    "x_train = train_data[0]\n",
    "y_train = train_data[1]"
   ]
  },
  {
   "cell_type": "code",
   "execution_count": 7,
   "metadata": {
    "execution": {
     "iopub.execute_input": "2020-12-08T03:08:12.547827Z",
     "iopub.status.busy": "2020-12-08T03:08:12.547606Z",
     "iopub.status.idle": "2020-12-08T03:08:13.771336Z",
     "shell.execute_reply": "2020-12-08T03:08:13.770696Z",
     "shell.execute_reply.started": "2020-12-08T03:08:12.547800Z"
    }
   },
   "outputs": [
    {
     "name": "stdout",
     "output_type": "stream",
     "text": [
      "(25000, 2)\n",
      "(25000, 100, 100)\n"
     ]
    }
   ],
   "source": [
    "x = tf.keras.utils.normalize(x_train)\n",
    "y = np.array(y_train).reshape(-1,2)\n",
    "print(y.shape)\n",
    "print(x.shape)"
   ]
  },
  {
   "cell_type": "code",
   "execution_count": 15,
   "metadata": {
    "execution": {
     "iopub.execute_input": "2020-12-08T03:14:49.523385Z",
     "iopub.status.busy": "2020-12-08T03:14:49.523164Z",
     "iopub.status.idle": "2020-12-08T03:14:49.931335Z",
     "shell.execute_reply": "2020-12-08T03:14:49.930838Z",
     "shell.execute_reply.started": "2020-12-08T03:14:49.523358Z"
    }
   },
   "outputs": [],
   "source": [
    "model = tf.keras.models.Sequential()\n",
    "model.add(tf.keras.layers.Flatten(input_shape = (x.shape[1],x.shape[2])))\n",
    "model.add(tf.keras.layers.Dense(128, activation=tf.nn.relu))\n",
    "model.add(tf.keras.layers.Dense(2,activation=tf.nn.softmax)) "
   ]
  },
  {
   "cell_type": "code",
   "execution_count": 16,
   "metadata": {
    "execution": {
     "iopub.execute_input": "2020-12-08T03:15:09.190802Z",
     "iopub.status.busy": "2020-12-08T03:15:09.190714Z",
     "iopub.status.idle": "2020-12-08T03:15:09.210637Z",
     "shell.execute_reply": "2020-12-08T03:15:09.210176Z",
     "shell.execute_reply.started": "2020-12-08T03:15:09.190790Z"
    }
   },
   "outputs": [],
   "source": [
    "w  = model.get_weights()\n",
    "weights = []\n",
    "biases  = []\n",
    "for i in range(int(len(w)/2)):\n",
    "    weights.append(w[2*i])\n",
    "    biases.append(w[2*i+1])\n",
    "print(weights[0].shape)\n",
    "print(biases[0].shape)"
   ]
  },
  {
   "cell_type": "code",
   "execution_count": 9,
   "metadata": {
    "execution": {
     "iopub.execute_input": "2020-12-07T07:20:40.932764Z",
     "iopub.status.busy": "2020-12-07T07:20:40.932546Z",
     "iopub.status.idle": "2020-12-07T07:20:41.337517Z",
     "shell.execute_reply": "2020-12-07T07:20:41.337026Z",
     "shell.execute_reply.started": "2020-12-07T07:20:40.932738Z"
    }
   },
   "outputs": [],
   "source": [
    "model.compile(\n",
    "    optimizer= tf.keras.optimizers.SGD(learning_rate=0.1),\n",
    "    loss='categorical_crossentropy',\n",
    "    metrics=['accuracy']\n",
    ")"
   ]
  },
  {
   "cell_type": "code",
   "execution_count": 13,
   "metadata": {
    "execution": {
     "iopub.execute_input": "2020-12-07T07:21:18.715691Z",
     "iopub.status.busy": "2020-12-07T07:21:18.715472Z",
     "iopub.status.idle": "2020-12-07T07:21:33.061909Z",
     "shell.execute_reply": "2020-12-07T07:21:33.061304Z",
     "shell.execute_reply.started": "2020-12-07T07:21:18.715665Z"
    }
   },
   "outputs": [
    {
     "name": "stdout",
     "output_type": "stream",
     "text": [
      "Epoch 1/10\n",
      "586/586 - 1s - loss: 0.5863 - accuracy: 0.6859 - val_loss: 0.6911 - val_accuracy: 0.6064\n",
      "Epoch 2/10\n",
      "586/586 - 1s - loss: 0.5792 - accuracy: 0.6895 - val_loss: 0.7556 - val_accuracy: 0.5638\n",
      "Epoch 3/10\n",
      "586/586 - 1s - loss: 0.5773 - accuracy: 0.6889 - val_loss: 0.6741 - val_accuracy: 0.6080\n",
      "Epoch 4/10\n",
      "586/586 - 1s - loss: 0.5685 - accuracy: 0.6955 - val_loss: 0.7019 - val_accuracy: 0.5930\n",
      "Epoch 5/10\n",
      "586/586 - 1s - loss: 0.5619 - accuracy: 0.7033 - val_loss: 0.7034 - val_accuracy: 0.6061\n",
      "Epoch 6/10\n",
      "586/586 - 1s - loss: 0.5597 - accuracy: 0.7051 - val_loss: 0.6910 - val_accuracy: 0.6091\n",
      "Epoch 7/10\n",
      "586/586 - 1s - loss: 0.5513 - accuracy: 0.7124 - val_loss: 0.7119 - val_accuracy: 0.5958\n",
      "Epoch 8/10\n",
      "586/586 - 1s - loss: 0.5429 - accuracy: 0.7132 - val_loss: 0.7291 - val_accuracy: 0.5982\n",
      "Epoch 9/10\n",
      "586/586 - 1s - loss: 0.5353 - accuracy: 0.7237 - val_loss: 0.7263 - val_accuracy: 0.5926\n",
      "Epoch 10/10\n",
      "586/586 - 1s - loss: 0.5317 - accuracy: 0.7242 - val_loss: 0.7042 - val_accuracy: 0.6203\n"
     ]
    }
   ],
   "source": [
    "tf.keras.bweightsd.set_floatx('float64')\n",
    "history = model.fit(\n",
    "    x,y, \n",
    "    epochs=10,\n",
    "    batch_size=32, \n",
    "    validation_split = 0.25,\n",
    "    verbose=2)"
   ]
  },
  {
   "cell_type": "markdown",
   "metadata": {},
   "source": [
    "## Validation Model"
   ]
  },
  {
   "cell_type": "code",
   "execution_count": null,
   "metadata": {},
   "outputs": [],
   "source": [
    "x_validate = validate_data[0]\n",
    "y_validate = validate_data[1]\n",
    "\n",
    "x = tf.keras.utils.normalize(x_validate)\n",
    "y = np.array(y_validate).reshape(-1,2)"
   ]
  },
  {
   "cell_type": "code",
   "execution_count": null,
   "metadata": {},
   "outputs": [],
   "source": [
    "val_loss, val_acc = model.evaluate(x,y)"
   ]
  },
  {
   "cell_type": "markdown",
   "metadata": {},
   "source": [
    "## Test"
   ]
  },
  {
   "cell_type": "code",
   "execution_count": null,
   "metadata": {},
   "outputs": [],
   "source": [
    "%%time\n",
    "def create_test_data(DIR, IMG_SIZE = 100):\n",
    "    test_data = []\n",
    "    \n",
    "    for f in os.listdir(DIR):\n",
    "        \n",
    "        img_array = cv2.imread(os.path.join(DIR,f),cv2.IMREAD_GRAYSCALE)\n",
    "        new_array = cv2.resize(img_array,(IMG_SIZE,IMG_SIZE))\n",
    "        \n",
    "        test_data.append([new_array])       \n",
    "            \n",
    "    return test_data\n",
    "test_data = create_test_data(DIR_TEST)"
   ]
  },
  {
   "cell_type": "code",
   "execution_count": null,
   "metadata": {},
   "outputs": [],
   "source": [
    "with open(os.path.join(DIR,'test_data.pickle'), 'wb') as f:\n",
    "    pickle.dump(test_data, f)"
   ]
  },
  {
   "cell_type": "code",
   "execution_count": null,
   "metadata": {},
   "outputs": [],
   "source": [
    "with open(os.path.join(DIR,'test_data.pickle'), 'rb') as f:\n",
    "    test_data = pickle.load(f)"
   ]
  }
 ],
 "metadata": {
  "kernelspec": {
   "display_name": "Python 3",
   "language": "python",
   "name": "python3"
  },
  "language_info": {
   "codemirror_mode": {
    "name": "ipython",
    "version": 3
   },
   "file_extension": ".py",
   "mimetype": "text/x-python",
   "name": "python",
   "nbconvert_exporter": "python",
   "pygments_lexer": "ipython3",
   "version": "3.7.9"
  },
  "toc-autonumbering": false,
  "toc-showcode": false
 },
 "nbformat": 4,
 "nbformat_minor": 4
}
