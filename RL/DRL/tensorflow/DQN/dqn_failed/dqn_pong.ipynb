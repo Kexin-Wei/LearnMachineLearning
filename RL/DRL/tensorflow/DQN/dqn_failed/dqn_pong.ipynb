{
 "cells": [
  {
   "cell_type": "markdown",
   "metadata": {},
   "source": [
    "# Atari Pong"
   ]
  },
  {
   "cell_type": "markdown",
   "metadata": {},
   "source": [
    "## Import"
   ]
  },
  {
   "cell_type": "code",
   "execution_count": 1,
   "metadata": {
    "execution": {
     "iopub.execute_input": "2020-12-10T15:47:26.188317Z",
     "iopub.status.busy": "2020-12-10T15:47:26.188100Z",
     "iopub.status.idle": "2020-12-10T15:47:26.311691Z",
     "shell.execute_reply": "2020-12-10T15:47:26.311204Z",
     "shell.execute_reply.started": "2020-12-10T15:47:26.188291Z"
    }
   },
   "outputs": [],
   "source": [
    "import tensorflow as tf\n",
    "import matplotlib.pyplot as plt\n",
    "import gym\n",
    "import os\n",
    "import datetime\n",
    "import imageio\n",
    "import numpy as np\n",
    "import argparse\n",
    "import pickle\n",
    "import shutil\n",
    "import cv2\n",
    "import random\n",
    "\n",
    "from collections import deque\n",
    "from IPython.core.debugger import set_trace"
   ]
  },
  {
   "cell_type": "markdown",
   "metadata": {
    "execution": {
     "iopub.execute_input": "2020-12-09T13:59:28.077409Z",
     "iopub.status.busy": "2020-12-09T13:59:28.077189Z",
     "iopub.status.idle": "2020-12-09T13:59:28.080354Z",
     "shell.execute_reply": "2020-12-09T13:59:28.079269Z",
     "shell.execute_reply.started": "2020-12-09T13:59:28.077384Z"
    }
   },
   "source": [
    "## Class\n",
    "- ObWrapper as env support\n",
    "  - ob->state\n",
    "  - function:\n",
    "    - wrapper_append(ob)\n",
    "    - wrapper_len()\n",
    "    - wrapper_packup()\n",
    "- Replay\n",
    "  - sample memory for train\n",
    "  - function:\n",
    "    - mome_append(a_set_memory)\n",
    "    - sample()\n",
    "- CNN\n",
    "  - create a cnn refer to dqn paper\n",
    "- Agent \n",
    "  - Replay\n",
    "  - CNN"
   ]
  },
  {
   "cell_type": "markdown",
   "metadata": {
    "execution": {
     "iopub.execute_input": "2020-12-09T11:59:26.288815Z",
     "iopub.status.busy": "2020-12-09T11:59:26.288565Z",
     "iopub.status.idle": "2020-12-09T11:59:26.291888Z",
     "shell.execute_reply": "2020-12-09T11:59:26.291044Z",
     "shell.execute_reply.started": "2020-12-09T11:59:26.288786Z"
    }
   },
   "source": [
    "### ObWrapper Class"
   ]
  },
  {
   "cell_type": "code",
   "execution_count": 2,
   "metadata": {
    "execution": {
     "iopub.execute_input": "2020-12-10T15:47:41.217824Z",
     "iopub.status.busy": "2020-12-10T15:47:41.217608Z",
     "iopub.status.idle": "2020-12-10T15:47:41.224178Z",
     "shell.execute_reply": "2020-12-10T15:47:41.223618Z",
     "shell.execute_reply.started": "2020-12-10T15:47:41.217799Z"
    }
   },
   "outputs": [],
   "source": [
    "# make sure import deque from collections \n",
    "# and opencv(cv2)\n",
    "# and numpy as np\n",
    "class ObWrapper:\n",
    "    def __init__(self, WRAPPER_SIZE = 4 ):\n",
    "        self.WRAPPER_SIZE = WRAPPER_SIZE\n",
    "        self.s = deque([],maxlen = WRAPPER_SIZE) #wrapper how many frame together\n",
    "        \n",
    "    def __call__(self,ob):\n",
    "        self.s.append(cv2.cvtColor(ob,cv2.COLOR_BGR2GRAY)[::2,::2][17:97,:])\n",
    "   \n",
    "    def __len__(self):\n",
    "        return len(self.s)\n",
    "    \n",
    "    def packup(self):\n",
    "        if len(self.s) < self.WRAPPER_SIZE:\n",
    "            return print(\"Wrapper too small, unpackable\")\n",
    "        a = np.array([self.s[i] for i in range(self.WRAPPER_SIZE)])\n",
    "        b = np.transpose(a,(1,2,0))  # or b = np.einsum('ijk->jki',a)\n",
    "        return b.reshape(-1,80,80,self.WRAPPER_SIZE)"
   ]
  },
  {
   "cell_type": "markdown",
   "metadata": {},
   "source": [
    "### Replay Class"
   ]
  },
  {
   "cell_type": "code",
   "execution_count": 3,
   "metadata": {
    "execution": {
     "iopub.execute_input": "2020-12-10T15:47:45.409984Z",
     "iopub.status.busy": "2020-12-10T15:47:45.409766Z",
     "iopub.status.idle": "2020-12-10T15:47:45.414671Z",
     "shell.execute_reply": "2020-12-10T15:47:45.414108Z",
     "shell.execute_reply.started": "2020-12-10T15:47:45.409959Z"
    }
   },
   "outputs": [],
   "source": [
    "# make sure import random\n",
    "# and deque from collections\n",
    "class Replay:\n",
    "    def __init__(self, MEMORY_SIZE = 50_000, BATCH_SIZE = 64):\n",
    "        self.BATCH_SIZE = BATCH_SIZE\n",
    "        self.MEMORY_SIZE = MEMORY_SIZE\n",
    "        self.memory = deque([],maxlen = MEMORY_SIZE)\n",
    "        \n",
    "    def memo_append(self, a_set_memory):\n",
    "        # a_set_memory = sars(a) : [ob, (act), reward, ob_next, done]\n",
    "        self.memory.append(a_set_memory)\n",
    "\n",
    "    def memo_len(self):\n",
    "        return len(self.memory)\n",
    "        \n",
    "    def sample(self):\n",
    "        return random.sample(self.memory,self.BATCH_SIZE)"
   ]
  },
  {
   "cell_type": "markdown",
   "metadata": {
    "execution": {
     "iopub.execute_input": "2020-12-10T04:03:29.075847Z",
     "iopub.status.busy": "2020-12-10T04:03:29.075609Z",
     "iopub.status.idle": "2020-12-10T04:03:29.079167Z",
     "shell.execute_reply": "2020-12-10T04:03:29.077974Z",
     "shell.execute_reply.started": "2020-12-10T04:03:29.075825Z"
    }
   },
   "source": [
    "### CNN Class"
   ]
  },
  {
   "cell_type": "code",
   "execution_count": 4,
   "metadata": {
    "execution": {
     "iopub.execute_input": "2020-12-10T15:47:49.798102Z",
     "iopub.status.busy": "2020-12-10T15:47:49.797885Z",
     "iopub.status.idle": "2020-12-10T15:47:49.805250Z",
     "shell.execute_reply": "2020-12-10T15:47:49.804740Z",
     "shell.execute_reply.started": "2020-12-10T15:47:49.798077Z"
    }
   },
   "outputs": [],
   "source": [
    "# import tensorflow as tf\n",
    "# import numpy as np\n",
    "class CNN:\n",
    "    def __init__(self,N_ACT, N_OB,\\\n",
    "                 WRAPPER_SIZE = 4,\\\n",
    "                 LEARNING_RATE = 0.01):\n",
    "        # N_OB: frame for weight, height, color_channel\n",
    "        # -> backup to n frame : weight, height, WRAPPER_SIZE\n",
    "        \n",
    "        self.INPUT_SIZE  = self.input_size([80,80], WRAPPER_SIZE)\n",
    "        self.OUTPUT_SIZE = N_ACT\n",
    "        self.LEARNING_RATE = LEARNING_RATE\n",
    "        self.model = self.create_cnn()\n",
    "        \n",
    "    def input_size(self,N_OB, WRAPPER_SIZE):\n",
    "        return (N_OB[0],N_OB[1],WRAPPER_SIZE)\n",
    "    \n",
    "    def create_cnn(self):\n",
    "        model = tf.keras.models.Sequential([\n",
    "            tf.keras.layers.Conv2D(16,8,strides = 4,input_shape =self.INPUT_SIZE,\\\n",
    "                                   activation = 'relu'),\n",
    "            tf.keras.layers.Conv2D(32,4,strides = 2, activation = 'relu'),\n",
    "            tf.keras.layers.Flatten(),\n",
    "            tf.keras.layers.Dense(256,               activation = 'relu'),\n",
    "            tf.keras.layers.Dense(self.OUTPUT_SIZE, activation = 'linear'),\n",
    "        ])\n",
    "        model.compile(\n",
    "            loss = 'huber_loss',\n",
    "            optimizer = tf.keras.optimizers.Adam(learning_rate=self.LEARNING_RATE),\n",
    "            metrics   = ['accuracy']\n",
    "        )\n",
    "        return model"
   ]
  },
  {
   "cell_type": "markdown",
   "metadata": {},
   "source": [
    "### Agent"
   ]
  },
  {
   "cell_type": "code",
   "execution_count": 5,
   "metadata": {
    "execution": {
     "iopub.execute_input": "2020-12-10T15:47:59.423847Z",
     "iopub.status.busy": "2020-12-10T15:47:59.423631Z",
     "iopub.status.idle": "2020-12-10T15:47:59.436351Z",
     "shell.execute_reply": "2020-12-10T15:47:59.435832Z",
     "shell.execute_reply.started": "2020-12-10T15:47:59.423822Z"
    }
   },
   "outputs": [],
   "source": [
    "class Agent(Replay,CNN):\n",
    "    def __init__(self, N_ACT,N_OB,\\\n",
    "                 GAMMA = 0.9, EPSILON = 0.3, EPSILON_DECAY = 0.997,\\\n",
    "                 MODEL_UPDATE_STEP = 2000, MEMORY_SAMPLE_START = 0.2,\\\n",
    "                 LEARNING_RATE = 0.01,\\\n",
    "                 MEMORY_SIZE = 50_000,BATCH_SIZE = 64,\\\n",
    "                 WRAPPER_SIZE = 4\\\n",
    "                 ):\n",
    "        Replay.__init__(self,     MEMORY_SIZE = MEMORY_SIZE,\\\n",
    "                                   BATCH_SIZE = BATCH_SIZE)\n",
    "        \n",
    "        CNN.__init__(self, N_ACT, N_OB,\\\n",
    "                      WRAPPER_SIZE = WRAPPER_SIZE,\\\n",
    "                     LEARNING_RATE = LEARNING_RATE)\n",
    "\n",
    "        self.N_ACT   = N_ACT\n",
    "        self.GAMMA   = GAMMA\n",
    "        self.EPSILON = EPSILON\n",
    "        self.EPSILON_DECAY = EPSILON_DECAY\n",
    "\n",
    "        self.target_model = self.create_cnn()\n",
    "        self.target_model.set_weights(self.model.get_weights())\n",
    "        self.MODEL_UPDATE_STEP = MODEL_UPDATE_STEP\n",
    "        self.STEP = 0\n",
    "        \n",
    "        self.MEMORY_SAMPLE_START = MEMORY_SAMPLE_START\n",
    "        \n",
    "    \n",
    "    def get_q_value(self, state):\n",
    "        # state is obwrapper.packup\n",
    "        \n",
    "        q = self.model.predict(state.packup())\n",
    "        return q\n",
    "    \n",
    "    \n",
    "    def get_action(self,state): # get action with epsilon greedy\n",
    "        if np.random.rand() < self.EPSILON:\n",
    "            return np.random.randint(self.N_ACT)\n",
    "        return np.argmax(self.get_q_value(state))\n",
    "    \n",
    "    \n",
    "    def train(self): \n",
    "        #if the momery len > 0.2 memory size\n",
    "        if self.memo_len() < self.MEMORY_SIZE * self.MEMORY_SAMPLE_START:\n",
    "            return\n",
    "        batch_memo = self.sample()\n",
    "        \n",
    "        # model for q now\n",
    "        batch_state = np.array([ a_set_memo[0][0,:,:,:] for a_set_memo in batch_memo])\n",
    "        batch_q     = self.model.predict(batch_state)\n",
    "        \n",
    "        # target_model for max q\n",
    "        batch_state_next = np.array([ a_set_memo[3][0,:,:,:] for a_set_memo in batch_memo])\n",
    "        batch_q_next = self.target_model.predict(batch_state_next)\n",
    "        \n",
    "        batch_q_new = []\n",
    "        for index,(state, action, reward, state_next, done) in enumerate(batch_memo):\n",
    "            if done:\n",
    "                q_new = reward\n",
    "            else:\n",
    "                q_new = reward + self.GAMMA * max(batch_q_next[index])\n",
    " \n",
    "            q = batch_q[index]\n",
    "            q[action] = q_new\n",
    "            batch_q_new.append(q)\n",
    "            \n",
    "        self.STEP +=1\n",
    "        self.model.fit(batch_state,np.array(batch_q_new),batch_size = self.BATCH_SIZE, verbose = 0)\n",
    "        \n",
    "    def target_model_update(self):\n",
    "        if self.STEP < self.MODEL_UPDATE_STEP:\n",
    "            return\n",
    "        self.STEP = 0\n",
    "        self.target_model.set_weights(self.model.get_weights())"
   ]
  },
  {
   "cell_type": "markdown",
   "metadata": {},
   "source": [
    "## GIF handel"
   ]
  },
  {
   "cell_type": "code",
   "execution_count": 6,
   "metadata": {
    "execution": {
     "iopub.execute_input": "2020-12-10T15:48:01.364838Z",
     "iopub.status.busy": "2020-12-10T15:48:01.364621Z",
     "iopub.status.idle": "2020-12-10T15:48:01.369050Z",
     "shell.execute_reply": "2020-12-10T15:48:01.368473Z",
     "shell.execute_reply.started": "2020-12-10T15:48:01.364812Z"
    }
   },
   "outputs": [],
   "source": [
    "def gif_save(DIR_PNG,ep,ave_reward):\n",
    "    # make gif\n",
    "    images = []\n",
    "    for f in os.listdir(DIR_PNG):\n",
    "        images.append(imageio.imread(os.path.join(DIR_PNG,f)))\n",
    "    imageio.mimsave(os.path.join(DIR,str(ep)+'_r_'+str(ave_reward)+'.gif'),images)\n",
    "    shutil.rmtree(DIR_PNG)"
   ]
  },
  {
   "cell_type": "code",
   "execution_count": 7,
   "metadata": {
    "execution": {
     "iopub.execute_input": "2020-12-10T15:48:02.265839Z",
     "iopub.status.busy": "2020-12-10T15:48:02.265619Z",
     "iopub.status.idle": "2020-12-10T15:48:02.269199Z",
     "shell.execute_reply": "2020-12-10T15:48:02.268638Z",
     "shell.execute_reply.started": "2020-12-10T15:48:02.265813Z"
    }
   },
   "outputs": [],
   "source": [
    "def png_save(DIR_PNG,env,step):\n",
    "    plt.imsave(os.path.join(DIR_PNG,str(step)+'.png'),env.render(mode='rgb_array'))"
   ]
  },
  {
   "cell_type": "markdown",
   "metadata": {},
   "source": [
    "## Train The Model        "
   ]
  },
  {
   "cell_type": "code",
   "execution_count": 9,
   "metadata": {
    "execution": {
     "iopub.execute_input": "2020-12-10T15:48:16.448519Z",
     "iopub.status.busy": "2020-12-10T15:48:16.448303Z",
     "iopub.status.idle": "2020-12-10T15:48:16.452354Z",
     "shell.execute_reply": "2020-12-10T15:48:16.451693Z",
     "shell.execute_reply.started": "2020-12-10T15:48:16.448494Z"
    }
   },
   "outputs": [],
   "source": [
    "class Args:\n",
    "    EPOCHS   = 2\n",
    "    \n",
    "    GAMMA    = 0.9\n",
    "    EPSILON  = 0.3\n",
    "    EPSILON_DECAY  = 0.9997\n",
    "    \n",
    "    LEARNING_RATE = 0.01\n",
    "    \n",
    "    BATCH_SIZE  = 64\n",
    "    MEMORY_SIZE = 5_00\n",
    "\n",
    "    MODEL_UPDATE_STEP   = 2000\n",
    "    MEMORY_SAMPLE_START = 0.2\n",
    "    \n",
    "    WRAPPER_SIZE = 4"
   ]
  },
  {
   "cell_type": "code",
   "execution_count": 10,
   "metadata": {
    "execution": {
     "iopub.execute_input": "2020-12-10T15:48:18.176643Z",
     "iopub.status.busy": "2020-12-10T15:48:18.176427Z",
     "iopub.status.idle": "2020-12-10T15:48:18.180857Z",
     "shell.execute_reply": "2020-12-10T15:48:18.180220Z",
     "shell.execute_reply.started": "2020-12-10T15:48:18.176618Z"
    }
   },
   "outputs": [],
   "source": [
    "args = Args\n",
    "EPOCHS = args.EPOCHS\n",
    "\n",
    "GAMMA   = args.GAMMA\n",
    "EPSILON = args.EPSILON\n",
    "EPSILON_DECAY = args.EPSILON_DECAY\n",
    "\n",
    "LEARNING_RATE = args.LEARNING_RATE\n",
    "\n",
    "BATCH_SIZE = args.BATCH_SIZE\n",
    "MEMORY_SIZE = args.MEMORY_SIZE\n",
    "\n",
    "MODEL_UPDATE_STEP = args.MODEL_UPDATE_STEP\n",
    "\n",
    "MEMORY_SAMPLE_START = args.MEMORY_SAMPLE_START\n",
    "\n",
    "WRAPPER_SIZE = args.WRAPPER_SIZE\n"
   ]
  },
  {
   "cell_type": "code",
   "execution_count": 11,
   "metadata": {
    "execution": {
     "iopub.execute_input": "2020-12-10T15:48:24.222143Z",
     "iopub.status.busy": "2020-12-10T15:48:24.221928Z",
     "iopub.status.idle": "2020-12-10T15:48:24.344620Z",
     "shell.execute_reply": "2020-12-10T15:48:24.344117Z",
     "shell.execute_reply.started": "2020-12-10T15:48:24.222118Z"
    }
   },
   "outputs": [],
   "source": [
    "env_name = 'Pong-v0'\n",
    "env = gym.make(env_name)\n",
    "\n",
    "N_ACT = env.action_space.n\n",
    "N_OB  = env.observation_space.shape"
   ]
  },
  {
   "cell_type": "code",
   "execution_count": 12,
   "metadata": {
    "execution": {
     "iopub.execute_input": "2020-12-10T15:48:38.831576Z",
     "iopub.status.busy": "2020-12-10T15:48:38.831359Z",
     "iopub.status.idle": "2020-12-10T15:48:38.835369Z",
     "shell.execute_reply": "2020-12-10T15:48:38.834675Z",
     "shell.execute_reply.started": "2020-12-10T15:48:38.831550Z"
    }
   },
   "outputs": [
    {
     "name": "stdout",
     "output_type": "stream",
     "text": [
      "['NOOP', 'FIRE', 'RIGHT', 'LEFT', 'RIGHTFIRE', 'LEFTFIRE']\n"
     ]
    }
   ],
   "source": [
    "print(env.unwrapped.get_action_meanings())"
   ]
  },
  {
   "cell_type": "code",
   "execution_count": 13,
   "metadata": {
    "execution": {
     "iopub.execute_input": "2020-12-10T15:48:59.336522Z",
     "iopub.status.busy": "2020-12-10T15:48:59.336304Z",
     "iopub.status.idle": "2020-12-10T15:48:59.840700Z",
     "shell.execute_reply": "2020-12-10T15:48:59.840197Z",
     "shell.execute_reply.started": "2020-12-10T15:48:59.336497Z"
    }
   },
   "outputs": [],
   "source": [
    "agent = Agent(N_ACT,N_OB,\\\n",
    "             GAMMA = GAMMA, EPSILON = EPSILON, EPSILON_DECAY = EPSILON_DECAY, \\\n",
    "             MODEL_UPDATE_STEP   = MODEL_UPDATE_STEP,   \\\n",
    "             MEMORY_SAMPLE_START = MEMORY_SAMPLE_START, \\\n",
    "             LEARNING_RATE = LEARNING_RATE, \\\n",
    "             MEMORY_SIZE   = MEMORY_SIZE,   \\\n",
    "             BATCH_SIZE    = BATCH_SIZE,    \\\n",
    "             WRAPPER_SIZE  = WRAPPER_SIZE \\\n",
    "             )"
   ]
  },
  {
   "cell_type": "markdown",
   "metadata": {},
   "source": [
    "### Main"
   ]
  },
  {
   "cell_type": "code",
   "execution_count": 18,
   "metadata": {
    "execution": {
     "iopub.execute_input": "2020-12-10T15:50:35.471616Z",
     "iopub.status.busy": "2020-12-10T15:50:35.471399Z",
     "iopub.status.idle": "2020-12-10T15:50:35.489253Z",
     "shell.execute_reply": "2020-12-10T15:50:35.488820Z",
     "shell.execute_reply.started": "2020-12-10T15:50:35.471590Z"
    }
   },
   "outputs": [],
   "source": [
    "reward_summary = {\n",
    "    'max':[],\n",
    "    'min':[],\n",
    "    'ave':[],\n",
    "    'sum':[]\n",
    "}\n",
    "\n",
    "ROOT_DIR = 'test_DQN'\n",
    "DIR = os.path.join(ROOT_DIR,datetime.datetime.now().strftime('%Y-%m-%d_%H-%M-%S'))\n",
    "try:\n",
    "    os.makedirs(DIR)\n",
    "except:\n",
    "    pass\n",
    "\n",
    "log_file = open(DIR+'/log.txt','w')\n",
    "\n",
    "state      = ObWrapper(WRAPPER_SIZE=WRAPPER_SIZE)\n",
    "state_next = ObWrapper(WRAPPER_SIZE=WRAPPER_SIZE)\n",
    "\n",
    "ob = env.reset()\n",
    "state_next(ob)\n",
    "while (len(state_next) is not WRAPPER_SIZE):\n",
    "    state(ob)\n",
    "    state_next(ob)\n",
    "\n",
    "DIR_PNG = os.path.join(DIR,\"temp_png\")"
   ]
  },
  {
   "cell_type": "code",
   "execution_count": 19,
   "metadata": {
    "execution": {
     "iopub.execute_input": "2020-12-10T15:51:44.557217Z",
     "iopub.status.busy": "2020-12-10T15:51:44.557000Z",
     "iopub.status.idle": "2020-12-10T16:08:39.195513Z",
     "shell.execute_reply": "2020-12-10T16:08:39.194736Z",
     "shell.execute_reply.started": "2020-12-10T15:51:44.557192Z"
    }
   },
   "outputs": [
    {
     "name": "stdout",
     "output_type": "stream",
     "text": [
      "> \u001b[0;32m<ipython-input-19-c34526c0e11a>\u001b[0m(17)\u001b[0;36m<module>\u001b[0;34m()\u001b[0m\n",
      "\u001b[0;32m     15 \u001b[0;31m        \u001b[0mpng_save\u001b[0m\u001b[0;34m(\u001b[0m\u001b[0mDIR_PNG\u001b[0m\u001b[0;34m,\u001b[0m\u001b[0menv\u001b[0m\u001b[0;34m,\u001b[0m\u001b[0mstep\u001b[0m\u001b[0;34m)\u001b[0m\u001b[0;34m\u001b[0m\u001b[0;34m\u001b[0m\u001b[0m\n",
      "\u001b[0m\u001b[0;32m     16 \u001b[0;31m        \u001b[0mset_trace\u001b[0m\u001b[0;34m(\u001b[0m\u001b[0;34m)\u001b[0m\u001b[0;34m\u001b[0m\u001b[0;34m\u001b[0m\u001b[0m\n",
      "\u001b[0m\u001b[0;32m---> 17 \u001b[0;31m        \u001b[0mstate\u001b[0m\u001b[0;34m(\u001b[0m\u001b[0mob\u001b[0m\u001b[0;34m)\u001b[0m\u001b[0;34m\u001b[0m\u001b[0;34m\u001b[0m\u001b[0m\n",
      "\u001b[0m\u001b[0;32m     18 \u001b[0;31m        \u001b[0mact\u001b[0m \u001b[0;34m=\u001b[0m \u001b[0magent\u001b[0m\u001b[0;34m.\u001b[0m\u001b[0mget_action\u001b[0m\u001b[0;34m(\u001b[0m\u001b[0mstate\u001b[0m\u001b[0;34m)\u001b[0m\u001b[0;34m\u001b[0m\u001b[0;34m\u001b[0m\u001b[0m\n",
      "\u001b[0m\u001b[0;32m     19 \u001b[0;31m\u001b[0;34m\u001b[0m\u001b[0m\n",
      "\u001b[0m\n"
     ]
    },
    {
     "name": "stdin",
     "output_type": "stream",
     "text": [
      "ipdb>  c\n"
     ]
    },
    {
     "name": "stdout",
     "output_type": "stream",
     "text": [
      "> \u001b[0;32m<ipython-input-19-c34526c0e11a>\u001b[0m(16)\u001b[0;36m<module>\u001b[0;34m()\u001b[0m\n",
      "\u001b[0;32m     14 \u001b[0;31m    \u001b[0;32mwhile\u001b[0m\u001b[0;34m(\u001b[0m\u001b[0;36m1\u001b[0m\u001b[0;34m)\u001b[0m\u001b[0;34m:\u001b[0m\u001b[0;34m\u001b[0m\u001b[0;34m\u001b[0m\u001b[0m\n",
      "\u001b[0m\u001b[0;32m     15 \u001b[0;31m        \u001b[0mpng_save\u001b[0m\u001b[0;34m(\u001b[0m\u001b[0mDIR_PNG\u001b[0m\u001b[0;34m,\u001b[0m\u001b[0menv\u001b[0m\u001b[0;34m,\u001b[0m\u001b[0mstep\u001b[0m\u001b[0;34m)\u001b[0m\u001b[0;34m\u001b[0m\u001b[0;34m\u001b[0m\u001b[0m\n",
      "\u001b[0m\u001b[0;32m---> 16 \u001b[0;31m        \u001b[0mset_trace\u001b[0m\u001b[0;34m(\u001b[0m\u001b[0;34m)\u001b[0m\u001b[0;34m\u001b[0m\u001b[0;34m\u001b[0m\u001b[0m\n",
      "\u001b[0m\u001b[0;32m     17 \u001b[0;31m        \u001b[0mstate\u001b[0m\u001b[0;34m(\u001b[0m\u001b[0mob\u001b[0m\u001b[0;34m)\u001b[0m\u001b[0;34m\u001b[0m\u001b[0;34m\u001b[0m\u001b[0m\n",
      "\u001b[0m\u001b[0;32m     18 \u001b[0;31m        \u001b[0mact\u001b[0m \u001b[0;34m=\u001b[0m \u001b[0magent\u001b[0m\u001b[0;34m.\u001b[0m\u001b[0mget_action\u001b[0m\u001b[0;34m(\u001b[0m\u001b[0mstate\u001b[0m\u001b[0;34m)\u001b[0m\u001b[0;34m\u001b[0m\u001b[0;34m\u001b[0m\u001b[0m\n",
      "\u001b[0m\n"
     ]
    },
    {
     "name": "stdin",
     "output_type": "stream",
     "text": [
      "ipdb>  c\n"
     ]
    },
    {
     "name": "stdout",
     "output_type": "stream",
     "text": [
      "> \u001b[0;32m<ipython-input-19-c34526c0e11a>\u001b[0m(17)\u001b[0;36m<module>\u001b[0;34m()\u001b[0m\n",
      "\u001b[0;32m     15 \u001b[0;31m        \u001b[0mpng_save\u001b[0m\u001b[0;34m(\u001b[0m\u001b[0mDIR_PNG\u001b[0m\u001b[0;34m,\u001b[0m\u001b[0menv\u001b[0m\u001b[0;34m,\u001b[0m\u001b[0mstep\u001b[0m\u001b[0;34m)\u001b[0m\u001b[0;34m\u001b[0m\u001b[0;34m\u001b[0m\u001b[0m\n",
      "\u001b[0m\u001b[0;32m     16 \u001b[0;31m        \u001b[0mset_trace\u001b[0m\u001b[0;34m(\u001b[0m\u001b[0;34m)\u001b[0m\u001b[0;34m\u001b[0m\u001b[0;34m\u001b[0m\u001b[0m\n",
      "\u001b[0m\u001b[0;32m---> 17 \u001b[0;31m        \u001b[0mstate\u001b[0m\u001b[0;34m(\u001b[0m\u001b[0mob\u001b[0m\u001b[0;34m)\u001b[0m\u001b[0;34m\u001b[0m\u001b[0;34m\u001b[0m\u001b[0m\n",
      "\u001b[0m\u001b[0;32m     18 \u001b[0;31m        \u001b[0mact\u001b[0m \u001b[0;34m=\u001b[0m \u001b[0magent\u001b[0m\u001b[0;34m.\u001b[0m\u001b[0mget_action\u001b[0m\u001b[0;34m(\u001b[0m\u001b[0mstate\u001b[0m\u001b[0;34m)\u001b[0m\u001b[0;34m\u001b[0m\u001b[0;34m\u001b[0m\u001b[0m\n",
      "\u001b[0m\u001b[0;32m     19 \u001b[0;31m\u001b[0;34m\u001b[0m\u001b[0m\n",
      "\u001b[0m\n"
     ]
    },
    {
     "name": "stdin",
     "output_type": "stream",
     "text": [
      "ipdb>  c\n"
     ]
    },
    {
     "name": "stdout",
     "output_type": "stream",
     "text": [
      "> \u001b[0;32m<ipython-input-19-c34526c0e11a>\u001b[0m(16)\u001b[0;36m<module>\u001b[0;34m()\u001b[0m\n",
      "\u001b[0;32m     14 \u001b[0;31m    \u001b[0;32mwhile\u001b[0m\u001b[0;34m(\u001b[0m\u001b[0;36m1\u001b[0m\u001b[0;34m)\u001b[0m\u001b[0;34m:\u001b[0m\u001b[0;34m\u001b[0m\u001b[0;34m\u001b[0m\u001b[0m\n",
      "\u001b[0m\u001b[0;32m     15 \u001b[0;31m        \u001b[0mpng_save\u001b[0m\u001b[0;34m(\u001b[0m\u001b[0mDIR_PNG\u001b[0m\u001b[0;34m,\u001b[0m\u001b[0menv\u001b[0m\u001b[0;34m,\u001b[0m\u001b[0mstep\u001b[0m\u001b[0;34m)\u001b[0m\u001b[0;34m\u001b[0m\u001b[0;34m\u001b[0m\u001b[0m\n",
      "\u001b[0m\u001b[0;32m---> 16 \u001b[0;31m        \u001b[0mset_trace\u001b[0m\u001b[0;34m(\u001b[0m\u001b[0;34m)\u001b[0m\u001b[0;34m\u001b[0m\u001b[0;34m\u001b[0m\u001b[0m\n",
      "\u001b[0m\u001b[0;32m     17 \u001b[0;31m        \u001b[0mstate\u001b[0m\u001b[0;34m(\u001b[0m\u001b[0mob\u001b[0m\u001b[0;34m)\u001b[0m\u001b[0;34m\u001b[0m\u001b[0;34m\u001b[0m\u001b[0m\n",
      "\u001b[0m\u001b[0;32m     18 \u001b[0;31m        \u001b[0mact\u001b[0m \u001b[0;34m=\u001b[0m \u001b[0magent\u001b[0m\u001b[0;34m.\u001b[0m\u001b[0mget_action\u001b[0m\u001b[0;34m(\u001b[0m\u001b[0mstate\u001b[0m\u001b[0;34m)\u001b[0m\u001b[0;34m\u001b[0m\u001b[0;34m\u001b[0m\u001b[0m\n",
      "\u001b[0m\n"
     ]
    },
    {
     "name": "stdin",
     "output_type": "stream",
     "text": [
      "ipdb>  c\n"
     ]
    },
    {
     "name": "stdout",
     "output_type": "stream",
     "text": [
      "> \u001b[0;32m<ipython-input-19-c34526c0e11a>\u001b[0m(17)\u001b[0;36m<module>\u001b[0;34m()\u001b[0m\n",
      "\u001b[0;32m     15 \u001b[0;31m        \u001b[0mpng_save\u001b[0m\u001b[0;34m(\u001b[0m\u001b[0mDIR_PNG\u001b[0m\u001b[0;34m,\u001b[0m\u001b[0menv\u001b[0m\u001b[0;34m,\u001b[0m\u001b[0mstep\u001b[0m\u001b[0;34m)\u001b[0m\u001b[0;34m\u001b[0m\u001b[0;34m\u001b[0m\u001b[0m\n",
      "\u001b[0m\u001b[0;32m     16 \u001b[0;31m        \u001b[0mset_trace\u001b[0m\u001b[0;34m(\u001b[0m\u001b[0;34m)\u001b[0m\u001b[0;34m\u001b[0m\u001b[0;34m\u001b[0m\u001b[0m\n",
      "\u001b[0m\u001b[0;32m---> 17 \u001b[0;31m        \u001b[0mstate\u001b[0m\u001b[0;34m(\u001b[0m\u001b[0mob\u001b[0m\u001b[0;34m)\u001b[0m\u001b[0;34m\u001b[0m\u001b[0;34m\u001b[0m\u001b[0m\n",
      "\u001b[0m\u001b[0;32m     18 \u001b[0;31m        \u001b[0mact\u001b[0m \u001b[0;34m=\u001b[0m \u001b[0magent\u001b[0m\u001b[0;34m.\u001b[0m\u001b[0mget_action\u001b[0m\u001b[0;34m(\u001b[0m\u001b[0mstate\u001b[0m\u001b[0;34m)\u001b[0m\u001b[0;34m\u001b[0m\u001b[0;34m\u001b[0m\u001b[0m\n",
      "\u001b[0m\u001b[0;32m     19 \u001b[0;31m\u001b[0;34m\u001b[0m\u001b[0m\n",
      "\u001b[0m\n"
     ]
    },
    {
     "name": "stdin",
     "output_type": "stream",
     "text": [
      "ipdb>  c\n"
     ]
    },
    {
     "name": "stdout",
     "output_type": "stream",
     "text": [
      "> \u001b[0;32m<ipython-input-19-c34526c0e11a>\u001b[0m(16)\u001b[0;36m<module>\u001b[0;34m()\u001b[0m\n",
      "\u001b[0;32m     14 \u001b[0;31m    \u001b[0;32mwhile\u001b[0m\u001b[0;34m(\u001b[0m\u001b[0;36m1\u001b[0m\u001b[0;34m)\u001b[0m\u001b[0;34m:\u001b[0m\u001b[0;34m\u001b[0m\u001b[0;34m\u001b[0m\u001b[0m\n",
      "\u001b[0m\u001b[0;32m     15 \u001b[0;31m        \u001b[0mpng_save\u001b[0m\u001b[0;34m(\u001b[0m\u001b[0mDIR_PNG\u001b[0m\u001b[0;34m,\u001b[0m\u001b[0menv\u001b[0m\u001b[0;34m,\u001b[0m\u001b[0mstep\u001b[0m\u001b[0;34m)\u001b[0m\u001b[0;34m\u001b[0m\u001b[0;34m\u001b[0m\u001b[0m\n",
      "\u001b[0m\u001b[0;32m---> 16 \u001b[0;31m        \u001b[0mset_trace\u001b[0m\u001b[0;34m(\u001b[0m\u001b[0;34m)\u001b[0m\u001b[0;34m\u001b[0m\u001b[0;34m\u001b[0m\u001b[0m\n",
      "\u001b[0m\u001b[0;32m     17 \u001b[0;31m        \u001b[0mstate\u001b[0m\u001b[0;34m(\u001b[0m\u001b[0mob\u001b[0m\u001b[0;34m)\u001b[0m\u001b[0;34m\u001b[0m\u001b[0;34m\u001b[0m\u001b[0m\n",
      "\u001b[0m\u001b[0;32m     18 \u001b[0;31m        \u001b[0mact\u001b[0m \u001b[0;34m=\u001b[0m \u001b[0magent\u001b[0m\u001b[0;34m.\u001b[0m\u001b[0mget_action\u001b[0m\u001b[0;34m(\u001b[0m\u001b[0mstate\u001b[0m\u001b[0;34m)\u001b[0m\u001b[0;34m\u001b[0m\u001b[0;34m\u001b[0m\u001b[0m\n",
      "\u001b[0m\n"
     ]
    },
    {
     "name": "stdin",
     "output_type": "stream",
     "text": [
      "ipdb>  c\n"
     ]
    },
    {
     "name": "stdout",
     "output_type": "stream",
     "text": [
      "> \u001b[0;32m<ipython-input-19-c34526c0e11a>\u001b[0m(17)\u001b[0;36m<module>\u001b[0;34m()\u001b[0m\n",
      "\u001b[0;32m     15 \u001b[0;31m        \u001b[0mpng_save\u001b[0m\u001b[0;34m(\u001b[0m\u001b[0mDIR_PNG\u001b[0m\u001b[0;34m,\u001b[0m\u001b[0menv\u001b[0m\u001b[0;34m,\u001b[0m\u001b[0mstep\u001b[0m\u001b[0;34m)\u001b[0m\u001b[0;34m\u001b[0m\u001b[0;34m\u001b[0m\u001b[0m\n",
      "\u001b[0m\u001b[0;32m     16 \u001b[0;31m        \u001b[0mset_trace\u001b[0m\u001b[0;34m(\u001b[0m\u001b[0;34m)\u001b[0m\u001b[0;34m\u001b[0m\u001b[0;34m\u001b[0m\u001b[0m\n",
      "\u001b[0m\u001b[0;32m---> 17 \u001b[0;31m        \u001b[0mstate\u001b[0m\u001b[0;34m(\u001b[0m\u001b[0mob\u001b[0m\u001b[0;34m)\u001b[0m\u001b[0;34m\u001b[0m\u001b[0;34m\u001b[0m\u001b[0m\n",
      "\u001b[0m\u001b[0;32m     18 \u001b[0;31m        \u001b[0mact\u001b[0m \u001b[0;34m=\u001b[0m \u001b[0magent\u001b[0m\u001b[0;34m.\u001b[0m\u001b[0mget_action\u001b[0m\u001b[0;34m(\u001b[0m\u001b[0mstate\u001b[0m\u001b[0;34m)\u001b[0m\u001b[0;34m\u001b[0m\u001b[0;34m\u001b[0m\u001b[0m\n",
      "\u001b[0m\u001b[0;32m     19 \u001b[0;31m\u001b[0;34m\u001b[0m\u001b[0m\n",
      "\u001b[0m\n"
     ]
    },
    {
     "name": "stdin",
     "output_type": "stream",
     "text": [
      "ipdb>  c\n"
     ]
    },
    {
     "name": "stdout",
     "output_type": "stream",
     "text": [
      "> \u001b[0;32m<ipython-input-19-c34526c0e11a>\u001b[0m(16)\u001b[0;36m<module>\u001b[0;34m()\u001b[0m\n",
      "\u001b[0;32m     14 \u001b[0;31m    \u001b[0;32mwhile\u001b[0m\u001b[0;34m(\u001b[0m\u001b[0;36m1\u001b[0m\u001b[0;34m)\u001b[0m\u001b[0;34m:\u001b[0m\u001b[0;34m\u001b[0m\u001b[0;34m\u001b[0m\u001b[0m\n",
      "\u001b[0m\u001b[0;32m     15 \u001b[0;31m        \u001b[0mpng_save\u001b[0m\u001b[0;34m(\u001b[0m\u001b[0mDIR_PNG\u001b[0m\u001b[0;34m,\u001b[0m\u001b[0menv\u001b[0m\u001b[0;34m,\u001b[0m\u001b[0mstep\u001b[0m\u001b[0;34m)\u001b[0m\u001b[0;34m\u001b[0m\u001b[0;34m\u001b[0m\u001b[0m\n",
      "\u001b[0m\u001b[0;32m---> 16 \u001b[0;31m        \u001b[0mset_trace\u001b[0m\u001b[0;34m(\u001b[0m\u001b[0;34m)\u001b[0m\u001b[0;34m\u001b[0m\u001b[0;34m\u001b[0m\u001b[0m\n",
      "\u001b[0m\u001b[0;32m     17 \u001b[0;31m        \u001b[0mstate\u001b[0m\u001b[0;34m(\u001b[0m\u001b[0mob\u001b[0m\u001b[0;34m)\u001b[0m\u001b[0;34m\u001b[0m\u001b[0;34m\u001b[0m\u001b[0m\n",
      "\u001b[0m\u001b[0;32m     18 \u001b[0;31m        \u001b[0mact\u001b[0m \u001b[0;34m=\u001b[0m \u001b[0magent\u001b[0m\u001b[0;34m.\u001b[0m\u001b[0mget_action\u001b[0m\u001b[0;34m(\u001b[0m\u001b[0mstate\u001b[0m\u001b[0;34m)\u001b[0m\u001b[0;34m\u001b[0m\u001b[0;34m\u001b[0m\u001b[0m\n",
      "\u001b[0m\n"
     ]
    },
    {
     "name": "stdin",
     "output_type": "stream",
     "text": [
      "ipdb>  c\n"
     ]
    },
    {
     "name": "stdout",
     "output_type": "stream",
     "text": [
      "> \u001b[0;32m<ipython-input-19-c34526c0e11a>\u001b[0m(17)\u001b[0;36m<module>\u001b[0;34m()\u001b[0m\n",
      "\u001b[0;32m     15 \u001b[0;31m        \u001b[0mpng_save\u001b[0m\u001b[0;34m(\u001b[0m\u001b[0mDIR_PNG\u001b[0m\u001b[0;34m,\u001b[0m\u001b[0menv\u001b[0m\u001b[0;34m,\u001b[0m\u001b[0mstep\u001b[0m\u001b[0;34m)\u001b[0m\u001b[0;34m\u001b[0m\u001b[0;34m\u001b[0m\u001b[0m\n",
      "\u001b[0m\u001b[0;32m     16 \u001b[0;31m        \u001b[0mset_trace\u001b[0m\u001b[0;34m(\u001b[0m\u001b[0;34m)\u001b[0m\u001b[0;34m\u001b[0m\u001b[0;34m\u001b[0m\u001b[0m\n",
      "\u001b[0m\u001b[0;32m---> 17 \u001b[0;31m        \u001b[0mstate\u001b[0m\u001b[0;34m(\u001b[0m\u001b[0mob\u001b[0m\u001b[0;34m)\u001b[0m\u001b[0;34m\u001b[0m\u001b[0;34m\u001b[0m\u001b[0m\n",
      "\u001b[0m\u001b[0;32m     18 \u001b[0;31m        \u001b[0mact\u001b[0m \u001b[0;34m=\u001b[0m \u001b[0magent\u001b[0m\u001b[0;34m.\u001b[0m\u001b[0mget_action\u001b[0m\u001b[0;34m(\u001b[0m\u001b[0mstate\u001b[0m\u001b[0;34m)\u001b[0m\u001b[0;34m\u001b[0m\u001b[0;34m\u001b[0m\u001b[0m\n",
      "\u001b[0m\u001b[0;32m     19 \u001b[0;31m\u001b[0;34m\u001b[0m\u001b[0m\n",
      "\u001b[0m\n"
     ]
    },
    {
     "name": "stdin",
     "output_type": "stream",
     "text": [
      "ipdb>  c\n"
     ]
    },
    {
     "name": "stdout",
     "output_type": "stream",
     "text": [
      "> \u001b[0;32m<ipython-input-19-c34526c0e11a>\u001b[0m(16)\u001b[0;36m<module>\u001b[0;34m()\u001b[0m\n",
      "\u001b[0;32m     14 \u001b[0;31m    \u001b[0;32mwhile\u001b[0m\u001b[0;34m(\u001b[0m\u001b[0;36m1\u001b[0m\u001b[0;34m)\u001b[0m\u001b[0;34m:\u001b[0m\u001b[0;34m\u001b[0m\u001b[0;34m\u001b[0m\u001b[0m\n",
      "\u001b[0m\u001b[0;32m     15 \u001b[0;31m        \u001b[0mpng_save\u001b[0m\u001b[0;34m(\u001b[0m\u001b[0mDIR_PNG\u001b[0m\u001b[0;34m,\u001b[0m\u001b[0menv\u001b[0m\u001b[0;34m,\u001b[0m\u001b[0mstep\u001b[0m\u001b[0;34m)\u001b[0m\u001b[0;34m\u001b[0m\u001b[0;34m\u001b[0m\u001b[0m\n",
      "\u001b[0m\u001b[0;32m---> 16 \u001b[0;31m        \u001b[0mset_trace\u001b[0m\u001b[0;34m(\u001b[0m\u001b[0;34m)\u001b[0m\u001b[0;34m\u001b[0m\u001b[0;34m\u001b[0m\u001b[0m\n",
      "\u001b[0m\u001b[0;32m     17 \u001b[0;31m        \u001b[0mstate\u001b[0m\u001b[0;34m(\u001b[0m\u001b[0mob\u001b[0m\u001b[0;34m)\u001b[0m\u001b[0;34m\u001b[0m\u001b[0;34m\u001b[0m\u001b[0m\n",
      "\u001b[0m\u001b[0;32m     18 \u001b[0;31m        \u001b[0mact\u001b[0m \u001b[0;34m=\u001b[0m \u001b[0magent\u001b[0m\u001b[0;34m.\u001b[0m\u001b[0mget_action\u001b[0m\u001b[0;34m(\u001b[0m\u001b[0mstate\u001b[0m\u001b[0;34m)\u001b[0m\u001b[0;34m\u001b[0m\u001b[0;34m\u001b[0m\u001b[0m\n",
      "\u001b[0m\n"
     ]
    },
    {
     "name": "stdin",
     "output_type": "stream",
     "text": [
      "ipdb>  c\n"
     ]
    },
    {
     "name": "stdout",
     "output_type": "stream",
     "text": [
      "> \u001b[0;32m<ipython-input-19-c34526c0e11a>\u001b[0m(17)\u001b[0;36m<module>\u001b[0;34m()\u001b[0m\n",
      "\u001b[0;32m     15 \u001b[0;31m        \u001b[0mpng_save\u001b[0m\u001b[0;34m(\u001b[0m\u001b[0mDIR_PNG\u001b[0m\u001b[0;34m,\u001b[0m\u001b[0menv\u001b[0m\u001b[0;34m,\u001b[0m\u001b[0mstep\u001b[0m\u001b[0;34m)\u001b[0m\u001b[0;34m\u001b[0m\u001b[0;34m\u001b[0m\u001b[0m\n",
      "\u001b[0m\u001b[0;32m     16 \u001b[0;31m        \u001b[0mset_trace\u001b[0m\u001b[0;34m(\u001b[0m\u001b[0;34m)\u001b[0m\u001b[0;34m\u001b[0m\u001b[0;34m\u001b[0m\u001b[0m\n",
      "\u001b[0m\u001b[0;32m---> 17 \u001b[0;31m        \u001b[0mstate\u001b[0m\u001b[0;34m(\u001b[0m\u001b[0mob\u001b[0m\u001b[0;34m)\u001b[0m\u001b[0;34m\u001b[0m\u001b[0;34m\u001b[0m\u001b[0m\n",
      "\u001b[0m\u001b[0;32m     18 \u001b[0;31m        \u001b[0mact\u001b[0m \u001b[0;34m=\u001b[0m \u001b[0magent\u001b[0m\u001b[0;34m.\u001b[0m\u001b[0mget_action\u001b[0m\u001b[0;34m(\u001b[0m\u001b[0mstate\u001b[0m\u001b[0;34m)\u001b[0m\u001b[0;34m\u001b[0m\u001b[0;34m\u001b[0m\u001b[0m\n",
      "\u001b[0m\u001b[0;32m     19 \u001b[0;31m\u001b[0;34m\u001b[0m\u001b[0m\n",
      "\u001b[0m\n"
     ]
    },
    {
     "name": "stdin",
     "output_type": "stream",
     "text": [
      "ipdb>  c\n"
     ]
    },
    {
     "name": "stdout",
     "output_type": "stream",
     "text": [
      "> \u001b[0;32m<ipython-input-19-c34526c0e11a>\u001b[0m(16)\u001b[0;36m<module>\u001b[0;34m()\u001b[0m\n",
      "\u001b[0;32m     14 \u001b[0;31m    \u001b[0;32mwhile\u001b[0m\u001b[0;34m(\u001b[0m\u001b[0;36m1\u001b[0m\u001b[0;34m)\u001b[0m\u001b[0;34m:\u001b[0m\u001b[0;34m\u001b[0m\u001b[0;34m\u001b[0m\u001b[0m\n",
      "\u001b[0m\u001b[0;32m     15 \u001b[0;31m        \u001b[0mpng_save\u001b[0m\u001b[0;34m(\u001b[0m\u001b[0mDIR_PNG\u001b[0m\u001b[0;34m,\u001b[0m\u001b[0menv\u001b[0m\u001b[0;34m,\u001b[0m\u001b[0mstep\u001b[0m\u001b[0;34m)\u001b[0m\u001b[0;34m\u001b[0m\u001b[0;34m\u001b[0m\u001b[0m\n",
      "\u001b[0m\u001b[0;32m---> 16 \u001b[0;31m        \u001b[0mset_trace\u001b[0m\u001b[0;34m(\u001b[0m\u001b[0;34m)\u001b[0m\u001b[0;34m\u001b[0m\u001b[0;34m\u001b[0m\u001b[0m\n",
      "\u001b[0m\u001b[0;32m     17 \u001b[0;31m        \u001b[0mstate\u001b[0m\u001b[0;34m(\u001b[0m\u001b[0mob\u001b[0m\u001b[0;34m)\u001b[0m\u001b[0;34m\u001b[0m\u001b[0;34m\u001b[0m\u001b[0m\n",
      "\u001b[0m\u001b[0;32m     18 \u001b[0;31m        \u001b[0mact\u001b[0m \u001b[0;34m=\u001b[0m \u001b[0magent\u001b[0m\u001b[0;34m.\u001b[0m\u001b[0mget_action\u001b[0m\u001b[0;34m(\u001b[0m\u001b[0mstate\u001b[0m\u001b[0;34m)\u001b[0m\u001b[0;34m\u001b[0m\u001b[0;34m\u001b[0m\u001b[0m\n",
      "\u001b[0m\n"
     ]
    },
    {
     "name": "stdin",
     "output_type": "stream",
     "text": [
      "ipdb>  c\n"
     ]
    },
    {
     "name": "stdout",
     "output_type": "stream",
     "text": [
      "> \u001b[0;32m<ipython-input-19-c34526c0e11a>\u001b[0m(17)\u001b[0;36m<module>\u001b[0;34m()\u001b[0m\n",
      "\u001b[0;32m     15 \u001b[0;31m        \u001b[0mpng_save\u001b[0m\u001b[0;34m(\u001b[0m\u001b[0mDIR_PNG\u001b[0m\u001b[0;34m,\u001b[0m\u001b[0menv\u001b[0m\u001b[0;34m,\u001b[0m\u001b[0mstep\u001b[0m\u001b[0;34m)\u001b[0m\u001b[0;34m\u001b[0m\u001b[0;34m\u001b[0m\u001b[0m\n",
      "\u001b[0m\u001b[0;32m     16 \u001b[0;31m        \u001b[0mset_trace\u001b[0m\u001b[0;34m(\u001b[0m\u001b[0;34m)\u001b[0m\u001b[0;34m\u001b[0m\u001b[0;34m\u001b[0m\u001b[0m\n",
      "\u001b[0m\u001b[0;32m---> 17 \u001b[0;31m        \u001b[0mstate\u001b[0m\u001b[0;34m(\u001b[0m\u001b[0mob\u001b[0m\u001b[0;34m)\u001b[0m\u001b[0;34m\u001b[0m\u001b[0;34m\u001b[0m\u001b[0m\n",
      "\u001b[0m\u001b[0;32m     18 \u001b[0;31m        \u001b[0mact\u001b[0m \u001b[0;34m=\u001b[0m \u001b[0magent\u001b[0m\u001b[0;34m.\u001b[0m\u001b[0mget_action\u001b[0m\u001b[0;34m(\u001b[0m\u001b[0mstate\u001b[0m\u001b[0;34m)\u001b[0m\u001b[0;34m\u001b[0m\u001b[0;34m\u001b[0m\u001b[0m\n",
      "\u001b[0m\u001b[0;32m     19 \u001b[0;31m\u001b[0;34m\u001b[0m\u001b[0m\n",
      "\u001b[0m\n"
     ]
    },
    {
     "name": "stdin",
     "output_type": "stream",
     "text": [
      "ipdb>  q\n"
     ]
    },
    {
     "ename": "BdbQuit",
     "evalue": "",
     "output_type": "error",
     "traceback": [
      "\u001b[0;31m---------------------------------------------------------------------------\u001b[0m",
      "\u001b[0;31mBdbQuit\u001b[0m                                   Traceback (most recent call last)",
      "\u001b[0;32m<ipython-input-19-c34526c0e11a>\u001b[0m in \u001b[0;36m<module>\u001b[0;34m\u001b[0m\n\u001b[1;32m     15\u001b[0m         \u001b[0mpng_save\u001b[0m\u001b[0;34m(\u001b[0m\u001b[0mDIR_PNG\u001b[0m\u001b[0;34m,\u001b[0m\u001b[0menv\u001b[0m\u001b[0;34m,\u001b[0m\u001b[0mstep\u001b[0m\u001b[0;34m)\u001b[0m\u001b[0;34m\u001b[0m\u001b[0;34m\u001b[0m\u001b[0m\n\u001b[1;32m     16\u001b[0m         \u001b[0mset_trace\u001b[0m\u001b[0;34m(\u001b[0m\u001b[0;34m)\u001b[0m\u001b[0;34m\u001b[0m\u001b[0;34m\u001b[0m\u001b[0m\n\u001b[0;32m---> 17\u001b[0;31m         \u001b[0mstate\u001b[0m\u001b[0;34m(\u001b[0m\u001b[0mob\u001b[0m\u001b[0;34m)\u001b[0m\u001b[0;34m\u001b[0m\u001b[0;34m\u001b[0m\u001b[0m\n\u001b[0m\u001b[1;32m     18\u001b[0m         \u001b[0mact\u001b[0m \u001b[0;34m=\u001b[0m \u001b[0magent\u001b[0m\u001b[0;34m.\u001b[0m\u001b[0mget_action\u001b[0m\u001b[0;34m(\u001b[0m\u001b[0mstate\u001b[0m\u001b[0;34m)\u001b[0m\u001b[0;34m\u001b[0m\u001b[0;34m\u001b[0m\u001b[0m\n\u001b[1;32m     19\u001b[0m \u001b[0;34m\u001b[0m\u001b[0m\n",
      "\u001b[0;32m<ipython-input-19-c34526c0e11a>\u001b[0m in \u001b[0;36m<module>\u001b[0;34m\u001b[0m\n\u001b[1;32m     15\u001b[0m         \u001b[0mpng_save\u001b[0m\u001b[0;34m(\u001b[0m\u001b[0mDIR_PNG\u001b[0m\u001b[0;34m,\u001b[0m\u001b[0menv\u001b[0m\u001b[0;34m,\u001b[0m\u001b[0mstep\u001b[0m\u001b[0;34m)\u001b[0m\u001b[0;34m\u001b[0m\u001b[0;34m\u001b[0m\u001b[0m\n\u001b[1;32m     16\u001b[0m         \u001b[0mset_trace\u001b[0m\u001b[0;34m(\u001b[0m\u001b[0;34m)\u001b[0m\u001b[0;34m\u001b[0m\u001b[0;34m\u001b[0m\u001b[0m\n\u001b[0;32m---> 17\u001b[0;31m         \u001b[0mstate\u001b[0m\u001b[0;34m(\u001b[0m\u001b[0mob\u001b[0m\u001b[0;34m)\u001b[0m\u001b[0;34m\u001b[0m\u001b[0;34m\u001b[0m\u001b[0m\n\u001b[0m\u001b[1;32m     18\u001b[0m         \u001b[0mact\u001b[0m \u001b[0;34m=\u001b[0m \u001b[0magent\u001b[0m\u001b[0;34m.\u001b[0m\u001b[0mget_action\u001b[0m\u001b[0;34m(\u001b[0m\u001b[0mstate\u001b[0m\u001b[0;34m)\u001b[0m\u001b[0;34m\u001b[0m\u001b[0;34m\u001b[0m\u001b[0m\n\u001b[1;32m     19\u001b[0m \u001b[0;34m\u001b[0m\u001b[0m\n",
      "\u001b[0;32m~/anaconda3/envs/tf/lib/python3.7/bdb.py\u001b[0m in \u001b[0;36mtrace_dispatch\u001b[0;34m(self, frame, event, arg)\u001b[0m\n\u001b[1;32m     86\u001b[0m             \u001b[0;32mreturn\u001b[0m \u001b[0;31m# None\u001b[0m\u001b[0;34m\u001b[0m\u001b[0;34m\u001b[0m\u001b[0m\n\u001b[1;32m     87\u001b[0m         \u001b[0;32mif\u001b[0m \u001b[0mevent\u001b[0m \u001b[0;34m==\u001b[0m \u001b[0;34m'line'\u001b[0m\u001b[0;34m:\u001b[0m\u001b[0;34m\u001b[0m\u001b[0;34m\u001b[0m\u001b[0m\n\u001b[0;32m---> 88\u001b[0;31m             \u001b[0;32mreturn\u001b[0m \u001b[0mself\u001b[0m\u001b[0;34m.\u001b[0m\u001b[0mdispatch_line\u001b[0m\u001b[0;34m(\u001b[0m\u001b[0mframe\u001b[0m\u001b[0;34m)\u001b[0m\u001b[0;34m\u001b[0m\u001b[0;34m\u001b[0m\u001b[0m\n\u001b[0m\u001b[1;32m     89\u001b[0m         \u001b[0;32mif\u001b[0m \u001b[0mevent\u001b[0m \u001b[0;34m==\u001b[0m \u001b[0;34m'call'\u001b[0m\u001b[0;34m:\u001b[0m\u001b[0;34m\u001b[0m\u001b[0;34m\u001b[0m\u001b[0m\n\u001b[1;32m     90\u001b[0m             \u001b[0;32mreturn\u001b[0m \u001b[0mself\u001b[0m\u001b[0;34m.\u001b[0m\u001b[0mdispatch_call\u001b[0m\u001b[0;34m(\u001b[0m\u001b[0mframe\u001b[0m\u001b[0;34m,\u001b[0m \u001b[0marg\u001b[0m\u001b[0;34m)\u001b[0m\u001b[0;34m\u001b[0m\u001b[0;34m\u001b[0m\u001b[0m\n",
      "\u001b[0;32m~/anaconda3/envs/tf/lib/python3.7/bdb.py\u001b[0m in \u001b[0;36mdispatch_line\u001b[0;34m(self, frame)\u001b[0m\n\u001b[1;32m    111\u001b[0m         \u001b[0;32mif\u001b[0m \u001b[0mself\u001b[0m\u001b[0;34m.\u001b[0m\u001b[0mstop_here\u001b[0m\u001b[0;34m(\u001b[0m\u001b[0mframe\u001b[0m\u001b[0;34m)\u001b[0m \u001b[0;32mor\u001b[0m \u001b[0mself\u001b[0m\u001b[0;34m.\u001b[0m\u001b[0mbreak_here\u001b[0m\u001b[0;34m(\u001b[0m\u001b[0mframe\u001b[0m\u001b[0;34m)\u001b[0m\u001b[0;34m:\u001b[0m\u001b[0;34m\u001b[0m\u001b[0;34m\u001b[0m\u001b[0m\n\u001b[1;32m    112\u001b[0m             \u001b[0mself\u001b[0m\u001b[0;34m.\u001b[0m\u001b[0muser_line\u001b[0m\u001b[0;34m(\u001b[0m\u001b[0mframe\u001b[0m\u001b[0;34m)\u001b[0m\u001b[0;34m\u001b[0m\u001b[0;34m\u001b[0m\u001b[0m\n\u001b[0;32m--> 113\u001b[0;31m             \u001b[0;32mif\u001b[0m \u001b[0mself\u001b[0m\u001b[0;34m.\u001b[0m\u001b[0mquitting\u001b[0m\u001b[0;34m:\u001b[0m \u001b[0;32mraise\u001b[0m \u001b[0mBdbQuit\u001b[0m\u001b[0;34m\u001b[0m\u001b[0;34m\u001b[0m\u001b[0m\n\u001b[0m\u001b[1;32m    114\u001b[0m         \u001b[0;32mreturn\u001b[0m \u001b[0mself\u001b[0m\u001b[0;34m.\u001b[0m\u001b[0mtrace_dispatch\u001b[0m\u001b[0;34m\u001b[0m\u001b[0;34m\u001b[0m\u001b[0m\n\u001b[1;32m    115\u001b[0m \u001b[0;34m\u001b[0m\u001b[0m\n",
      "\u001b[0;31mBdbQuit\u001b[0m: "
     ]
    }
   ],
   "source": [
    "# =========================================================\n",
    "for ep in range(EPOCHS):\n",
    "    \n",
    "    \n",
    "    os.mkdir(DIR_PNG) \n",
    "    \n",
    "    reward_list = []\n",
    "    step = 0\n",
    "    ob = env.reset()\n",
    "    agent.EPSILON *=agent.EPSILON_DECAY\n",
    "    \n",
    "    #======================================================\n",
    "    while(1):\n",
    "        png_save(DIR_PNG,env,step)\n",
    "        set_trace()\n",
    "        state(ob)\n",
    "        act = agent.get_action(state)\n",
    "        \n",
    "        ob_next, reward, done, info = env.step(act)\n",
    "        \n",
    "        #reward = 10 if reward else -1\n",
    "        state_next(ob_next)\n",
    "        \n",
    "        agent.memo_append([state.packup(), act, reward, state_next.packup(), done])\n",
    "        agent.train()\n",
    "        agent.target_model_update()\n",
    "\n",
    "        ob = ob_next\n",
    "        step += 1\n",
    "        reward_list.append(reward)\n",
    "        \n",
    "        if done:\n",
    "            out = \"Epoch {} - average rewards {} with step {}\".format(ep,sum(reward_list)/len(reward_list),step)\n",
    "            print(out)\n",
    "            log_file.write(out+\"\\n\")\n",
    "            reward_summary['max'].append(max(reward_list))\n",
    "            reward_summary['min'].append(min(reward_list))\n",
    "            reward_summary['sum'].append(sum(reward_list))\n",
    "            reward_summary['ave'].append(sum(reward_list)/len(reward_list))\n",
    "            break\n",
    "\n",
    "    gif_save(DIR_PNG,ep,sum(reward_list)/len(reward_list))"
   ]
  },
  {
   "cell_type": "code",
   "execution_count": 15,
   "metadata": {
    "execution": {
     "iopub.execute_input": "2020-12-10T11:33:46.937258Z",
     "iopub.status.busy": "2020-12-10T11:33:46.937163Z",
     "iopub.status.idle": "2020-12-10T11:33:47.078387Z",
     "shell.execute_reply": "2020-12-10T11:33:47.077711Z",
     "shell.execute_reply.started": "2020-12-10T11:33:46.937245Z"
    }
   },
   "outputs": [
    {
     "name": "stdout",
     "output_type": "stream",
     "text": [
      "Show the reward every ep\n"
     ]
    },
    {
     "data": {
      "image/png": "[encoded data removed]",
      "text/plain": [
       "<Figure size 432x288 with 1 Axes>"
      ]
     },
     "metadata": {
      "needs_background": "light"
     },
     "output_type": "display_data"
    }
   ],
   "source": [
    "log_file.close()\n",
    "#=============== Show the reward every ep\n",
    "print('Show the reward every ep')\n",
    "plt.figure()\n",
    "plt.plot(reward_summary['max'],label='max')\n",
    "plt.plot(reward_summary['min'],label='min')\n",
    "plt.plot(reward_summary['ave'],label='ave')\n",
    "plt.legend(loc=2)\n",
    "plt.savefig(DIR + '/rewards.png')"
   ]
  },
  {
   "cell_type": "markdown",
   "metadata": {},
   "source": [
    "reward_summary = {[max],[min],[ave]}\n",
    "\n",
    "for ep:\n",
    "\n",
    "    ob = env.reset()\n",
    "    \n",
    "    reward = []\n",
    "    save the gif\n",
    "    while(done):\n",
    "        env.reder() \n",
    "            - save png\n",
    "        act = get_action(ob)\n",
    "            \n",
    "        state<-ob\n",
    "        \n",
    "        ob_next, reward, done ,info = env.step(act)\n",
    "            reward = big if reward else -1\n",
    "            \n",
    "        state_next<-ob_next\n",
    "        \n",
    "        #=========\n",
    "        if state.len>3:\n",
    "            a-set-memory = [state,packup,(act),reward, state_next,done]\n",
    "            memo_append(a-set-memory)\n",
    "            train()\n",
    "            target_update()\n",
    "        #=========\n",
    "        \n",
    "        ob = ob_next\n",
    "        \n",
    "        reward_list.append(reward)\n",
    "        \n",
    "        if done:\n",
    "            print(step,reward)\n",
    "            log.write()\n",
    "            break\n",
    "            \n",
    "    reward_summary[max][min][ave][sum]<-reward_list\n",
    "    build_gif(ep)\n",
    "    "
   ]
  },
  {
   "cell_type": "markdown",
   "metadata": {},
   "source": [
    "### Final Run for Test"
   ]
  },
  {
   "cell_type": "code",
   "execution_count": 16,
   "metadata": {
    "execution": {
     "iopub.execute_input": "2020-12-10T11:33:47.079812Z",
     "iopub.status.busy": "2020-12-10T11:33:47.079542Z",
     "iopub.status.idle": "2020-12-10T11:33:47.082955Z",
     "shell.execute_reply": "2020-12-10T11:33:47.082340Z",
     "shell.execute_reply.started": "2020-12-10T11:33:47.079770Z"
    }
   },
   "outputs": [],
   "source": [
    "# print(state.packup().shape,state.s[0].shape[0],state.s[0].shape[0],WRAPPER_SIZE)"
   ]
  },
  {
   "cell_type": "code",
   "execution_count": 17,
   "metadata": {
    "execution": {
     "iopub.execute_input": "2020-12-10T11:34:31.924277Z",
     "iopub.status.busy": "2020-12-10T11:34:31.924059Z",
     "iopub.status.idle": "2020-12-10T11:34:46.791919Z",
     "shell.execute_reply": "2020-12-10T11:34:46.791455Z",
     "shell.execute_reply.started": "2020-12-10T11:34:31.924249Z"
    }
   },
   "outputs": [
    {
     "name": "stdout",
     "output_type": "stream",
     "text": [
      "Test the final round\n",
      "Final: ave rewards - -0.020771513353115726, step - 1011\n",
      "\n",
      "Done\n"
     ]
    }
   ],
   "source": [
    "print('Test the final round')\n",
    "# observe the final run\n",
    "\n",
    "DIR_FINAL = os.path.join(DIR,'final')\n",
    "try:\n",
    "    os.mkdir(DIR_FINAL)\n",
    "except:\n",
    "    pass\n",
    "\n",
    "log_file = open(DIR+'/log.txt','a')\n",
    "\n",
    "ob = env.reset()\n",
    "reward_list = []\n",
    "step = 0\n",
    "\n",
    "state      = ObWrapper(WRAPPER_SIZE=WRAPPER_SIZE)\n",
    "state_next = ObWrapper(WRAPPER_SIZE=WRAPPER_SIZE)\n",
    "state_next(ob)\n",
    "\n",
    "while (len(state_next) is not WRAPPER_SIZE):\n",
    "    state(ob)\n",
    "    state_next(ob)\n",
    "    \n",
    "ob, reward, done, info = env.step(1)\n",
    "while(1):\n",
    "    png_save(DIR_FINAL,env,step)\n",
    "    state(ob)\n",
    "    \n",
    "    act = np.argmax(agent.get_q_value(state))\n",
    "\n",
    "    ob_next,reward,done,info = env.step(act)\n",
    "    state_next(ob_next)\n",
    "    \n",
    "    reward_list.append(reward)\n",
    "    step +=1\n",
    "    ob = ob_next\n",
    "    \n",
    "    if done:\n",
    "        out = 'Final: ave rewards - {}, step - {}\\n'.format(sum(reward_list)/len(reward_list),step)\n",
    "        log_file.writelines(out)\n",
    "        print(out)\n",
    "        break\n",
    "        \n",
    "gif_save(DIR_FINAL,'final',sum(reward_list)/len(reward_list))\n",
    "       \n",
    "log_file.close()\n",
    "env.close()\n",
    "print(\"Done\")"
   ]
  },
  {
   "cell_type": "markdown",
   "metadata": {},
   "source": [
    "## Try thins here"
   ]
  },
  {
   "cell_type": "markdown",
   "metadata": {},
   "source": [
    "### Try for ObWrapper"
   ]
  },
  {
   "cell_type": "code",
   "execution_count": null,
   "metadata": {
    "execution": {
     "iopub.status.busy": "2020-12-10T11:31:30.866762Z",
     "iopub.status.idle": "2020-12-10T11:31:30.866888Z"
    }
   },
   "outputs": [],
   "source": [
    "print(type(ob))\n",
    "a.wrapper_append(ob)\n",
    "print(a.wrapper_len())"
   ]
  },
  {
   "cell_type": "code",
   "execution_count": null,
   "metadata": {
    "execution": {
     "iopub.status.busy": "2020-12-10T11:31:30.867258Z",
     "iopub.status.idle": "2020-12-10T11:31:30.867377Z"
    }
   },
   "outputs": [],
   "source": [
    "print(a.s[0].shape)\n",
    "plt.imshow(a.s[0])\n",
    "plt.show()"
   ]
  },
  {
   "cell_type": "markdown",
   "metadata": {},
   "source": [
    "### Class seperately"
   ]
  },
  {
   "cell_type": "code",
   "execution_count": null,
   "metadata": {
    "execution": {
     "iopub.status.busy": "2020-12-10T11:31:30.867697Z",
     "iopub.status.idle": "2020-12-10T11:31:30.867817Z"
    }
   },
   "outputs": [],
   "source": [
    "# make sure import deque from collections \n",
    "# and opencv(cv2)\n",
    "# and numpy as np\n",
    "class ObWrapper:\n",
    "    def __init__(self, WRAPPER_SIZE = 4):\n",
    "        self.WRAPPER_SIZE = WRAPPER_SIZE\n",
    "        self.s = deque([],maxlen = WRAPPER_SIZE) #wrapper how many frame together\n",
    "    def __call__(self,ob):\n",
    "        self.s.append((cv2.cvtColor(ob,cv2.COLOR_BGR2GRAY))[::2,::2][17:97,:])\n",
    "    def __len__(self):\n",
    "        return len(self.s)\n",
    "    def packup(self):\n",
    "        a = np.array([self.s[i] for i in range(self.WRAPPER_SIZE)])\n",
    "        b = np.transpose(a,(1,2,0))  # or b = np.einsum('ijk->jki',a)\n",
    "        return b"
   ]
  },
  {
   "cell_type": "code",
   "execution_count": null,
   "metadata": {
    "execution": {
     "iopub.status.busy": "2020-12-10T11:31:30.868103Z",
     "iopub.status.idle": "2020-12-10T11:31:30.868216Z"
    }
   },
   "outputs": [],
   "source": [
    "# make sure import random\n",
    "# and deque from collections\n",
    "class Replay:\n",
    "    def __init__(self, MEMORY_SIZE = 5_000, BATCH_SIZE = 64):\n",
    "        self.BATCH_SIZE = BATCH_SIZE\n",
    "        self.memory = deque([],maxlen = MEMORY_SIZE)\n",
    "    def __call__(self, a_set_memory):\n",
    "        # a_set_memory = sars(a) : [ob, act, reward, ob_next, done]\n",
    "        self.memory.append(a_set_memory)\n",
    "    def sample(self,*args):\n",
    "        if args:\n",
    "            b_size = args[0]\n",
    "        else:\n",
    "            b_size = self.BATCH_SIZE\n",
    "        return random.sample(self.memory,b_size)"
   ]
  },
  {
   "cell_type": "markdown",
   "metadata": {},
   "source": [
    "### Try image resize and 4 frame for input"
   ]
  },
  {
   "cell_type": "code",
   "execution_count": null,
   "metadata": {
    "execution": {
     "iopub.status.busy": "2020-12-10T11:31:30.868515Z",
     "iopub.status.idle": "2020-12-10T11:31:30.868630Z"
    }
   },
   "outputs": [],
   "source": [
    "DIR = 'gif'\n",
    "try:\n",
    "    os.mkdir(DIR)\n",
    "except:\n",
    "    pass"
   ]
  },
  {
   "cell_type": "code",
   "execution_count": null,
   "metadata": {
    "execution": {
     "iopub.status.busy": "2020-12-10T11:31:30.869018Z",
     "iopub.status.idle": "2020-12-10T11:31:30.869134Z"
    }
   },
   "outputs": [],
   "source": [
    "ob = env.reset()\n",
    "state = ObWrapper()\n",
    "state_next = ObWrapper()\n",
    "state_next(ob)\n",
    "for i in range(5):\n",
    "    plt.imsave(os.path.join(DIR,str(i)+'.png'),env.render(mode='rgb_array'))\n",
    "    act = env.action_space.sample()\n",
    "    state(ob)\n",
    "    \n",
    "    ob_next,reward, done, info = env.step(act)\n",
    "    state_next(ob_next)\n",
    "    ob = ob_next"
   ]
  },
  {
   "cell_type": "code",
   "execution_count": null,
   "metadata": {
    "execution": {
     "iopub.status.busy": "2020-12-10T11:31:30.869417Z",
     "iopub.status.idle": "2020-12-10T11:31:30.869530Z"
    }
   },
   "outputs": [],
   "source": [
    "print(len(state))\n",
    "print(len(state_next))\n",
    "\n",
    "print(np.array_equal(state.s[1],state_next.s[0]))\n",
    "print(np.array_equal(state.s[2],state_next.s[1]))\n",
    "print(np.array_equal(state.s[3],state_next.s[2]))\n",
    "\n",
    "print(state.s[0].shape)"
   ]
  },
  {
   "cell_type": "code",
   "execution_count": null,
   "metadata": {
    "execution": {
     "iopub.status.busy": "2020-12-10T11:31:30.869838Z",
     "iopub.status.idle": "2020-12-10T11:31:30.869951Z"
    }
   },
   "outputs": [],
   "source": [
    "plt.subplot(131)\n",
    "plt.imshow(state.s[1],cmap = 'gray')\n",
    "plt.axis('off')\n",
    "plt.subplot(132)\n",
    "plt.imshow(state.s[2],cmap = 'gray')\n",
    "plt.axis('off')\n",
    "plt.subplot(133)\n",
    "plt.imshow(state.s[3],cmap = 'gray')\n",
    "plt.axis('off')\n",
    "plt.show()\n",
    "\n",
    "plt.subplot(131)\n",
    "plt.imshow(state_next.s[0],cmap = 'gray')\n",
    "plt.axis('off')\n",
    "plt.subplot(132)\n",
    "plt.imshow(state_next.s[1],cmap = 'gray')\n",
    "plt.axis('off')\n",
    "plt.subplot(133)\n",
    "plt.imshow(state_next.s[2],cmap = 'gray')\n",
    "plt.axis('off')\n",
    "plt.show()"
   ]
  },
  {
   "cell_type": "markdown",
   "metadata": {},
   "source": [
    "### Try GIF display in jupyter"
   ]
  },
  {
   "cell_type": "code",
   "execution_count": null,
   "metadata": {
    "execution": {
     "iopub.status.busy": "2020-12-10T11:31:30.870243Z",
     "iopub.status.idle": "2020-12-10T11:31:30.870356Z"
    }
   },
   "outputs": [],
   "source": [
    "DIR = 'gif'\n",
    "os.mkdir(DIR)"
   ]
  },
  {
   "cell_type": "code",
   "execution_count": null,
   "metadata": {
    "execution": {
     "iopub.status.busy": "2020-12-10T11:31:30.870646Z",
     "iopub.status.idle": "2020-12-10T11:31:30.870759Z"
    }
   },
   "outputs": [],
   "source": [
    "ob = env.reset()\n",
    "\n",
    "for i in range(20):\n",
    "    plt.imsave(os.path.join(DIR,str(i)+'.png'),env.render(mode='rgb_array'))\n",
    "    env.step(env.action_space.sample())\n",
    "\n",
    "images = []\n",
    "for f in os.listdir(DIR):\n",
    "    images.append(imageio.imread(os.path.join(DIR,f)))\n",
    "imageio.mimsave(os.path.join(DIR,'test.gif'),images)"
   ]
  },
  {
   "cell_type": "code",
   "execution_count": null,
   "metadata": {
    "execution": {
     "iopub.status.busy": "2020-12-10T11:31:30.871060Z",
     "iopub.status.idle": "2020-12-10T11:31:30.871174Z"
    }
   },
   "outputs": [],
   "source": [
    "from IPython.display import Image\n",
    "Image(os.path.join(DIR,'test.gif'))"
   ]
  },
  {
   "cell_type": "code",
   "execution_count": null,
   "metadata": {
    "execution": {
     "iopub.status.busy": "2020-12-10T11:31:30.871450Z",
     "iopub.status.idle": "2020-12-10T11:31:30.871562Z"
    }
   },
   "outputs": [],
   "source": [
    "a = [84,84]\n",
    "print(tuple(a))"
   ]
  },
  {
   "cell_type": "code",
   "execution_count": null,
   "metadata": {
    "execution": {
     "iopub.status.busy": "2020-12-10T11:31:30.871864Z",
     "iopub.status.idle": "2020-12-10T11:31:30.871977Z"
    }
   },
   "outputs": [],
   "source": [
    "print(cv2.resize(cv2.cvtColor(ob,cv2.COLOR_BGR2GRAY),tuple(a)).shape)\n",
    "plt.imshow(cv2.cvtColor(ob,cv2.COLOR_BGR2GRAY),cmap=\"gray\")\n",
    "plt.show()\n",
    "plt.imshow(cv2.resize(cv2.cvtColor(ob,cv2.COLOR_BGR2GRAY),tuple(a)),cmap=\"gray\")\n",
    "plt.show()"
   ]
  },
  {
   "cell_type": "code",
   "execution_count": null,
   "metadata": {},
   "outputs": [],
   "source": []
  }
 ],
 "metadata": {
  "kernelspec": {
   "display_name": "Python 3",
   "language": "python",
   "name": "python3"
  },
  "language_info": {
   "codemirror_mode": {
    "name": "ipython",
    "version": 3
   },
   "file_extension": ".py",
   "mimetype": "text/x-python",
   "name": "python",
   "nbconvert_exporter": "python",
   "pygments_lexer": "ipython3",
   "version": "3.7.9"
  },
  "toc-autonumbering": true,
  "toc-showcode": false,
  "toc-showmarkdowntxt": false
 },
 "nbformat": 4,
 "nbformat_minor": 4
}
