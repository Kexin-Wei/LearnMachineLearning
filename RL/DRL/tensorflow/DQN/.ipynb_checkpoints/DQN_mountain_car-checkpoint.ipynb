{
 "cells": [
  {
   "cell_type": "code",
   "execution_count": 39,
   "metadata": {
    "execution": {
     "iopub.execute_input": "2020-12-16T03:42:19.328303Z",
     "iopub.status.busy": "2020-12-16T03:42:19.327920Z",
     "iopub.status.idle": "2020-12-16T03:42:19.332188Z",
     "shell.execute_reply": "2020-12-16T03:42:19.331271Z",
     "shell.execute_reply.started": "2020-12-16T03:42:19.328251Z"
    }
   },
   "outputs": [],
   "source": [
    "import os\n",
    "import imageio\n",
    "import datetime\n",
    "\n",
    "import gym\n",
    "import tensorflow as tf\n",
    "import numpy as np\n",
    "\n",
    "import matplotlib.pyplot as plt\n",
    "\n",
    "from collections import deque"
   ]
  },
  {
   "cell_type": "code",
   "execution_count": 27,
   "metadata": {
    "execution": {
     "iopub.execute_input": "2020-12-16T03:36:36.696771Z",
     "iopub.status.busy": "2020-12-16T03:36:36.696303Z",
     "iopub.status.idle": "2020-12-16T03:36:36.704534Z",
     "shell.execute_reply": "2020-12-16T03:36:36.703318Z",
     "shell.execute_reply.started": "2020-12-16T03:36:36.696718Z"
    }
   },
   "outputs": [],
   "source": [
    "class NN:\n",
    "    def __init__(self,N_ACT,N_OB,LEARNING_RATE = 0.01):\n",
    "        self.learning_rate = LEARNING_RATE\n",
    "        self.input_shape   = N_OB\n",
    "        self.output_shape   = N_ACT\n",
    "        \n",
    "        self.model = self.create_nn()\n",
    "        \n",
    "    def create_nn(self):\n",
    "        model = tf.keras.models.Sequential([\n",
    "            tf.keras.layers.Dense(32,activation = 'relu',input_shape=self.input_shape),\n",
    "            tf.keras.layers.Dense(32,activation = 'relu'),\n",
    "            tf.keras.layers.Dense(self.output_shape, activation = 'linear')\n",
    "        ])\n",
    "        model.compile(\n",
    "            loss = 'mse',\n",
    "            optimizer = tf.keras.optimizers.Adam(learning_rate=self.learning_rate),\n",
    "            metrics = ['accuracy']\n",
    "        )\n",
    "        return model"
   ]
  },
  {
   "cell_type": "code",
   "execution_count": 28,
   "metadata": {
    "execution": {
     "iopub.execute_input": "2020-12-16T03:36:37.151409Z",
     "iopub.status.busy": "2020-12-16T03:36:37.150955Z",
     "iopub.status.idle": "2020-12-16T03:36:37.158207Z",
     "shell.execute_reply": "2020-12-16T03:36:37.157146Z",
     "shell.execute_reply.started": "2020-12-16T03:36:37.151364Z"
    }
   },
   "outputs": [],
   "source": [
    "class Replay:\n",
    "    def __init__(self, MEMORY_SIZE = 5000, BATCH_SIZE = 64):\n",
    "        self.BATCH_SIZE = BATCH_SIZE\n",
    "        self.MEMORY_SIZE = MEMORY_SIZE\n",
    "        self.memory = deque([],maxlen = MEMORY_SIZE)\n",
    "        \n",
    "    def memo_append(self, a_set_memory):\n",
    "        # a_set_memory = sars(a) : [ob, (act), reward, ob_next, done]\n",
    "        self.memory.append(a_set_memory)\n",
    "\n",
    "    def memo_len(self):\n",
    "        return len(self.memory)\n",
    "        \n",
    "    def sample(self):\n",
    "        return random.sample(self.memory,self.BATCH_SIZE)"
   ]
  },
  {
   "cell_type": "code",
   "execution_count": 29,
   "metadata": {
    "execution": {
     "iopub.execute_input": "2020-12-16T03:36:37.541511Z",
     "iopub.status.busy": "2020-12-16T03:36:37.541073Z",
     "iopub.status.idle": "2020-12-16T03:36:37.557647Z",
     "shell.execute_reply": "2020-12-16T03:36:37.556725Z",
     "shell.execute_reply.started": "2020-12-16T03:36:37.541464Z"
    }
   },
   "outputs": [],
   "source": [
    "class Agent(Replay,NN):\n",
    "    def __init__(self, N_ACT,N_OB,                \\\n",
    "                    GAMMA   = 0.9,                \\\n",
    "                    EPSILON = 0.3,                \\\n",
    "                    MODEL_UPDATE_STEP   = 200,    \\\n",
    "                    MEMORY_SAMPLE_START = 20,     \\\n",
    "                    LEARNING_RATE = 0.01,         \\\n",
    "                    MEMORY_SIZE  = 10_000,        \\\n",
    "                    BATCH_SIZE   = 64):\n",
    "        \n",
    "        Replay.__init__(self, MEMORY_SIZE = MEMORY_SIZE, \\\n",
    "                        BATCH_SIZE = BATCH_SIZE)\n",
    "        NN.__init__(self, N_ACT, N_OB, \\\n",
    "                     LEARNING_RATE = LEARNING_RATE)\n",
    "        self.N_ACT = N_ACT\n",
    "        self.GAMMA   = GAMMA\n",
    "        self.EPSILON = EPSILON\n",
    "\n",
    "        self.target_model = self.create_nn()\n",
    "        self.target_model.set_weights(self.model.get_weights())\n",
    "        \n",
    "        self.MODEL_UPDATE_STEP = MODEL_UPDATE_STEP\n",
    "        self.STEP = 0\n",
    "        \n",
    "        self.MEMORY_SAMPLE_START = MEMORY_SAMPLE_START\n",
    "        \n",
    "    def get_q_value(self, state):\n",
    "        # mountain car state = ob\n",
    "        return self.model.predict(state)\n",
    "    \n",
    "    def get_action(self,state): \n",
    "        # get action with epsilon greedy\n",
    "        q = self.get_q_value(state)\n",
    "        if np.random.rand() < self.EPSILON:            \n",
    "            return np.random.randint(self.N_ACT), np.amax(q)\n",
    "        return np.argmax(q), np.amax(q)\n",
    "    \n",
    "    def train(self): \n",
    "        #if the momery len < its thershold\n",
    "        if self.memo_len() < self.MEMORY_SAMPLE_START:\n",
    "            return\n",
    "        \n",
    "        batch_memo = self.sample()\n",
    "        \n",
    "        # model for q now\n",
    "        batch_state = np.array([ a_set_memo[0][0,:,:,:] for a_set_memo in batch_memo])\n",
    "        batch_q     = self.model.predict(batch_state)\n",
    "        \n",
    "        # target_model for max q\n",
    "        batch_state_next = np.array([ a_set_memo[3][0,:,:,:] for a_set_memo in batch_memo])\n",
    "        batch_q_next = self.target_model.predict(batch_state_next)\n",
    "        \n",
    "        batch_q_new = []\n",
    "        \n",
    "        for index,(state, action, reward, state_next, done) in enumerate(batch_memo):\n",
    "            if done:\n",
    "                q_new = reward\n",
    "            else:\n",
    "                q_new = reward + self.GAMMA * max(batch_q_next[index])\n",
    "            \n",
    "            q = batch_q[index]\n",
    "            q[action] = q_new\n",
    "            # TODO: maybe add a q offset bound in [-1,1]\n",
    "            batch_q_new.append(q)\n",
    "            \n",
    "        self.STEP +=1\n",
    "        history = self.model.fit(batch_state,np.array(batch_q_new),batch_size = self.BATCH_SIZE, verbose = 0)\n",
    "        return history.history\n",
    "    \n",
    "    def target_model_update(self):\n",
    "        if self.STEP < self.MODEL_UPDATE_STEP:\n",
    "            return\n",
    "        self.STEP = 0\n",
    "        self.target_model.set_weights(self.model.get_weights())"
   ]
  },
  {
   "cell_type": "code",
   "execution_count": 30,
   "metadata": {
    "execution": {
     "iopub.execute_input": "2020-12-16T03:36:38.009223Z",
     "iopub.status.busy": "2020-12-16T03:36:38.008813Z",
     "iopub.status.idle": "2020-12-16T03:36:38.015308Z",
     "shell.execute_reply": "2020-12-16T03:36:38.013690Z",
     "shell.execute_reply.started": "2020-12-16T03:36:38.009176Z"
    }
   },
   "outputs": [],
   "source": [
    "class Args:\n",
    "    EPOCHS   = 500\n",
    "    EPOCHS_T = 250\n",
    "    #FRAME_END   = 500\n",
    "    GAMMA    = 0.99\n",
    "\n",
    "    EPSILON  = 1.0\n",
    "    EPSILON_END    = 0.01\n",
    "\n",
    "    \n",
    "    LEARNING_RATE = 0.001\n",
    "    \n",
    "    BATCH_SIZE  = 32\n",
    "    \n",
    "    MEMORY_SIZE = 10000\n",
    "    MEMORY_SAMPLE_START = 500\n",
    "    \n",
    "    MODEL_UPDATE_STEP   = 300"
   ]
  },
  {
   "cell_type": "code",
   "execution_count": 31,
   "metadata": {
    "execution": {
     "iopub.execute_input": "2020-12-16T03:36:38.574918Z",
     "iopub.status.busy": "2020-12-16T03:36:38.574505Z",
     "iopub.status.idle": "2020-12-16T03:36:38.582211Z",
     "shell.execute_reply": "2020-12-16T03:36:38.580118Z",
     "shell.execute_reply.started": "2020-12-16T03:36:38.574872Z"
    }
   },
   "outputs": [],
   "source": [
    "args = Args\n",
    "EPOCHS = args.EPOCHS\n",
    "EPOCHS_T  = args.EPOCHS_T\n",
    "\n",
    "GAMMA   = args.GAMMA\n",
    "EPSILON = args.EPSILON\n",
    "EPSILON_END   = args.EPSILON_END\n",
    "\n",
    "LEARNING_RATE = args.LEARNING_RATE\n",
    "\n",
    "BATCH_SIZE = args.BATCH_SIZE\n",
    "MEMORY_SIZE = args.MEMORY_SIZE\n",
    "MEMORY_SAMPLE_START = args.MEMORY_SAMPLE_START\n",
    "\n",
    "MODEL_UPDATE_STEP = args.MODEL_UPDATE_STEP"
   ]
  },
  {
   "cell_type": "code",
   "execution_count": 32,
   "metadata": {
    "execution": {
     "iopub.execute_input": "2020-12-16T03:36:39.443800Z",
     "iopub.status.busy": "2020-12-16T03:36:39.443394Z",
     "iopub.status.idle": "2020-12-16T03:36:39.451005Z",
     "shell.execute_reply": "2020-12-16T03:36:39.450032Z",
     "shell.execute_reply.started": "2020-12-16T03:36:39.443754Z"
    }
   },
   "outputs": [],
   "source": [
    "env = gym.make('MountainCar-v0')\n",
    "ob = env.reset()\n",
    "\n",
    "N_ACT = env.action_space.n\n",
    "N_OB  = env.observation_space.shape\n",
    "#print(env.action_space.n)\n",
    "#print(env.observation_space.shape)"
   ]
  },
  {
   "cell_type": "code",
   "execution_count": 33,
   "metadata": {
    "execution": {
     "iopub.execute_input": "2020-12-16T03:36:39.829405Z",
     "iopub.status.busy": "2020-12-16T03:36:39.828926Z",
     "iopub.status.idle": "2020-12-16T03:36:39.889446Z",
     "shell.execute_reply": "2020-12-16T03:36:39.888669Z",
     "shell.execute_reply.started": "2020-12-16T03:36:39.829345Z"
    }
   },
   "outputs": [],
   "source": [
    "agent = Agent(N_ACT,N_OB, \\\n",
    "              GAMMA = GAMMA, EPSILON = EPSILON, \\\n",
    "              MODEL_UPDATE_STEP   = MODEL_UPDATE_STEP, \\\n",
    "              MEMORY_SAMPLE_START = MEMORY_SAMPLE_START, \\\n",
    "              LEARNING_RATE = LEARNING_RATE, \\\n",
    "              MEMORY_SIZE   = MEMORY_SIZE, \\\n",
    "              BATCH_SIZE    = BATCH_SIZE)"
   ]
  },
  {
   "cell_type": "code",
   "execution_count": 35,
   "metadata": {
    "execution": {
     "iopub.execute_input": "2020-12-16T03:37:17.220847Z",
     "iopub.status.busy": "2020-12-16T03:37:17.220478Z",
     "iopub.status.idle": "2020-12-16T03:37:17.228783Z",
     "shell.execute_reply": "2020-12-16T03:37:17.227689Z",
     "shell.execute_reply.started": "2020-12-16T03:37:17.220804Z"
    }
   },
   "outputs": [
    {
     "name": "stdout",
     "output_type": "stream",
     "text": [
      "Model: \"sequential_2\"\n",
      "_________________________________________________________________\n",
      "Layer (type)                 Output Shape              Param #   \n",
      "=================================================================\n",
      "dense_6 (Dense)              (None, 32)                96        \n",
      "_________________________________________________________________\n",
      "dense_7 (Dense)              (None, 32)                1056      \n",
      "_________________________________________________________________\n",
      "dense_8 (Dense)              (None, 3)                 99        \n",
      "=================================================================\n",
      "Total params: 1,251\n",
      "Trainable params: 1,251\n",
      "Non-trainable params: 0\n",
      "_________________________________________________________________\n",
      "Model: \"sequential_3\"\n",
      "_________________________________________________________________\n",
      "Layer (type)                 Output Shape              Param #   \n",
      "=================================================================\n",
      "dense_9 (Dense)              (None, 32)                96        \n",
      "_________________________________________________________________\n",
      "dense_10 (Dense)             (None, 32)                1056      \n",
      "_________________________________________________________________\n",
      "dense_11 (Dense)             (None, 3)                 99        \n",
      "=================================================================\n",
      "Total params: 1,251\n",
      "Trainable params: 1,251\n",
      "Non-trainable params: 0\n",
      "_________________________________________________________________\n"
     ]
    }
   ],
   "source": [
    "agent.model.summary()"
   ]
  },
  {
   "cell_type": "code",
   "execution_count": 40,
   "metadata": {
    "execution": {
     "iopub.execute_input": "2020-12-16T03:42:22.413533Z",
     "iopub.status.busy": "2020-12-16T03:42:22.413253Z",
     "iopub.status.idle": "2020-12-16T03:42:22.417884Z",
     "shell.execute_reply": "2020-12-16T03:42:22.416735Z",
     "shell.execute_reply.started": "2020-12-16T03:42:22.413502Z"
    }
   },
   "outputs": [],
   "source": [
    "ROOT_DIR = 'test_gif'\n",
    "DIR = os.path.join(ROOT_DIR,datetime.datetime.now().strftime('%Y-%m-%d_%H-%M-%S'))\n",
    "DIR_GIF = os.path.join(DIR,'gif')\n",
    "try:\n",
    "    os.makedirs(DIR)\n",
    "    os.makedirs(DIR_GIF)\n",
    "except:\n",
    "    pass"
   ]
  },
  {
   "cell_type": "code",
   "execution_count": 42,
   "metadata": {
    "execution": {
     "iopub.execute_input": "2020-12-16T03:43:02.349412Z",
     "iopub.status.busy": "2020-12-16T03:43:02.348984Z",
     "iopub.status.idle": "2020-12-16T03:43:02.356929Z",
     "shell.execute_reply": "2020-12-16T03:43:02.355787Z",
     "shell.execute_reply.started": "2020-12-16T03:43:02.349364Z"
    }
   },
   "outputs": [],
   "source": [
    "log_file = open(DIR+'/log.txt','a')\n",
    "log_file.write(\"EPOCH_END:{} \\t FRAME_T:{}\\n\".format(EPOCHS,EPOCHS_T))\n",
    "log_file.write(\"GAMMA:{} \\t EPSILON:{} \\t EPSILON_END:{} \\t LEARNING_RATE:{}\\n\".format(GAMMA,EPSILON,EPSILON_END,LEARNING_RATE))\n",
    "log_file.write(\"MEMORY_SIZE:{} \\t MEMORY_SAMPLE_START:{}\\n\".format(MEMORY_SIZE,MEMORY_SAMPLE_START))\n",
    "log_file.write(\"MODEL_UPDATE_STEP:{} \\t BATCH_SIZE:{}\\n\".format(MODEL_UPDATE_STEP,BATCH_SIZE))\n",
    "log_file.close()"
   ]
  },
  {
   "cell_type": "code",
   "execution_count": 36,
   "metadata": {
    "execution": {
     "iopub.execute_input": "2020-12-16T03:38:17.157255Z",
     "iopub.status.busy": "2020-12-16T03:38:17.156821Z",
     "iopub.status.idle": "2020-12-16T03:38:17.163336Z",
     "shell.execute_reply": "2020-12-16T03:38:17.161668Z",
     "shell.execute_reply.started": "2020-12-16T03:38:17.157203Z"
    }
   },
   "outputs": [],
   "source": [
    "reward_summary = []\n",
    "history_summary = {\n",
    "    'loss':[],\n",
    "    'accuracy':[]\n",
    "}\n",
    "\n",
    "max_q_summary = []\n",
    "\n",
    "epsilon_decay = (EPSILON-EPSILON_END)/EPOCHS_T"
   ]
  },
  {
   "cell_type": "code",
   "execution_count": null,
   "metadata": {},
   "outputs": [],
   "source": [
    "for ep in range(EPOCHS):\n",
    "    loss        = []\n",
    "    accuracy    = []\n",
    "    reward_list = []\n",
    "    max_q_list  = []\n",
    "    images      = []\n",
    "    ob = env.reset()\n",
    "    \n",
    "    step = 0\n",
    "    while(1):\n",
    "        if agent.EPSILON > EPSILON_END:\n",
    "            agent.EPSILON -= epsilon_decay\n",
    "        else:\n",
    "            agent.EPSILON = EPSILON_END\n",
    "        \n",
    "        images.append(env.render(mode='rgb_array'))\n",
    "        \n",
    "        act,max_q = agent.get_action(ob)\n",
    "        ob_next, reward, done, info = env.step(act)\n",
    "        \n",
    "        agent.memo_append([ob, act, reward, ob_next, done])\n",
    "        \n",
    "        history = agent.train()\n",
    "        agent.target_model_update()\n",
    "        \n",
    "        if history:\n",
    "            loss.append(history['loss'][0])\n",
    "            accuracy.append(history['accuracy'][0])\n",
    "\n",
    "        max_q_list.append(max_q)\n",
    "        reward_list.append(max_q)\n",
    "        ob = ob_next\n",
    "        step +=1\n",
    "        if done:\n",
    "            break\n",
    "    \n",
    "    reward_summary.append(np.amax(reward_list))\n",
    "    max_q_summary.append(np.amax(max_q_list))\n",
    "    \n",
    "    out = \"\\nEpoch {} \\tepsilon: {:0.5f} \\tsum_rewards: {} \\tmax_q:{:e} \\t\".format(ep,agent.EPSILON,reward_summary[-1],max_q_summary[-1])\n",
    "    log_file.write(out)\n",
    "    print(out,end=\" \")\n",
    "    \n",
    "    if len(loss):\n",
    "        history_summary['loss'].append(sum(loss)/len(loss))\n",
    "        history_summary['accuracy'].append(sum(accuracy)/len(accuracy))\n",
    "        out = \"ave loss: {:e} \\tave accuracy: {:e}\\t\".format(history_summary['loss'][-1],history_summary['accuracy'][-1])\n",
    "        log_file.write(out)\n",
    "        print(out,end=\" \")\n",
    "    log_file.close()\n",
    "    imageio.mimsave(os.path.join(DIR_GIF,str(ep)+'_step_'+str(step)+'_r_'+reward_summary[-1]+'.gif'),images,fps=60)\n",
    "    \n",
    "    \n",
    "    \n",
    "    "
   ]
  },
  {
   "cell_type": "code",
   "execution_count": 43,
   "metadata": {
    "execution": {
     "iopub.execute_input": "2020-12-16T03:55:59.176199Z",
     "iopub.status.busy": "2020-12-16T03:55:59.175923Z",
     "iopub.status.idle": "2020-12-16T03:55:59.664079Z",
     "shell.execute_reply": "2020-12-16T03:55:59.663533Z",
     "shell.execute_reply.started": "2020-12-16T03:55:59.176170Z"
    }
   },
   "outputs": [
    {
     "name": "stdout",
     "output_type": "stream",
     "text": [
      "Show the reward every ep\n"
     ]
    },
    {
     "data": {
      "image/png": "[encoded data removed]",
      "text/plain": [
       "<Figure size 432x288 with 1 Axes>"
      ]
     },
     "metadata": {
      "needs_background": "light"
     },
     "output_type": "display_data"
    },
    {
     "data": {
      "image/png": "[encoded data removed]",
      "text/plain": [
       "<Figure size 432x288 with 1 Axes>"
      ]
     },
     "metadata": {
      "needs_background": "light"
     },
     "output_type": "display_data"
    }
   ],
   "source": [
    "print('Show the reward every ep')\n",
    "plt.figure()\n",
    "plt.plot(reward_summary)\n",
    "plt.title('sum reward')\n",
    "plt.savefig(DIR + '/rewards_sum.png')\n",
    "plt.figure()\n",
    "plt.plot(history_summary['loss'],label='loss')\n",
    "plt.plot(history_summary['accuracy'],label='accuracy')\n",
    "plt.legend(loc=2)\n",
    "plt.savefig(DIR + '/loss_accuracy.png')\n",
    "plt.figure()\n",
    "plt.plot(max_q_summary)\n",
    "plt.title(\"Max Q Value\")\n",
    "plt.savefig(DIR + '/max_q.png')"
   ]
  },
  {
   "cell_type": "code",
   "execution_count": null,
   "metadata": {},
   "outputs": [],
   "source": [
    "ob = env.reset()\n",
    "images = []\n",
    "reward_list =[]\n",
    "step = 0\n",
    "while(1):\n",
    "    images.append(env.render(mode='rgb_array'))\n",
    "    act = np.argmax(agent.get_q_value(ob))\n",
    "\n",
    "    ob_next,reward,done,info = env.step(act)\n",
    "   \n",
    "    reward_list.append(reward)\n",
    "    step +=1\n",
    "    ob = ob_next\n",
    "    \n",
    "    if done :\n",
    "        break\n",
    "imageio.mimsave(os.path.join(DIR,s'final_step_'+str(step)+'_r_'+np.amax(reward_list)+'.gif'),images,fps=60)\n",
    "\n"
   ]
  },
  {
   "cell_type": "code",
   "execution_count": 11,
   "metadata": {
    "execution": {
     "iopub.execute_input": "2020-12-16T03:06:52.190181Z",
     "iopub.status.busy": "2020-12-16T03:06:52.189669Z",
     "iopub.status.idle": "2020-12-16T03:06:52.194956Z",
     "shell.execute_reply": "2020-12-16T03:06:52.193911Z",
     "shell.execute_reply.started": "2020-12-16T03:06:52.190119Z"
    }
   },
   "outputs": [],
   "source": [
    "DIR_GIF = \"test_gif\"\n",
    "try:\n",
    "    os.mkdir(DIR_GIF)\n",
    "except:\n",
    "    pass"
   ]
  },
  {
   "cell_type": "code",
   "execution_count": 14,
   "metadata": {
    "execution": {
     "iopub.execute_input": "2020-12-16T03:07:29.802517Z",
     "iopub.status.busy": "2020-12-16T03:07:29.802039Z",
     "iopub.status.idle": "2020-12-16T03:07:32.515814Z",
     "shell.execute_reply": "2020-12-16T03:07:32.514729Z",
     "shell.execute_reply.started": "2020-12-16T03:07:29.802421Z"
    }
   },
   "outputs": [
    {
     "name": "stdout",
     "output_type": "stream",
     "text": [
      "1\n",
      "1\n",
      "2\n",
      "2\n",
      "1\n",
      "2\n",
      "2\n",
      "1\n",
      "1\n",
      "1\n",
      "2\n",
      "1\n",
      "2\n",
      "2\n",
      "2\n",
      "1\n",
      "0\n",
      "0\n",
      "2\n",
      "0\n",
      "1\n",
      "2\n",
      "2\n",
      "1\n",
      "1\n",
      "1\n",
      "1\n",
      "1\n",
      "0\n",
      "2\n",
      "0\n",
      "0\n",
      "0\n",
      "2\n",
      "1\n",
      "0\n",
      "2\n",
      "0\n",
      "2\n",
      "2\n"
     ]
    }
   ],
   "source": [
    "images=[]\n",
    "for _ in range(40):\n",
    "    images.append(env.render(mode='rgb_array'))\n",
    "    act = env.action_space.sample()\n",
    "    print(act)\n",
    "    ob_next, reward, done, info  = env.step(act)\n",
    "    if done:\n",
    "        break\n",
    "imageio.mimsave(os.path.join(DIR_GIF,'test.gif'),images,fps=60)"
   ]
  },
  {
   "cell_type": "code",
   "execution_count": 13,
   "metadata": {
    "execution": {
     "iopub.execute_input": "2020-12-16T03:07:19.702190Z",
     "iopub.status.busy": "2020-12-16T03:07:19.701791Z",
     "iopub.status.idle": "2020-12-16T03:07:20.816867Z",
     "shell.execute_reply": "2020-12-16T03:07:20.815940Z",
     "shell.execute_reply.started": "2020-12-16T03:07:19.702146Z"
    }
   },
   "outputs": [],
   "source": [
    "imageio.mimsave(os.path.join(DIR_GIF,'test.gif'),images,fps=60)"
   ]
  },
  {
   "cell_type": "code",
   "execution_count": null,
   "metadata": {},
   "outputs": [],
   "source": []
  }
 ],
 "metadata": {
  "kernelspec": {
   "display_name": "Python 3",
   "language": "python",
   "name": "python3"
  },
  "language_info": {
   "codemirror_mode": {
    "name": "ipython",
    "version": 3
   },
   "file_extension": ".py",
   "mimetype": "text/x-python",
   "name": "python",
   "nbconvert_exporter": "python",
   "pygments_lexer": "ipython3",
   "version": "3.7.9"
  }
 },
 "nbformat": 4,
 "nbformat_minor": 4
}
