{
 "cells": [
  {
   "cell_type": "markdown",
   "metadata": {},
   "source": [
    "# Preprocess"
   ]
  },
  {
   "cell_type": "code",
   "execution_count": 1,
   "metadata": {
    "execution": {
     "iopub.execute_input": "2020-12-12T03:00:54.929635Z",
     "iopub.status.busy": "2020-12-12T03:00:54.929036Z",
     "iopub.status.idle": "2020-12-12T03:00:56.980844Z",
     "shell.execute_reply": "2020-12-12T03:00:56.980122Z",
     "shell.execute_reply.started": "2020-12-12T03:00:54.929478Z"
    }
   },
   "outputs": [],
   "source": [
    "import matplotlib.pyplot as plt\n",
    "import tensorflow as tf\n",
    "import numpy as np\n",
    "\n",
    "import gym\n",
    "\n",
    "import os\n",
    "import datetime\n",
    "import pickle\n",
    "import shutil\n",
    "\n",
    "import imageio\n",
    "import cv2\n",
    "\n",
    "import argparse\n",
    "import random\n",
    "\n",
    "from collections import deque\n",
    "from IPython.core.debugger import set_trace"
   ]
  },
  {
   "cell_type": "code",
   "execution_count": 2,
   "metadata": {
    "execution": {
     "iopub.execute_input": "2020-12-12T03:01:15.855423Z",
     "iopub.status.busy": "2020-12-12T03:01:15.854931Z",
     "iopub.status.idle": "2020-12-12T03:01:16.013584Z",
     "shell.execute_reply": "2020-12-12T03:01:16.012717Z",
     "shell.execute_reply.started": "2020-12-12T03:01:15.855363Z"
    }
   },
   "outputs": [],
   "source": [
    "env = gym.make(\"Breakout-v0\")"
   ]
  },
  {
   "cell_type": "code",
   "execution_count": 44,
   "metadata": {
    "execution": {
     "iopub.execute_input": "2020-12-12T03:39:24.524955Z",
     "iopub.status.busy": "2020-12-12T03:39:24.524725Z",
     "iopub.status.idle": "2020-12-12T03:39:24.531660Z",
     "shell.execute_reply": "2020-12-12T03:39:24.530959Z",
     "shell.execute_reply.started": "2020-12-12T03:39:24.524931Z"
    }
   },
   "outputs": [],
   "source": [
    "class ObWrapper:\n",
    "    def __init__(self, WRAPPER_SIZE = 4 ):\n",
    "        self.WRAPPER_SIZE = WRAPPER_SIZE\n",
    "        self.s = deque([],maxlen = WRAPPER_SIZE) #wrapper how many frame together\n",
    "        \n",
    "    def __call__(self,ob):\n",
    "        gray = cv2.cvtColor(ob,cv2.COLOR_BGR2GRAY)\n",
    "        self.s.append(cv2.resize(gray,(84,110),cv2.INTER_NEAREST)[16:100,:])\n",
    "\n",
    "    def __len__(self):\n",
    "        return len(self.s)\n",
    "    \n",
    "    def packup(self):\n",
    "        if len(self.s) < self.WRAPPER_SIZE:\n",
    "            return print(\"Wrapper too small, unpackable\")\n",
    "        a = np.array([self.s[i] for i in range(self.WRAPPER_SIZE)])\n",
    "        b = np.transpose(a,(1,2,0))  # or b = np.einsum('ijk->jki',a)\n",
    "        return b.reshape(-1,80,80,self.WRAPPER_SIZE)"
   ]
  },
  {
   "cell_type": "code",
   "execution_count": null,
   "metadata": {},
   "outputs": [],
   "source": [
    "ob = env.reset()\n",
    "ob,reward,done,infor = env.step(1)\n",
    "state=ObWrapper()\n",
    "for i in range(4):\n",
    "    ob,reward,done,infor = env.step(env.action_space.sample())\n",
    "    state(ob)\n",
    "    print(len(state),i)\n",
    "    \n",
    "print(state.)"
   ]
  },
  {
   "cell_type": "code",
   "execution_count": 42,
   "metadata": {
    "execution": {
     "iopub.execute_input": "2020-12-12T03:28:04.051532Z",
     "iopub.status.busy": "2020-12-12T03:28:04.051283Z",
     "iopub.status.idle": "2020-12-12T03:28:04.285706Z",
     "shell.execute_reply": "2020-12-12T03:28:04.284978Z",
     "shell.execute_reply.started": "2020-12-12T03:28:04.051505Z"
    }
   },
   "outputs": [
    {
     "name": "stdout",
     "output_type": "stream",
     "text": [
      "(210, 160)\n",
      "(110, 84)\n",
      "(84, 84)\n"
     ]
    },
    {
     "data": {
      "image/png": "[encoded data removed]",
      "text/plain": [
       "<Figure size 432x288 with 3 Axes>"
      ]
     },
     "metadata": {
      "needs_background": "light"
     },
     "output_type": "display_data"
    }
   ],
   "source": [
    "ob_gray=cv2.cvtColor(ob,cv2.COLOR_BGR2GRAY)\n",
    "print(ob_gray.shape)\n",
    "ob_sample = cv2.resize(ob_gray,(84,110),cv2.INTER_NEAREST)\n",
    "print(ob_sample.shape)\n",
    "ob_crop = ob_sample[16:100,:]\n",
    "print(ob_crop.shape)\n",
    "plt.subplot(131)\n",
    "plt.imshow(ob_gray)\n",
    "plt.subplot(132)\n",
    "plt.imshow(ob_sample)\n",
    "plt.subplot(133)\n",
    "plt.imshow(ob_crop)\n",
    "plt.show()"
   ]
  },
  {
   "cell_type": "code",
   "execution_count": null,
   "metadata": {},
   "outputs": [],
   "source": [
    "def preprocess(ob):\n",
    "    \n",
    "    return state"
   ]
  }
 ],
 "metadata": {
  "kernelspec": {
   "display_name": "Python 3",
   "language": "python",
   "name": "python3"
  },
  "language_info": {
   "codemirror_mode": {
    "name": "ipython",
    "version": 3
   },
   "file_extension": ".py",
   "mimetype": "text/x-python",
   "name": "python",
   "nbconvert_exporter": "python",
   "pygments_lexer": "ipython3",
   "version": "3.7.9"
  }
 },
 "nbformat": 4,
 "nbformat_minor": 4
}
