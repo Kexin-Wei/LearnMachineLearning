{
 "cells": [
  {
   "cell_type": "code",
   "execution_count": 44,
   "metadata": {
    "execution": {
     "iopub.execute_input": "2020-12-16T03:59:43.695535Z",
     "iopub.status.busy": "2020-12-16T03:59:43.695194Z",
     "iopub.status.idle": "2020-12-16T03:59:43.700751Z",
     "shell.execute_reply": "2020-12-16T03:59:43.699674Z",
     "shell.execute_reply.started": "2020-12-16T03:59:43.695497Z"
    }
   },
   "outputs": [],
   "source": [
    "import os\n",
    "import imageio\n",
    "import datetime\n",
    "\n",
    "import gym\n",
    "import tensorflow as tf\n",
    "import numpy as np\n",
    "\n",
    "import matplotlib.pyplot as plt\n",
    "\n",
    "from collections import deque"
   ]
  },
  {
   "cell_type": "code",
   "execution_count": 45,
   "metadata": {
    "execution": {
     "iopub.execute_input": "2020-12-16T03:59:44.521865Z",
     "iopub.status.busy": "2020-12-16T03:59:44.521519Z",
     "iopub.status.idle": "2020-12-16T03:59:44.530236Z",
     "shell.execute_reply": "2020-12-16T03:59:44.529290Z",
     "shell.execute_reply.started": "2020-12-16T03:59:44.521825Z"
    }
   },
   "outputs": [],
   "source": [
    "class NN:\n",
    "    def __init__(self,N_ACT,N_OB,LEARNING_RATE = 0.01):\n",
    "        self.learning_rate = LEARNING_RATE\n",
    "        self.input_shape   = N_OB\n",
    "        self.output_shape   = N_ACT\n",
    "        \n",
    "        self.model = self.create_nn()\n",
    "        \n",
    "    def create_nn(self):\n",
    "        model = tf.keras.models.Sequential([\n",
    "            tf.keras.layers.Dense(32,activation = 'relu',input_shape=self.input_shape),\n",
    "            tf.keras.layers.Dense(32,activation = 'relu'),\n",
    "            tf.keras.layers.Dense(self.output_shape, activation = 'linear')\n",
    "        ])\n",
    "        model.compile(\n",
    "            loss = 'mse',\n",
    "            optimizer = tf.keras.optimizers.Adam(learning_rate=self.learning_rate),\n",
    "            metrics = ['accuracy']\n",
    "        )\n",
    "        return model"
   ]
  },
  {
   "cell_type": "code",
   "execution_count": 46,
   "metadata": {
    "execution": {
     "iopub.execute_input": "2020-12-16T03:59:45.032935Z",
     "iopub.status.busy": "2020-12-16T03:59:45.032528Z",
     "iopub.status.idle": "2020-12-16T03:59:45.040596Z",
     "shell.execute_reply": "2020-12-16T03:59:45.039029Z",
     "shell.execute_reply.started": "2020-12-16T03:59:45.032890Z"
    }
   },
   "outputs": [],
   "source": [
    "class Replay:\n",
    "    def __init__(self, MEMORY_SIZE = 5000, BATCH_SIZE = 64):\n",
    "        self.BATCH_SIZE = BATCH_SIZE\n",
    "        self.MEMORY_SIZE = MEMORY_SIZE\n",
    "        self.memory = deque([],maxlen = MEMORY_SIZE)\n",
    "        \n",
    "    def memo_append(self, a_set_memory):\n",
    "        # a_set_memory = sars(a) : [ob, (act), reward, ob_next, done]\n",
    "        self.memory.append(a_set_memory)\n",
    "\n",
    "    def memo_len(self):\n",
    "        return len(self.memory)\n",
    "        \n",
    "    def sample(self):\n",
    "        return random.sample(self.memory,self.BATCH_SIZE)"
   ]
  },
  {
   "cell_type": "code",
   "execution_count": 47,
   "metadata": {
    "execution": {
     "iopub.execute_input": "2020-12-16T03:59:45.471001Z",
     "iopub.status.busy": "2020-12-16T03:59:45.470634Z",
     "iopub.status.idle": "2020-12-16T03:59:45.486935Z",
     "shell.execute_reply": "2020-12-16T03:59:45.485879Z",
     "shell.execute_reply.started": "2020-12-16T03:59:45.470960Z"
    }
   },
   "outputs": [],
   "source": [
    "class Agent(Replay,NN):\n",
    "    def __init__(self, N_ACT,N_OB,                \\\n",
    "                    GAMMA   = 0.9,                \\\n",
    "                    EPSILON = 0.3,                \\\n",
    "                    MODEL_UPDATE_STEP   = 200,    \\\n",
    "                    MEMORY_SAMPLE_START = 20,     \\\n",
    "                    LEARNING_RATE = 0.01,         \\\n",
    "                    MEMORY_SIZE  = 10_000,        \\\n",
    "                    BATCH_SIZE   = 64):\n",
    "        \n",
    "        Replay.__init__(self, MEMORY_SIZE = MEMORY_SIZE, \\\n",
    "                        BATCH_SIZE = BATCH_SIZE)\n",
    "        NN.__init__(self, N_ACT, N_OB, \\\n",
    "                     LEARNING_RATE = LEARNING_RATE)\n",
    "        self.N_ACT = N_ACT\n",
    "        self.GAMMA   = GAMMA\n",
    "        self.EPSILON = EPSILON\n",
    "\n",
    "        self.target_model = self.create_nn()\n",
    "        self.target_model.set_weights(self.model.get_weights())\n",
    "        \n",
    "        self.MODEL_UPDATE_STEP = MODEL_UPDATE_STEP\n",
    "        self.STEP = 0\n",
    "        \n",
    "        self.MEMORY_SAMPLE_START = MEMORY_SAMPLE_START\n",
    "        \n",
    "    def get_q_value(self, state):\n",
    "        # mountain car state = ob\n",
    "        return self.model.predict(state)\n",
    "    \n",
    "    def get_action(self,state): \n",
    "        # get action with epsilon greedy\n",
    "        q = self.get_q_value(state)\n",
    "        if np.random.rand() < self.EPSILON:            \n",
    "            return np.random.randint(self.N_ACT), np.amax(q)\n",
    "        return np.argmax(q), np.amax(q)\n",
    "    \n",
    "    def train(self): \n",
    "        #if the momery len < its thershold\n",
    "        if self.memo_len() < self.MEMORY_SAMPLE_START:\n",
    "            return\n",
    "        \n",
    "        batch_memo = self.sample()\n",
    "        \n",
    "        # model for q now\n",
    "        batch_state = np.array([ a_set_memo[0][0,:,:,:] for a_set_memo in batch_memo])\n",
    "        batch_q     = self.model.predict(batch_state)\n",
    "        \n",
    "        # target_model for max q\n",
    "        batch_state_next = np.array([ a_set_memo[3][0,:,:,:] for a_set_memo in batch_memo])\n",
    "        batch_q_next = self.target_model.predict(batch_state_next)\n",
    "        \n",
    "        batch_q_new = []\n",
    "        \n",
    "        for index,(state, action, reward, state_next, done) in enumerate(batch_memo):\n",
    "            if done:\n",
    "                q_new = reward\n",
    "            else:\n",
    "                q_new = reward + self.GAMMA * max(batch_q_next[index])\n",
    "            \n",
    "            q = batch_q[index]\n",
    "            q[action] = q_new\n",
    "            # TODO: maybe add a q offset bound in [-1,1]\n",
    "            batch_q_new.append(q)\n",
    "            \n",
    "        self.STEP +=1\n",
    "        history = self.model.fit(batch_state,np.array(batch_q_new),batch_size = self.BATCH_SIZE, verbose = 0)\n",
    "        return history.history\n",
    "    \n",
    "    def target_model_update(self):\n",
    "        if self.STEP < self.MODEL_UPDATE_STEP:\n",
    "            return\n",
    "        self.STEP = 0\n",
    "        self.target_model.set_weights(self.model.get_weights())"
   ]
  },
  {
   "cell_type": "code",
   "execution_count": 48,
   "metadata": {
    "execution": {
     "iopub.execute_input": "2020-12-16T03:59:45.905409Z",
     "iopub.status.busy": "2020-12-16T03:59:45.905002Z",
     "iopub.status.idle": "2020-12-16T03:59:45.912310Z",
     "shell.execute_reply": "2020-12-16T03:59:45.910876Z",
     "shell.execute_reply.started": "2020-12-16T03:59:45.905361Z"
    }
   },
   "outputs": [],
   "source": [
    "class Args:\n",
    "    EPOCHS   = 500\n",
    "    EPOCHS_T = 250\n",
    "    #FRAME_END   = 500\n",
    "    GAMMA    = 0.99\n",
    "\n",
    "    EPSILON  = 1.0\n",
    "    EPSILON_END    = 0.01\n",
    "\n",
    "    \n",
    "    LEARNING_RATE = 0.001\n",
    "    \n",
    "    BATCH_SIZE  = 32\n",
    "    \n",
    "    MEMORY_SIZE = 10000\n",
    "    MEMORY_SAMPLE_START = 500\n",
    "    \n",
    "    MODEL_UPDATE_STEP   = 300"
   ]
  },
  {
   "cell_type": "code",
   "execution_count": 49,
   "metadata": {
    "execution": {
     "iopub.execute_input": "2020-12-16T03:59:46.487147Z",
     "iopub.status.busy": "2020-12-16T03:59:46.486798Z",
     "iopub.status.idle": "2020-12-16T03:59:46.493526Z",
     "shell.execute_reply": "2020-12-16T03:59:46.491956Z",
     "shell.execute_reply.started": "2020-12-16T03:59:46.487106Z"
    }
   },
   "outputs": [],
   "source": [
    "args = Args\n",
    "EPOCHS = args.EPOCHS\n",
    "EPOCHS_T  = args.EPOCHS_T\n",
    "\n",
    "GAMMA   = args.GAMMA\n",
    "EPSILON = args.EPSILON\n",
    "EPSILON_END   = args.EPSILON_END\n",
    "\n",
    "LEARNING_RATE = args.LEARNING_RATE\n",
    "\n",
    "BATCH_SIZE = args.BATCH_SIZE\n",
    "MEMORY_SIZE = args.MEMORY_SIZE\n",
    "MEMORY_SAMPLE_START = args.MEMORY_SAMPLE_START\n",
    "\n",
    "MODEL_UPDATE_STEP = args.MODEL_UPDATE_STEP"
   ]
  },
  {
   "cell_type": "code",
   "execution_count": 50,
   "metadata": {
    "execution": {
     "iopub.execute_input": "2020-12-16T03:59:47.489734Z",
     "iopub.status.busy": "2020-12-16T03:59:47.489273Z",
     "iopub.status.idle": "2020-12-16T03:59:47.496105Z",
     "shell.execute_reply": "2020-12-16T03:59:47.494849Z",
     "shell.execute_reply.started": "2020-12-16T03:59:47.489683Z"
    }
   },
   "outputs": [],
   "source": [
    "env = gym.make('MountainCar-v0')\n",
    "ob = env.reset()\n",
    "\n",
    "N_ACT = env.action_space.n\n",
    "N_OB  = env.observation_space.shape\n",
    "#print(env.action_space.n)\n",
    "#print(env.observation_space.shape)"
   ]
  },
  {
   "cell_type": "code",
   "execution_count": 51,
   "metadata": {
    "execution": {
     "iopub.execute_input": "2020-12-16T03:59:48.029922Z",
     "iopub.status.busy": "2020-12-16T03:59:48.029572Z",
     "iopub.status.idle": "2020-12-16T03:59:48.087855Z",
     "shell.execute_reply": "2020-12-16T03:59:48.086853Z",
     "shell.execute_reply.started": "2020-12-16T03:59:48.029883Z"
    }
   },
   "outputs": [],
   "source": [
    "agent = Agent(N_ACT,N_OB, \\\n",
    "              GAMMA = GAMMA, EPSILON = EPSILON, \\\n",
    "              MODEL_UPDATE_STEP   = MODEL_UPDATE_STEP, \\\n",
    "              MEMORY_SAMPLE_START = MEMORY_SAMPLE_START, \\\n",
    "              LEARNING_RATE = LEARNING_RATE, \\\n",
    "              MEMORY_SIZE   = MEMORY_SIZE, \\\n",
    "              BATCH_SIZE    = BATCH_SIZE)"
   ]
  },
  {
   "cell_type": "code",
   "execution_count": 52,
   "metadata": {
    "execution": {
     "iopub.execute_input": "2020-12-16T03:59:48.706890Z",
     "iopub.status.busy": "2020-12-16T03:59:48.706626Z",
     "iopub.status.idle": "2020-12-16T03:59:48.711936Z",
     "shell.execute_reply": "2020-12-16T03:59:48.711139Z",
     "shell.execute_reply.started": "2020-12-16T03:59:48.706864Z"
    }
   },
   "outputs": [
    {
     "name": "stdout",
     "output_type": "stream",
     "text": [
      "Model: \"sequential_4\"\n",
      "_________________________________________________________________\n",
      "Layer (type)                 Output Shape              Param #   \n",
      "=================================================================\n",
      "dense_12 (Dense)             (None, 32)                96        \n",
      "_________________________________________________________________\n",
      "dense_13 (Dense)             (None, 32)                1056      \n",
      "_________________________________________________________________\n",
      "dense_14 (Dense)             (None, 3)                 99        \n",
      "=================================================================\n",
      "Total params: 1,251\n",
      "Trainable params: 1,251\n",
      "Non-trainable params: 0\n",
      "_________________________________________________________________\n"
     ]
    }
   ],
   "source": [
    "agent.model.summary()"
   ]
  },
  {
   "cell_type": "code",
   "execution_count": 53,
   "metadata": {
    "execution": {
     "iopub.execute_input": "2020-12-16T03:59:51.433398Z",
     "iopub.status.busy": "2020-12-16T03:59:51.432978Z",
     "iopub.status.idle": "2020-12-16T03:59:51.440171Z",
     "shell.execute_reply": "2020-12-16T03:59:51.438959Z",
     "shell.execute_reply.started": "2020-12-16T03:59:51.433348Z"
    }
   },
   "outputs": [],
   "source": [
    "ROOT_DIR = 'test_gif'\n",
    "DIR = os.path.join(ROOT_DIR,datetime.datetime.now().strftime('%Y-%m-%d_%H-%M-%S'))\n",
    "DIR_GIF = os.path.join(DIR,'gif')\n",
    "try:\n",
    "    os.makedirs(DIR)\n",
    "    os.makedirs(DIR_GIF)\n",
    "except:\n",
    "    pass"
   ]
  },
  {
   "cell_type": "code",
   "execution_count": 54,
   "metadata": {
    "execution": {
     "iopub.execute_input": "2020-12-16T03:59:51.968300Z",
     "iopub.status.busy": "2020-12-16T03:59:51.967944Z",
     "iopub.status.idle": "2020-12-16T03:59:51.975692Z",
     "shell.execute_reply": "2020-12-16T03:59:51.974297Z",
     "shell.execute_reply.started": "2020-12-16T03:59:51.968258Z"
    }
   },
   "outputs": [],
   "source": [
    "log_file = open(DIR+'/log.txt','a')\n",
    "log_file.write(\"EPOCH_END:{} \\t FRAME_T:{}\\n\".format(EPOCHS,EPOCHS_T))\n",
    "log_file.write(\"GAMMA:{} \\t EPSILON:{} \\t EPSILON_END:{} \\t LEARNING_RATE:{}\\n\".format(GAMMA,EPSILON,EPSILON_END,LEARNING_RATE))\n",
    "log_file.write(\"MEMORY_SIZE:{} \\t MEMORY_SAMPLE_START:{}\\n\".format(MEMORY_SIZE,MEMORY_SAMPLE_START))\n",
    "log_file.write(\"MODEL_UPDATE_STEP:{} \\t BATCH_SIZE:{}\\n\".format(MODEL_UPDATE_STEP,BATCH_SIZE))\n",
    "log_file.close()"
   ]
  },
  {
   "cell_type": "code",
   "execution_count": 36,
   "metadata": {
    "execution": {
     "iopub.execute_input": "2020-12-16T03:38:17.157255Z",
     "iopub.status.busy": "2020-12-16T03:38:17.156821Z",
     "iopub.status.idle": "2020-12-16T03:38:17.163336Z",
     "shell.execute_reply": "2020-12-16T03:38:17.161668Z",
     "shell.execute_reply.started": "2020-12-16T03:38:17.157203Z"
    }
   },
   "outputs": [],
   "source": [
    "reward_summary = []\n",
    "history_summary = {\n",
    "    'loss':[],\n",
    "    'accuracy':[]\n",
    "}\n",
    "\n",
    "max_q_summary = []\n",
    "\n",
    "epsilon_decay = (EPSILON-EPSILON_END)/EPOCHS_T"
   ]
  },
  {
   "cell_type": "code",
   "execution_count": 55,
   "metadata": {
    "execution": {
     "iopub.execute_input": "2020-12-16T03:59:59.178630Z",
     "iopub.status.busy": "2020-12-16T03:59:59.178355Z",
     "iopub.status.idle": "2020-12-16T04:00:00.265549Z",
     "shell.execute_reply": "2020-12-16T04:00:00.263905Z",
     "shell.execute_reply.started": "2020-12-16T03:59:59.178598Z"
    }
   },
   "outputs": [
    {
     "ename": "ValueError",
     "evalue": "in user code:\n\n    /Users/vac/anaconda3/envs/tf/lib/python3.7/site-packages/tensorflow/python/keras/engine/training.py:1462 predict_function  *\n        return step_function(self, iterator)\n    /Users/vac/anaconda3/envs/tf/lib/python3.7/site-packages/tensorflow/python/keras/engine/training.py:1452 step_function  **\n        outputs = model.distribute_strategy.run(run_step, args=(data,))\n    /Users/vac/anaconda3/envs/tf/lib/python3.7/site-packages/tensorflow/python/distribute/distribute_lib.py:1211 run\n        return self._extended.call_for_each_replica(fn, args=args, kwargs=kwargs)\n    /Users/vac/anaconda3/envs/tf/lib/python3.7/site-packages/tensorflow/python/distribute/distribute_lib.py:2585 call_for_each_replica\n        return self._call_for_each_replica(fn, args, kwargs)\n    /Users/vac/anaconda3/envs/tf/lib/python3.7/site-packages/tensorflow/python/distribute/distribute_lib.py:2945 _call_for_each_replica\n        return fn(*args, **kwargs)\n    /Users/vac/anaconda3/envs/tf/lib/python3.7/site-packages/tensorflow/python/keras/engine/training.py:1445 run_step  **\n        outputs = model.predict_step(data)\n    /Users/vac/anaconda3/envs/tf/lib/python3.7/site-packages/tensorflow/python/keras/engine/training.py:1418 predict_step\n        return self(x, training=False)\n    /Users/vac/anaconda3/envs/tf/lib/python3.7/site-packages/tensorflow/python/keras/engine/base_layer.py:976 __call__\n        self.name)\n    /Users/vac/anaconda3/envs/tf/lib/python3.7/site-packages/tensorflow/python/keras/engine/input_spec.py:216 assert_input_compatibility\n        ' but received input with shape ' + str(shape))\n\n    ValueError: Input 0 of layer sequential_4 is incompatible with the layer: expected axis -1 of input shape to have value 2 but received input with shape [None, 1]\n",
     "output_type": "error",
     "traceback": [
      "\u001b[0;31m---------------------------------------------------------------------------\u001b[0m",
      "\u001b[0;31mValueError\u001b[0m                                Traceback (most recent call last)",
      "\u001b[0;32m<ipython-input-55-fc17ac3b4566>\u001b[0m in \u001b[0;36m<module>\u001b[0;34m\u001b[0m\n\u001b[1;32m     16\u001b[0m         \u001b[0mimages\u001b[0m\u001b[0;34m.\u001b[0m\u001b[0mappend\u001b[0m\u001b[0;34m(\u001b[0m\u001b[0menv\u001b[0m\u001b[0;34m.\u001b[0m\u001b[0mrender\u001b[0m\u001b[0;34m(\u001b[0m\u001b[0mmode\u001b[0m\u001b[0;34m=\u001b[0m\u001b[0;34m'rgb_array'\u001b[0m\u001b[0;34m)\u001b[0m\u001b[0;34m)\u001b[0m\u001b[0;34m\u001b[0m\u001b[0;34m\u001b[0m\u001b[0m\n\u001b[1;32m     17\u001b[0m \u001b[0;34m\u001b[0m\u001b[0m\n\u001b[0;32m---> 18\u001b[0;31m         \u001b[0mact\u001b[0m\u001b[0;34m,\u001b[0m\u001b[0mmax_q\u001b[0m \u001b[0;34m=\u001b[0m \u001b[0magent\u001b[0m\u001b[0;34m.\u001b[0m\u001b[0mget_action\u001b[0m\u001b[0;34m(\u001b[0m\u001b[0mob\u001b[0m\u001b[0;34m)\u001b[0m\u001b[0;34m\u001b[0m\u001b[0;34m\u001b[0m\u001b[0m\n\u001b[0m\u001b[1;32m     19\u001b[0m         \u001b[0mob_next\u001b[0m\u001b[0;34m,\u001b[0m \u001b[0mreward\u001b[0m\u001b[0;34m,\u001b[0m \u001b[0mdone\u001b[0m\u001b[0;34m,\u001b[0m \u001b[0minfo\u001b[0m \u001b[0;34m=\u001b[0m \u001b[0menv\u001b[0m\u001b[0;34m.\u001b[0m\u001b[0mstep\u001b[0m\u001b[0;34m(\u001b[0m\u001b[0mact\u001b[0m\u001b[0;34m)\u001b[0m\u001b[0;34m\u001b[0m\u001b[0;34m\u001b[0m\u001b[0m\n\u001b[1;32m     20\u001b[0m \u001b[0;34m\u001b[0m\u001b[0m\n",
      "\u001b[0;32m<ipython-input-47-be4b68a49555>\u001b[0m in \u001b[0;36mget_action\u001b[0;34m(self, state)\u001b[0m\n\u001b[1;32m     31\u001b[0m     \u001b[0;32mdef\u001b[0m \u001b[0mget_action\u001b[0m\u001b[0;34m(\u001b[0m\u001b[0mself\u001b[0m\u001b[0;34m,\u001b[0m\u001b[0mstate\u001b[0m\u001b[0;34m)\u001b[0m\u001b[0;34m:\u001b[0m\u001b[0;34m\u001b[0m\u001b[0;34m\u001b[0m\u001b[0m\n\u001b[1;32m     32\u001b[0m         \u001b[0;31m# get action with epsilon greedy\u001b[0m\u001b[0;34m\u001b[0m\u001b[0;34m\u001b[0m\u001b[0;34m\u001b[0m\u001b[0m\n\u001b[0;32m---> 33\u001b[0;31m         \u001b[0mq\u001b[0m \u001b[0;34m=\u001b[0m \u001b[0mself\u001b[0m\u001b[0;34m.\u001b[0m\u001b[0mget_q_value\u001b[0m\u001b[0;34m(\u001b[0m\u001b[0mstate\u001b[0m\u001b[0;34m)\u001b[0m\u001b[0;34m\u001b[0m\u001b[0;34m\u001b[0m\u001b[0m\n\u001b[0m\u001b[1;32m     34\u001b[0m         \u001b[0;32mif\u001b[0m \u001b[0mnp\u001b[0m\u001b[0;34m.\u001b[0m\u001b[0mrandom\u001b[0m\u001b[0;34m.\u001b[0m\u001b[0mrand\u001b[0m\u001b[0;34m(\u001b[0m\u001b[0;34m)\u001b[0m \u001b[0;34m<\u001b[0m \u001b[0mself\u001b[0m\u001b[0;34m.\u001b[0m\u001b[0mEPSILON\u001b[0m\u001b[0;34m:\u001b[0m\u001b[0;34m\u001b[0m\u001b[0;34m\u001b[0m\u001b[0m\n\u001b[1;32m     35\u001b[0m             \u001b[0;32mreturn\u001b[0m \u001b[0mnp\u001b[0m\u001b[0;34m.\u001b[0m\u001b[0mrandom\u001b[0m\u001b[0;34m.\u001b[0m\u001b[0mrandint\u001b[0m\u001b[0;34m(\u001b[0m\u001b[0mself\u001b[0m\u001b[0;34m.\u001b[0m\u001b[0mN_ACT\u001b[0m\u001b[0;34m)\u001b[0m\u001b[0;34m,\u001b[0m \u001b[0mnp\u001b[0m\u001b[0;34m.\u001b[0m\u001b[0mamax\u001b[0m\u001b[0;34m(\u001b[0m\u001b[0mq\u001b[0m\u001b[0;34m)\u001b[0m\u001b[0;34m\u001b[0m\u001b[0;34m\u001b[0m\u001b[0m\n",
      "\u001b[0;32m<ipython-input-47-be4b68a49555>\u001b[0m in \u001b[0;36mget_q_value\u001b[0;34m(self, state)\u001b[0m\n\u001b[1;32m     27\u001b[0m     \u001b[0;32mdef\u001b[0m \u001b[0mget_q_value\u001b[0m\u001b[0;34m(\u001b[0m\u001b[0mself\u001b[0m\u001b[0;34m,\u001b[0m \u001b[0mstate\u001b[0m\u001b[0;34m)\u001b[0m\u001b[0;34m:\u001b[0m\u001b[0;34m\u001b[0m\u001b[0;34m\u001b[0m\u001b[0m\n\u001b[1;32m     28\u001b[0m         \u001b[0;31m# mountain car state = ob\u001b[0m\u001b[0;34m\u001b[0m\u001b[0;34m\u001b[0m\u001b[0;34m\u001b[0m\u001b[0m\n\u001b[0;32m---> 29\u001b[0;31m         \u001b[0;32mreturn\u001b[0m \u001b[0mself\u001b[0m\u001b[0;34m.\u001b[0m\u001b[0mmodel\u001b[0m\u001b[0;34m.\u001b[0m\u001b[0mpredict\u001b[0m\u001b[0;34m(\u001b[0m\u001b[0mstate\u001b[0m\u001b[0;34m)\u001b[0m\u001b[0;34m\u001b[0m\u001b[0;34m\u001b[0m\u001b[0m\n\u001b[0m\u001b[1;32m     30\u001b[0m \u001b[0;34m\u001b[0m\u001b[0m\n\u001b[1;32m     31\u001b[0m     \u001b[0;32mdef\u001b[0m \u001b[0mget_action\u001b[0m\u001b[0;34m(\u001b[0m\u001b[0mself\u001b[0m\u001b[0;34m,\u001b[0m\u001b[0mstate\u001b[0m\u001b[0;34m)\u001b[0m\u001b[0;34m:\u001b[0m\u001b[0;34m\u001b[0m\u001b[0;34m\u001b[0m\u001b[0m\n",
      "\u001b[0;32m~/anaconda3/envs/tf/lib/python3.7/site-packages/tensorflow/python/keras/engine/training.py\u001b[0m in \u001b[0;36m_method_wrapper\u001b[0;34m(self, *args, **kwargs)\u001b[0m\n\u001b[1;32m    128\u001b[0m       raise ValueError('{} is not supported in multi-worker mode.'.format(\n\u001b[1;32m    129\u001b[0m           method.__name__))\n\u001b[0;32m--> 130\u001b[0;31m     \u001b[0;32mreturn\u001b[0m \u001b[0mmethod\u001b[0m\u001b[0;34m(\u001b[0m\u001b[0mself\u001b[0m\u001b[0;34m,\u001b[0m \u001b[0;34m*\u001b[0m\u001b[0margs\u001b[0m\u001b[0;34m,\u001b[0m \u001b[0;34m**\u001b[0m\u001b[0mkwargs\u001b[0m\u001b[0;34m)\u001b[0m\u001b[0;34m\u001b[0m\u001b[0;34m\u001b[0m\u001b[0m\n\u001b[0m\u001b[1;32m    131\u001b[0m \u001b[0;34m\u001b[0m\u001b[0m\n\u001b[1;32m    132\u001b[0m   return tf_decorator.make_decorator(\n",
      "\u001b[0;32m~/anaconda3/envs/tf/lib/python3.7/site-packages/tensorflow/python/keras/engine/training.py\u001b[0m in \u001b[0;36mpredict\u001b[0;34m(self, x, batch_size, verbose, steps, callbacks, max_queue_size, workers, use_multiprocessing)\u001b[0m\n\u001b[1;32m   1597\u001b[0m           \u001b[0;32mfor\u001b[0m \u001b[0mstep\u001b[0m \u001b[0;32min\u001b[0m \u001b[0mdata_handler\u001b[0m\u001b[0;34m.\u001b[0m\u001b[0msteps\u001b[0m\u001b[0;34m(\u001b[0m\u001b[0;34m)\u001b[0m\u001b[0;34m:\u001b[0m\u001b[0;34m\u001b[0m\u001b[0;34m\u001b[0m\u001b[0m\n\u001b[1;32m   1598\u001b[0m             \u001b[0mcallbacks\u001b[0m\u001b[0;34m.\u001b[0m\u001b[0mon_predict_batch_begin\u001b[0m\u001b[0;34m(\u001b[0m\u001b[0mstep\u001b[0m\u001b[0;34m)\u001b[0m\u001b[0;34m\u001b[0m\u001b[0;34m\u001b[0m\u001b[0m\n\u001b[0;32m-> 1599\u001b[0;31m             \u001b[0mtmp_batch_outputs\u001b[0m \u001b[0;34m=\u001b[0m \u001b[0mpredict_function\u001b[0m\u001b[0;34m(\u001b[0m\u001b[0miterator\u001b[0m\u001b[0;34m)\u001b[0m\u001b[0;34m\u001b[0m\u001b[0;34m\u001b[0m\u001b[0m\n\u001b[0m\u001b[1;32m   1600\u001b[0m             \u001b[0;32mif\u001b[0m \u001b[0mdata_handler\u001b[0m\u001b[0;34m.\u001b[0m\u001b[0mshould_sync\u001b[0m\u001b[0;34m:\u001b[0m\u001b[0;34m\u001b[0m\u001b[0;34m\u001b[0m\u001b[0m\n\u001b[1;32m   1601\u001b[0m               \u001b[0mcontext\u001b[0m\u001b[0;34m.\u001b[0m\u001b[0masync_wait\u001b[0m\u001b[0;34m(\u001b[0m\u001b[0;34m)\u001b[0m\u001b[0;34m\u001b[0m\u001b[0;34m\u001b[0m\u001b[0m\n",
      "\u001b[0;32m~/anaconda3/envs/tf/lib/python3.7/site-packages/tensorflow/python/eager/def_function.py\u001b[0m in \u001b[0;36m__call__\u001b[0;34m(self, *args, **kwds)\u001b[0m\n\u001b[1;32m    778\u001b[0m       \u001b[0;32melse\u001b[0m\u001b[0;34m:\u001b[0m\u001b[0;34m\u001b[0m\u001b[0;34m\u001b[0m\u001b[0m\n\u001b[1;32m    779\u001b[0m         \u001b[0mcompiler\u001b[0m \u001b[0;34m=\u001b[0m \u001b[0;34m\"nonXla\"\u001b[0m\u001b[0;34m\u001b[0m\u001b[0;34m\u001b[0m\u001b[0m\n\u001b[0;32m--> 780\u001b[0;31m         \u001b[0mresult\u001b[0m \u001b[0;34m=\u001b[0m \u001b[0mself\u001b[0m\u001b[0;34m.\u001b[0m\u001b[0m_call\u001b[0m\u001b[0;34m(\u001b[0m\u001b[0;34m*\u001b[0m\u001b[0margs\u001b[0m\u001b[0;34m,\u001b[0m \u001b[0;34m**\u001b[0m\u001b[0mkwds\u001b[0m\u001b[0;34m)\u001b[0m\u001b[0;34m\u001b[0m\u001b[0;34m\u001b[0m\u001b[0m\n\u001b[0m\u001b[1;32m    781\u001b[0m \u001b[0;34m\u001b[0m\u001b[0m\n\u001b[1;32m    782\u001b[0m       \u001b[0mnew_tracing_count\u001b[0m \u001b[0;34m=\u001b[0m \u001b[0mself\u001b[0m\u001b[0;34m.\u001b[0m\u001b[0m_get_tracing_count\u001b[0m\u001b[0;34m(\u001b[0m\u001b[0;34m)\u001b[0m\u001b[0;34m\u001b[0m\u001b[0;34m\u001b[0m\u001b[0m\n",
      "\u001b[0;32m~/anaconda3/envs/tf/lib/python3.7/site-packages/tensorflow/python/eager/def_function.py\u001b[0m in \u001b[0;36m_call\u001b[0;34m(self, *args, **kwds)\u001b[0m\n\u001b[1;32m    821\u001b[0m       \u001b[0;31m# This is the first call of __call__, so we have to initialize.\u001b[0m\u001b[0;34m\u001b[0m\u001b[0;34m\u001b[0m\u001b[0;34m\u001b[0m\u001b[0m\n\u001b[1;32m    822\u001b[0m       \u001b[0minitializers\u001b[0m \u001b[0;34m=\u001b[0m \u001b[0;34m[\u001b[0m\u001b[0;34m]\u001b[0m\u001b[0;34m\u001b[0m\u001b[0;34m\u001b[0m\u001b[0m\n\u001b[0;32m--> 823\u001b[0;31m       \u001b[0mself\u001b[0m\u001b[0;34m.\u001b[0m\u001b[0m_initialize\u001b[0m\u001b[0;34m(\u001b[0m\u001b[0margs\u001b[0m\u001b[0;34m,\u001b[0m \u001b[0mkwds\u001b[0m\u001b[0;34m,\u001b[0m \u001b[0madd_initializers_to\u001b[0m\u001b[0;34m=\u001b[0m\u001b[0minitializers\u001b[0m\u001b[0;34m)\u001b[0m\u001b[0;34m\u001b[0m\u001b[0;34m\u001b[0m\u001b[0m\n\u001b[0m\u001b[1;32m    824\u001b[0m     \u001b[0;32mfinally\u001b[0m\u001b[0;34m:\u001b[0m\u001b[0;34m\u001b[0m\u001b[0;34m\u001b[0m\u001b[0m\n\u001b[1;32m    825\u001b[0m       \u001b[0;31m# At this point we know that the initialization is complete (or less\u001b[0m\u001b[0;34m\u001b[0m\u001b[0;34m\u001b[0m\u001b[0;34m\u001b[0m\u001b[0m\n",
      "\u001b[0;32m~/anaconda3/envs/tf/lib/python3.7/site-packages/tensorflow/python/eager/def_function.py\u001b[0m in \u001b[0;36m_initialize\u001b[0;34m(self, args, kwds, add_initializers_to)\u001b[0m\n\u001b[1;32m    695\u001b[0m     self._concrete_stateful_fn = (\n\u001b[1;32m    696\u001b[0m         self._stateful_fn._get_concrete_function_internal_garbage_collected(  # pylint: disable=protected-access\n\u001b[0;32m--> 697\u001b[0;31m             *args, **kwds))\n\u001b[0m\u001b[1;32m    698\u001b[0m \u001b[0;34m\u001b[0m\u001b[0m\n\u001b[1;32m    699\u001b[0m     \u001b[0;32mdef\u001b[0m \u001b[0minvalid_creator_scope\u001b[0m\u001b[0;34m(\u001b[0m\u001b[0;34m*\u001b[0m\u001b[0munused_args\u001b[0m\u001b[0;34m,\u001b[0m \u001b[0;34m**\u001b[0m\u001b[0munused_kwds\u001b[0m\u001b[0;34m)\u001b[0m\u001b[0;34m:\u001b[0m\u001b[0;34m\u001b[0m\u001b[0;34m\u001b[0m\u001b[0m\n",
      "\u001b[0;32m~/anaconda3/envs/tf/lib/python3.7/site-packages/tensorflow/python/eager/function.py\u001b[0m in \u001b[0;36m_get_concrete_function_internal_garbage_collected\u001b[0;34m(self, *args, **kwargs)\u001b[0m\n\u001b[1;32m   2853\u001b[0m       \u001b[0margs\u001b[0m\u001b[0;34m,\u001b[0m \u001b[0mkwargs\u001b[0m \u001b[0;34m=\u001b[0m \u001b[0;32mNone\u001b[0m\u001b[0;34m,\u001b[0m \u001b[0;32mNone\u001b[0m\u001b[0;34m\u001b[0m\u001b[0;34m\u001b[0m\u001b[0m\n\u001b[1;32m   2854\u001b[0m     \u001b[0;32mwith\u001b[0m \u001b[0mself\u001b[0m\u001b[0;34m.\u001b[0m\u001b[0m_lock\u001b[0m\u001b[0;34m:\u001b[0m\u001b[0;34m\u001b[0m\u001b[0;34m\u001b[0m\u001b[0m\n\u001b[0;32m-> 2855\u001b[0;31m       \u001b[0mgraph_function\u001b[0m\u001b[0;34m,\u001b[0m \u001b[0m_\u001b[0m\u001b[0;34m,\u001b[0m \u001b[0m_\u001b[0m \u001b[0;34m=\u001b[0m \u001b[0mself\u001b[0m\u001b[0;34m.\u001b[0m\u001b[0m_maybe_define_function\u001b[0m\u001b[0;34m(\u001b[0m\u001b[0margs\u001b[0m\u001b[0;34m,\u001b[0m \u001b[0mkwargs\u001b[0m\u001b[0;34m)\u001b[0m\u001b[0;34m\u001b[0m\u001b[0;34m\u001b[0m\u001b[0m\n\u001b[0m\u001b[1;32m   2856\u001b[0m     \u001b[0;32mreturn\u001b[0m \u001b[0mgraph_function\u001b[0m\u001b[0;34m\u001b[0m\u001b[0;34m\u001b[0m\u001b[0m\n\u001b[1;32m   2857\u001b[0m \u001b[0;34m\u001b[0m\u001b[0m\n",
      "\u001b[0;32m~/anaconda3/envs/tf/lib/python3.7/site-packages/tensorflow/python/eager/function.py\u001b[0m in \u001b[0;36m_maybe_define_function\u001b[0;34m(self, args, kwargs)\u001b[0m\n\u001b[1;32m   3211\u001b[0m \u001b[0;34m\u001b[0m\u001b[0m\n\u001b[1;32m   3212\u001b[0m       \u001b[0mself\u001b[0m\u001b[0;34m.\u001b[0m\u001b[0m_function_cache\u001b[0m\u001b[0;34m.\u001b[0m\u001b[0mmissed\u001b[0m\u001b[0;34m.\u001b[0m\u001b[0madd\u001b[0m\u001b[0;34m(\u001b[0m\u001b[0mcall_context_key\u001b[0m\u001b[0;34m)\u001b[0m\u001b[0;34m\u001b[0m\u001b[0;34m\u001b[0m\u001b[0m\n\u001b[0;32m-> 3213\u001b[0;31m       \u001b[0mgraph_function\u001b[0m \u001b[0;34m=\u001b[0m \u001b[0mself\u001b[0m\u001b[0;34m.\u001b[0m\u001b[0m_create_graph_function\u001b[0m\u001b[0;34m(\u001b[0m\u001b[0margs\u001b[0m\u001b[0;34m,\u001b[0m \u001b[0mkwargs\u001b[0m\u001b[0;34m)\u001b[0m\u001b[0;34m\u001b[0m\u001b[0;34m\u001b[0m\u001b[0m\n\u001b[0m\u001b[1;32m   3214\u001b[0m       \u001b[0mself\u001b[0m\u001b[0;34m.\u001b[0m\u001b[0m_function_cache\u001b[0m\u001b[0;34m.\u001b[0m\u001b[0mprimary\u001b[0m\u001b[0;34m[\u001b[0m\u001b[0mcache_key\u001b[0m\u001b[0;34m]\u001b[0m \u001b[0;34m=\u001b[0m \u001b[0mgraph_function\u001b[0m\u001b[0;34m\u001b[0m\u001b[0;34m\u001b[0m\u001b[0m\n\u001b[1;32m   3215\u001b[0m       \u001b[0;32mreturn\u001b[0m \u001b[0mgraph_function\u001b[0m\u001b[0;34m,\u001b[0m \u001b[0margs\u001b[0m\u001b[0;34m,\u001b[0m \u001b[0mkwargs\u001b[0m\u001b[0;34m\u001b[0m\u001b[0;34m\u001b[0m\u001b[0m\n",
      "\u001b[0;32m~/anaconda3/envs/tf/lib/python3.7/site-packages/tensorflow/python/eager/function.py\u001b[0m in \u001b[0;36m_create_graph_function\u001b[0;34m(self, args, kwargs, override_flat_arg_shapes)\u001b[0m\n\u001b[1;32m   3073\u001b[0m             \u001b[0marg_names\u001b[0m\u001b[0;34m=\u001b[0m\u001b[0marg_names\u001b[0m\u001b[0;34m,\u001b[0m\u001b[0;34m\u001b[0m\u001b[0;34m\u001b[0m\u001b[0m\n\u001b[1;32m   3074\u001b[0m             \u001b[0moverride_flat_arg_shapes\u001b[0m\u001b[0;34m=\u001b[0m\u001b[0moverride_flat_arg_shapes\u001b[0m\u001b[0;34m,\u001b[0m\u001b[0;34m\u001b[0m\u001b[0;34m\u001b[0m\u001b[0m\n\u001b[0;32m-> 3075\u001b[0;31m             capture_by_value=self._capture_by_value),\n\u001b[0m\u001b[1;32m   3076\u001b[0m         \u001b[0mself\u001b[0m\u001b[0;34m.\u001b[0m\u001b[0m_function_attributes\u001b[0m\u001b[0;34m,\u001b[0m\u001b[0;34m\u001b[0m\u001b[0;34m\u001b[0m\u001b[0m\n\u001b[1;32m   3077\u001b[0m         \u001b[0mfunction_spec\u001b[0m\u001b[0;34m=\u001b[0m\u001b[0mself\u001b[0m\u001b[0;34m.\u001b[0m\u001b[0mfunction_spec\u001b[0m\u001b[0;34m,\u001b[0m\u001b[0;34m\u001b[0m\u001b[0;34m\u001b[0m\u001b[0m\n",
      "\u001b[0;32m~/anaconda3/envs/tf/lib/python3.7/site-packages/tensorflow/python/framework/func_graph.py\u001b[0m in \u001b[0;36mfunc_graph_from_py_func\u001b[0;34m(name, python_func, args, kwargs, signature, func_graph, autograph, autograph_options, add_control_dependencies, arg_names, op_return_value, collections, capture_by_value, override_flat_arg_shapes)\u001b[0m\n\u001b[1;32m    984\u001b[0m         \u001b[0m_\u001b[0m\u001b[0;34m,\u001b[0m \u001b[0moriginal_func\u001b[0m \u001b[0;34m=\u001b[0m \u001b[0mtf_decorator\u001b[0m\u001b[0;34m.\u001b[0m\u001b[0munwrap\u001b[0m\u001b[0;34m(\u001b[0m\u001b[0mpython_func\u001b[0m\u001b[0;34m)\u001b[0m\u001b[0;34m\u001b[0m\u001b[0;34m\u001b[0m\u001b[0m\n\u001b[1;32m    985\u001b[0m \u001b[0;34m\u001b[0m\u001b[0m\n\u001b[0;32m--> 986\u001b[0;31m       \u001b[0mfunc_outputs\u001b[0m \u001b[0;34m=\u001b[0m \u001b[0mpython_func\u001b[0m\u001b[0;34m(\u001b[0m\u001b[0;34m*\u001b[0m\u001b[0mfunc_args\u001b[0m\u001b[0;34m,\u001b[0m \u001b[0;34m**\u001b[0m\u001b[0mfunc_kwargs\u001b[0m\u001b[0;34m)\u001b[0m\u001b[0;34m\u001b[0m\u001b[0;34m\u001b[0m\u001b[0m\n\u001b[0m\u001b[1;32m    987\u001b[0m \u001b[0;34m\u001b[0m\u001b[0m\n\u001b[1;32m    988\u001b[0m       \u001b[0;31m# invariant: `func_outputs` contains only Tensors, CompositeTensors,\u001b[0m\u001b[0;34m\u001b[0m\u001b[0;34m\u001b[0m\u001b[0;34m\u001b[0m\u001b[0m\n",
      "\u001b[0;32m~/anaconda3/envs/tf/lib/python3.7/site-packages/tensorflow/python/eager/def_function.py\u001b[0m in \u001b[0;36mwrapped_fn\u001b[0;34m(*args, **kwds)\u001b[0m\n\u001b[1;32m    598\u001b[0m         \u001b[0;31m# __wrapped__ allows AutoGraph to swap in a converted function. We give\u001b[0m\u001b[0;34m\u001b[0m\u001b[0;34m\u001b[0m\u001b[0;34m\u001b[0m\u001b[0m\n\u001b[1;32m    599\u001b[0m         \u001b[0;31m# the function a weak reference to itself to avoid a reference cycle.\u001b[0m\u001b[0;34m\u001b[0m\u001b[0;34m\u001b[0m\u001b[0;34m\u001b[0m\u001b[0m\n\u001b[0;32m--> 600\u001b[0;31m         \u001b[0;32mreturn\u001b[0m \u001b[0mweak_wrapped_fn\u001b[0m\u001b[0;34m(\u001b[0m\u001b[0;34m)\u001b[0m\u001b[0;34m.\u001b[0m\u001b[0m__wrapped__\u001b[0m\u001b[0;34m(\u001b[0m\u001b[0;34m*\u001b[0m\u001b[0margs\u001b[0m\u001b[0;34m,\u001b[0m \u001b[0;34m**\u001b[0m\u001b[0mkwds\u001b[0m\u001b[0;34m)\u001b[0m\u001b[0;34m\u001b[0m\u001b[0;34m\u001b[0m\u001b[0m\n\u001b[0m\u001b[1;32m    601\u001b[0m     \u001b[0mweak_wrapped_fn\u001b[0m \u001b[0;34m=\u001b[0m \u001b[0mweakref\u001b[0m\u001b[0;34m.\u001b[0m\u001b[0mref\u001b[0m\u001b[0;34m(\u001b[0m\u001b[0mwrapped_fn\u001b[0m\u001b[0;34m)\u001b[0m\u001b[0;34m\u001b[0m\u001b[0;34m\u001b[0m\u001b[0m\n\u001b[1;32m    602\u001b[0m \u001b[0;34m\u001b[0m\u001b[0m\n",
      "\u001b[0;32m~/anaconda3/envs/tf/lib/python3.7/site-packages/tensorflow/python/framework/func_graph.py\u001b[0m in \u001b[0;36mwrapper\u001b[0;34m(*args, **kwargs)\u001b[0m\n\u001b[1;32m    971\u001b[0m           \u001b[0;32mexcept\u001b[0m \u001b[0mException\u001b[0m \u001b[0;32mas\u001b[0m \u001b[0me\u001b[0m\u001b[0;34m:\u001b[0m  \u001b[0;31m# pylint:disable=broad-except\u001b[0m\u001b[0;34m\u001b[0m\u001b[0;34m\u001b[0m\u001b[0m\n\u001b[1;32m    972\u001b[0m             \u001b[0;32mif\u001b[0m \u001b[0mhasattr\u001b[0m\u001b[0;34m(\u001b[0m\u001b[0me\u001b[0m\u001b[0;34m,\u001b[0m \u001b[0;34m\"ag_error_metadata\"\u001b[0m\u001b[0;34m)\u001b[0m\u001b[0;34m:\u001b[0m\u001b[0;34m\u001b[0m\u001b[0;34m\u001b[0m\u001b[0m\n\u001b[0;32m--> 973\u001b[0;31m               \u001b[0;32mraise\u001b[0m \u001b[0me\u001b[0m\u001b[0;34m.\u001b[0m\u001b[0mag_error_metadata\u001b[0m\u001b[0;34m.\u001b[0m\u001b[0mto_exception\u001b[0m\u001b[0;34m(\u001b[0m\u001b[0me\u001b[0m\u001b[0;34m)\u001b[0m\u001b[0;34m\u001b[0m\u001b[0;34m\u001b[0m\u001b[0m\n\u001b[0m\u001b[1;32m    974\u001b[0m             \u001b[0;32melse\u001b[0m\u001b[0;34m:\u001b[0m\u001b[0;34m\u001b[0m\u001b[0;34m\u001b[0m\u001b[0m\n\u001b[1;32m    975\u001b[0m               \u001b[0;32mraise\u001b[0m\u001b[0;34m\u001b[0m\u001b[0;34m\u001b[0m\u001b[0m\n",
      "\u001b[0;31mValueError\u001b[0m: in user code:\n\n    /Users/vac/anaconda3/envs/tf/lib/python3.7/site-packages/tensorflow/python/keras/engine/training.py:1462 predict_function  *\n        return step_function(self, iterator)\n    /Users/vac/anaconda3/envs/tf/lib/python3.7/site-packages/tensorflow/python/keras/engine/training.py:1452 step_function  **\n        outputs = model.distribute_strategy.run(run_step, args=(data,))\n    /Users/vac/anaconda3/envs/tf/lib/python3.7/site-packages/tensorflow/python/distribute/distribute_lib.py:1211 run\n        return self._extended.call_for_each_replica(fn, args=args, kwargs=kwargs)\n    /Users/vac/anaconda3/envs/tf/lib/python3.7/site-packages/tensorflow/python/distribute/distribute_lib.py:2585 call_for_each_replica\n        return self._call_for_each_replica(fn, args, kwargs)\n    /Users/vac/anaconda3/envs/tf/lib/python3.7/site-packages/tensorflow/python/distribute/distribute_lib.py:2945 _call_for_each_replica\n        return fn(*args, **kwargs)\n    /Users/vac/anaconda3/envs/tf/lib/python3.7/site-packages/tensorflow/python/keras/engine/training.py:1445 run_step  **\n        outputs = model.predict_step(data)\n    /Users/vac/anaconda3/envs/tf/lib/python3.7/site-packages/tensorflow/python/keras/engine/training.py:1418 predict_step\n        return self(x, training=False)\n    /Users/vac/anaconda3/envs/tf/lib/python3.7/site-packages/tensorflow/python/keras/engine/base_layer.py:976 __call__\n        self.name)\n    /Users/vac/anaconda3/envs/tf/lib/python3.7/site-packages/tensorflow/python/keras/engine/input_spec.py:216 assert_input_compatibility\n        ' but received input with shape ' + str(shape))\n\n    ValueError: Input 0 of layer sequential_4 is incompatible with the layer: expected axis -1 of input shape to have value 2 but received input with shape [None, 1]\n"
     ]
    }
   ],
   "source": [
    "for ep in range(EPOCHS):\n",
    "    loss        = []\n",
    "    accuracy    = []\n",
    "    reward_list = []\n",
    "    max_q_list  = []\n",
    "    images      = []\n",
    "    ob = env.reset()\n",
    "    \n",
    "    step = 0\n",
    "    while(1):\n",
    "        if agent.EPSILON > EPSILON_END:\n",
    "            agent.EPSILON -= epsilon_decay\n",
    "        else:\n",
    "            agent.EPSILON = EPSILON_END\n",
    "        \n",
    "        images.append(env.render(mode='rgb_array'))\n",
    "        \n",
    "        act,max_q = agent.get_action(ob)\n",
    "        ob_next, reward, done, info = env.step(act)\n",
    "        \n",
    "        agent.memo_append([obb, act, reward, ob_next, done])\n",
    "        \n",
    "        history = agent.train()\n",
    "        agent.target_model_update()\n",
    "        \n",
    "        if history:\n",
    "            loss.append(history['loss'][0])\n",
    "            accuracy.append(history['accuracy'][0])\n",
    "\n",
    "        max_q_list.append(max_q)\n",
    "        reward_list.append(max_q)\n",
    "        ob = ob_next\n",
    "        step +=1\n",
    "        if done:\n",
    "            break\n",
    "    \n",
    "    reward_summary.append(np.amax(reward_list))\n",
    "    max_q_summary.append(np.amax(max_q_list))\n",
    "    \n",
    "    out = \"\\nEpoch {} \\tepsilon: {:0.5f} \\tsum_rewards: {} \\tmax_q:{:e} \\t\".format(ep,agent.EPSILON,reward_summary[-1],max_q_summary[-1])\n",
    "    log_file.write(out)\n",
    "    print(out,end=\" \")\n",
    "    \n",
    "    if len(loss):\n",
    "        history_summary['loss'].append(sum(loss)/len(loss))\n",
    "        history_summary['accuracy'].append(sum(accuracy)/len(accuracy))\n",
    "        out = \"ave loss: {:e} \\tave accuracy: {:e}\\t\".format(history_summary['loss'][-1],history_summary['accuracy'][-1])\n",
    "        log_file.write(out)\n",
    "        print(out,end=\" \")\n",
    "    log_file.close()\n",
    "    imageio.mimsave(os.path.join(DIR_GIF,str(ep)+'_step_'+str(step)+'_r_'+reward_summary[-1]+'.gif'),images,fps=60)\n",
    "    \n",
    "    \n",
    "    \n",
    "    "
   ]
  },
  {
   "cell_type": "code",
   "execution_count": 56,
   "metadata": {
    "execution": {
     "iopub.execute_input": "2020-12-16T04:04:47.071007Z",
     "iopub.status.busy": "2020-12-16T04:04:47.070519Z",
     "iopub.status.idle": "2020-12-16T04:04:47.077652Z",
     "shell.execute_reply": "2020-12-16T04:04:47.076479Z",
     "shell.execute_reply.started": "2020-12-16T04:04:47.070952Z"
    }
   },
   "outputs": [
    {
     "name": "stdout",
     "output_type": "stream",
     "text": [
      "(2,)\n"
     ]
    }
   ],
   "source": [
    "print(ob.shape)"
   ]
  },
  {
   "cell_type": "code",
   "execution_count": 43,
   "metadata": {
    "execution": {
     "iopub.execute_input": "2020-12-16T03:55:59.176199Z",
     "iopub.status.busy": "2020-12-16T03:55:59.175923Z",
     "iopub.status.idle": "2020-12-16T03:55:59.664079Z",
     "shell.execute_reply": "2020-12-16T03:55:59.663533Z",
     "shell.execute_reply.started": "2020-12-16T03:55:59.176170Z"
    }
   },
   "outputs": [
    {
     "name": "stdout",
     "output_type": "stream",
     "text": [
      "Show the reward every ep\n"
     ]
    },
    {
     "data": {
      "image/png": "[encoded data removed]",
      "text/plain": [
       "<Figure size 432x288 with 1 Axes>"
      ]
     },
     "metadata": {
      "needs_background": "light"
     },
     "output_type": "display_data"
    },
    {
     "data": {
      "image/png": "[encoded data removed]",
      "text/plain": [
       "<Figure size 432x288 with 1 Axes>"
      ]
     },
     "metadata": {
      "needs_background": "light"
     },
     "output_type": "display_data"
    }
   ],
   "source": [
    "print('Show the reward every ep')\n",
    "plt.figure()\n",
    "plt.plot(reward_summary)\n",
    "plt.title('sum reward')\n",
    "plt.savefig(DIR + '/rewards_sum.png')\n",
    "plt.figure()\n",
    "plt.plot(history_summary['loss'],label='loss')\n",
    "plt.plot(history_summary['accuracy'],label='accuracy')\n",
    "plt.legend(loc=2)\n",
    "plt.savefig(DIR + '/loss_accuracy.png')\n",
    "plt.figure()\n",
    "plt.plot(max_q_summary)\n",
    "plt.title(\"Max Q Value\")\n",
    "plt.savefig(DIR + '/max_q.png')"
   ]
  },
  {
   "cell_type": "code",
   "execution_count": null,
   "metadata": {},
   "outputs": [],
   "source": [
    "ob = env.reset()\n",
    "images = []\n",
    "reward_list =[]\n",
    "step = 0\n",
    "while(1):\n",
    "    images.append(env.render(mode='rgb_array'))\n",
    "    act = np.argmax(agent.get_q_value(ob))\n",
    "\n",
    "    ob_next,reward,done,info = env.step(act)\n",
    "   \n",
    "    reward_list.append(reward)\n",
    "    step +=1\n",
    "    ob = ob_next\n",
    "    \n",
    "    if done :\n",
    "        break\n",
    "imageio.mimsave(os.path.join(DIR,s'final_step_'+str(step)+'_r_'+np.amax(reward_list)+'.gif'),images,fps=60)\n",
    "\n"
   ]
  },
  {
   "cell_type": "code",
   "execution_count": 11,
   "metadata": {
    "execution": {
     "iopub.execute_input": "2020-12-16T03:06:52.190181Z",
     "iopub.status.busy": "2020-12-16T03:06:52.189669Z",
     "iopub.status.idle": "2020-12-16T03:06:52.194956Z",
     "shell.execute_reply": "2020-12-16T03:06:52.193911Z",
     "shell.execute_reply.started": "2020-12-16T03:06:52.190119Z"
    }
   },
   "outputs": [],
   "source": [
    "DIR_GIF = \"test_gif\"\n",
    "try:\n",
    "    os.mkdir(DIR_GIF)\n",
    "except:\n",
    "    pass"
   ]
  },
  {
   "cell_type": "code",
   "execution_count": 14,
   "metadata": {
    "execution": {
     "iopub.execute_input": "2020-12-16T03:07:29.802517Z",
     "iopub.status.busy": "2020-12-16T03:07:29.802039Z",
     "iopub.status.idle": "2020-12-16T03:07:32.515814Z",
     "shell.execute_reply": "2020-12-16T03:07:32.514729Z",
     "shell.execute_reply.started": "2020-12-16T03:07:29.802421Z"
    }
   },
   "outputs": [
    {
     "name": "stdout",
     "output_type": "stream",
     "text": [
      "1\n",
      "1\n",
      "2\n",
      "2\n",
      "1\n",
      "2\n",
      "2\n",
      "1\n",
      "1\n",
      "1\n",
      "2\n",
      "1\n",
      "2\n",
      "2\n",
      "2\n",
      "1\n",
      "0\n",
      "0\n",
      "2\n",
      "0\n",
      "1\n",
      "2\n",
      "2\n",
      "1\n",
      "1\n",
      "1\n",
      "1\n",
      "1\n",
      "0\n",
      "2\n",
      "0\n",
      "0\n",
      "0\n",
      "2\n",
      "1\n",
      "0\n",
      "2\n",
      "0\n",
      "2\n",
      "2\n"
     ]
    }
   ],
   "source": [
    "images=[]\n",
    "for _ in range(40):\n",
    "    images.append(env.render(mode='rgb_array'))\n",
    "    act = env.action_space.sample()\n",
    "    print(act)\n",
    "    ob_next, reward, done, info  = env.step(act)\n",
    "    if done:\n",
    "        break\n",
    "imageio.mimsave(os.path.join(DIR_GIF,'test.gif'),images,fps=60)"
   ]
  },
  {
   "cell_type": "code",
   "execution_count": 13,
   "metadata": {
    "execution": {
     "iopub.execute_input": "2020-12-16T03:07:19.702190Z",
     "iopub.status.busy": "2020-12-16T03:07:19.701791Z",
     "iopub.status.idle": "2020-12-16T03:07:20.816867Z",
     "shell.execute_reply": "2020-12-16T03:07:20.815940Z",
     "shell.execute_reply.started": "2020-12-16T03:07:19.702146Z"
    }
   },
   "outputs": [],
   "source": [
    "imageio.mimsave(os.path.join(DIR_GIF,'test.gif'),images,fps=60)"
   ]
  },
  {
   "cell_type": "code",
   "execution_count": null,
   "metadata": {},
   "outputs": [],
   "source": []
  }
 ],
 "metadata": {
  "kernelspec": {
   "display_name": "Python 3",
   "language": "python",
   "name": "python3"
  },
  "language_info": {
   "codemirror_mode": {
    "name": "ipython",
    "version": 3
   },
   "file_extension": ".py",
   "mimetype": "text/x-python",
   "name": "python",
   "nbconvert_exporter": "python",
   "pygments_lexer": "ipython3",
   "version": "3.7.9"
  }
 },
 "nbformat": 4,
 "nbformat_minor": 4
}
